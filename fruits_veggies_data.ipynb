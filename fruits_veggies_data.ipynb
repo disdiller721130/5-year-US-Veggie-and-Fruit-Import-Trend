{
 "cells": [
  {
   "cell_type": "code",
   "execution_count": 86,
   "metadata": {},
   "outputs": [],
   "source": [
    "%matplotlib inline\n",
    "from matplotlib import style\n",
    "style.use('fivethirtyeight')\n",
    "import matplotlib.pyplot as plt\n",
    "import seaborn as sns\n"
   ]
  },
  {
   "cell_type": "code",
   "execution_count": 87,
   "metadata": {},
   "outputs": [],
   "source": [
    "import numpy as np\n",
    "import pandas as pd\n",
    "from collections import defaultdict"
   ]
  },
  {
   "cell_type": "code",
   "execution_count": 88,
   "metadata": {},
   "outputs": [],
   "source": [
    "import datetime as dt\n",
    "from dateutil.relativedelta import relativedelta"
   ]
  },
  {
   "cell_type": "code",
   "execution_count": 89,
   "metadata": {},
   "outputs": [],
   "source": [
    "# Python SQL toolkit and Object Relational Mapper\n",
    "import sqlalchemy\n",
    "from sqlalchemy.ext.automap import automap_base\n",
    "from sqlalchemy.orm import Session\n",
    "from sqlalchemy import create_engine, func, inspect\n",
    "from sqlalchemy import desc"
   ]
  },
  {
   "cell_type": "code",
   "execution_count": 90,
   "metadata": {},
   "outputs": [],
   "source": [
    "engine = create_engine(\"sqlite:///db/Veggie_Fruit_DB.sqlite\")"
   ]
  },
  {
   "cell_type": "code",
   "execution_count": 91,
   "metadata": {},
   "outputs": [],
   "source": [
    "# reflect an existing database into a new model\n",
    "Base = automap_base()\n",
    "# reflect the tables\n",
    "Base.prepare(engine, reflect=True)"
   ]
  },
  {
   "cell_type": "code",
   "execution_count": 92,
   "metadata": {},
   "outputs": [
    {
     "data": {
      "text/plain": [
       "['fruitexportdest',\n",
       " 'fruitexportval',\n",
       " 'fruitimportsource',\n",
       " 'fruitimportval',\n",
       " 'veggieexportdest',\n",
       " 'veggieexportval',\n",
       " 'veggieimportsource',\n",
       " 'veggieimportval']"
      ]
     },
     "execution_count": 92,
     "metadata": {},
     "output_type": "execute_result"
    }
   ],
   "source": [
    "# We can view all of the classes that automap found\n",
    "Base.classes.keys()"
   ]
  },
  {
   "cell_type": "code",
   "execution_count": 93,
   "metadata": {},
   "outputs": [
    {
     "data": {
      "text/plain": [
       "['fruitexportdest',\n",
       " 'fruitexportval',\n",
       " 'fruitimportsource',\n",
       " 'fruitimportval',\n",
       " 'veggieexportdest',\n",
       " 'veggieexportval',\n",
       " 'veggieimportsource',\n",
       " 'veggieimportval']"
      ]
     },
     "execution_count": 93,
     "metadata": {},
     "output_type": "execute_result"
    }
   ],
   "source": [
    "inspector=inspect(engine)\n",
    "inspector.get_table_names()"
   ]
  },
  {
   "cell_type": "code",
   "execution_count": 94,
   "metadata": {},
   "outputs": [
    {
     "name": "stdout",
     "output_type": "stream",
     "text": [
      "id\n",
      "product\n",
      "flow\n",
      "country\n",
      "share\n",
      "avg\n",
      "yr15\n",
      "yr16\n",
      "yr17\n",
      "yr18\n",
      "yr19\n",
      "lat\n",
      "lon\n"
     ]
    }
   ],
   "source": [
    "measurement_columns = inspector.get_columns('veggieexportdest')\n",
    "for c in measurement_columns:\n",
    "    print(c['name'])"
   ]
  },
  {
   "cell_type": "code",
   "execution_count": 95,
   "metadata": {},
   "outputs": [],
   "source": [
    "# Save references to each table\n",
    "# FED = FruistExportDestination, FEV =FruitExportValue, FIS =FruitImportSource,FIV=FruitImportValue\n",
    "# VED =VeggieExportDestination, VEV=VeggieExportValue, VIS=VeggieImportSource, VIV=VeggieImportValue\n",
    "FED = Base.classes.fruitexportdest\n",
    "# FEV = Base.classes.fruitexportval\n",
    "FIS = Base.classes.fruitimportsource\n",
    "# FIV = Base.classes.fruitimportval\n",
    "VED = Base.classes.veggieexportdest\n",
    "# VEV = Base.classes.veggieexportval\n",
    "VIS = Base.classes.veggieimportsource\n",
    "# VIV = Base.classes.veggieimportval\n"
   ]
  },
  {
   "cell_type": "code",
   "execution_count": 96,
   "metadata": {},
   "outputs": [],
   "source": [
    "# Create our session (link) from Python to the DB\n",
    "session = Session(engine)"
   ]
  },
  {
   "cell_type": "code",
   "execution_count": 132,
   "metadata": {},
   "outputs": [
    {
     "data": {
      "text/plain": [
       "['artichoke',\n",
       " 'beet',\n",
       " 'broccoli',\n",
       " 'carrot',\n",
       " 'green pea',\n",
       " 'mushroom',\n",
       " 'onion',\n",
       " 'pepper',\n",
       " 'potato',\n",
       " 'sweet corn']"
      ]
     },
     "execution_count": 132,
     "metadata": {},
     "output_type": "execute_result"
    }
   ],
   "source": [
    "sel = [VED.product, VED.country, VED.share]\n",
    "market_year = session.query(*sel).statement\n",
    "mkt_yr_df = pd.read_sql_query(market_year, con = engine)\n",
    "product_df = mkt_yr_df.groupby(['product']).count()\n",
    "product_list = product_df.index.values.tolist()\n",
    "product_list"
   ]
  },
  {
   "cell_type": "code",
   "execution_count": 131,
   "metadata": {},
   "outputs": [
    {
     "data": {
      "text/html": [
       "<div>\n",
       "<style scoped>\n",
       "    .dataframe tbody tr th:only-of-type {\n",
       "        vertical-align: middle;\n",
       "    }\n",
       "\n",
       "    .dataframe tbody tr th {\n",
       "        vertical-align: top;\n",
       "    }\n",
       "\n",
       "    .dataframe thead th {\n",
       "        text-align: right;\n",
       "    }\n",
       "</style>\n",
       "<table border=\"1\" class=\"dataframe\">\n",
       "  <thead>\n",
       "    <tr style=\"text-align: right;\">\n",
       "      <th></th>\n",
       "      <th>product</th>\n",
       "      <th>country</th>\n",
       "      <th>share</th>\n",
       "    </tr>\n",
       "  </thead>\n",
       "  <tbody>\n",
       "    <tr>\n",
       "      <th>0</th>\n",
       "      <td>Apple</td>\n",
       "      <td>Mexico</td>\n",
       "      <td>26.40%</td>\n",
       "    </tr>\n",
       "    <tr>\n",
       "      <th>1</th>\n",
       "      <td>Apple</td>\n",
       "      <td>Canada</td>\n",
       "      <td>17.10%</td>\n",
       "    </tr>\n",
       "    <tr>\n",
       "      <th>2</th>\n",
       "      <td>Apple</td>\n",
       "      <td>India</td>\n",
       "      <td>10.10%</td>\n",
       "    </tr>\n",
       "    <tr>\n",
       "      <th>3</th>\n",
       "      <td>Apple</td>\n",
       "      <td>Taiwan</td>\n",
       "      <td>8.10%</td>\n",
       "    </tr>\n",
       "    <tr>\n",
       "      <th>4</th>\n",
       "      <td>Apple</td>\n",
       "      <td>Vietnam</td>\n",
       "      <td>4.40%</td>\n",
       "    </tr>\n",
       "  </tbody>\n",
       "</table>\n",
       "</div>"
      ],
      "text/plain": [
       "  product  country   share\n",
       "0   Apple   Mexico  26.40%\n",
       "1   Apple   Canada  17.10%\n",
       "2   Apple    India  10.10%\n",
       "3   Apple   Taiwan   8.10%\n",
       "4   Apple  Vietnam   4.40%"
      ]
     },
     "execution_count": 131,
     "metadata": {},
     "output_type": "execute_result"
    }
   ],
   "source": [
    "sel = [FED.product, FED.country, FED.share]\n",
    "fruit_summary = session.query(*sel).statement\n",
    "fruit_summary_df = pd.read_sql_query(fruit_summary, con = engine)\n",
    "fruit_df = fruit_summary_df.groupby(['product']).count()\n",
    "fruit_list = fruit_df.index.values.tolist()\n",
    "fruit_summary_df.head()"
   ]
  },
  {
   "cell_type": "code",
   "execution_count": 129,
   "metadata": {},
   "outputs": [
    {
     "data": {
      "text/plain": [
       "[{'Country': 'Canada',\n",
       "  'Type': 'veggie',\n",
       "  'Share': 46.1,\n",
       "  'lat': 56.130366,\n",
       "  'lon': -106.346771},\n",
       " {'Country': 'Mexico',\n",
       "  'Type': 'veggie',\n",
       "  'Share': 21.0,\n",
       "  'lat': 23.634501,\n",
       "  'lon': -102.552784},\n",
       " {'Country': 'Japan',\n",
       "  'Type': 'veggie',\n",
       "  'Share': 7.4,\n",
       "  'lat': 36.204824,\n",
       "  'lon': 138.252924},\n",
       " {'Country': 'Taiwan',\n",
       "  'Type': 'veggie',\n",
       "  'Share': 5.7,\n",
       "  'lat': 23.69781,\n",
       "  'lon': 120.960515},\n",
       " {'Country': 'Korea, South',\n",
       "  'Type': 'veggie',\n",
       "  'Share': 4.5,\n",
       "  'lat': 35.907757,\n",
       "  'lon': 127.766922}]"
      ]
     },
     "execution_count": 129,
     "metadata": {},
     "output_type": "execute_result"
    }
   ],
   "source": [
    "sel = [VED.product, VED.country, VED.share, VED.lat, VED.lon]\n",
    "results = session.query(*sel).filter(VED.product == 'potato').all()\n",
    "veggie_list = []\n",
    "for result in results:\n",
    "    veggie_country = {}\n",
    "    veggie_country[\"Country\"] = result[1]\n",
    "    veggie_country[\"Type\"] = \"veggie\"\n",
    "    veggie_country[\"Share\"] = float(result[2].replace('%',''))\n",
    "    veggie_country[\"lat\"] = result[3]\n",
    "    veggie_country[\"lon\"] = result[4]\n",
    "    veggie_list.append(veggie_country)\n",
    "\n",
    "veggie_list"
   ]
  },
  {
   "cell_type": "code",
   "execution_count": 98,
   "metadata": {},
   "outputs": [
    {
     "data": {
      "text/plain": [
       "[{'Country': 'Mexico',\n",
       "  'MS17': 25.7,\n",
       "  'MS18': 22.3,\n",
       "  'MSChange': -3.5,\n",
       "  'Value_yr17': 289339,\n",
       "  'Value_yr18': 175074},\n",
       " {'Country': 'Canada',\n",
       "  'MS17': 14.9,\n",
       "  'MS18': 13.6,\n",
       "  'MSChange': -1.3,\n",
       "  'Value_yr17': 167337,\n",
       "  'Value_yr18': 107007},\n",
       " {'Country': 'India',\n",
       "  'MS17': 15.5,\n",
       "  'MS18': 11.5,\n",
       "  'MSChange': -4.0,\n",
       "  'Value_yr17': 174179,\n",
       "  'Value_yr18': 90591},\n",
       " {'Country': 'Taiwan',\n",
       "  'MS17': 6.0,\n",
       "  'MS18': 8.2,\n",
       "  'MSChange': 2.3,\n",
       "  'Value_yr17': 67184,\n",
       "  'Value_yr18': 64703},\n",
       " {'Country': 'Japan',\n",
       "  'MS17': 3.0,\n",
       "  'MS18': 5.0,\n",
       "  'MSChange': 2.0,\n",
       "  'Value_yr17': 33401,\n",
       "  'Value_yr18': 39167}]"
      ]
     },
     "execution_count": 98,
     "metadata": {},
     "output_type": "execute_result"
    }
   ],
   "source": [
    "fe_summary = session.query(FED.country,FED.yr17,FED.yr18).group_by(FED.country).order_by(FED.yr18.desc()).all()\n",
    "fe_summary_df = pd.DataFrame(fe_summary, columns=['country', 'yr17', 'yr18'])\n",
    "fe_summary_df['yr17'] = fe_summary_df['yr17'].str.replace(',', '')\n",
    "fe_summary_df['yr18'] = fe_summary_df['yr18'].str.replace(',', '')\n",
    "fe_summary_df=fe_summary_df.dropna(how=\"any\")\n",
    "fe_summary_df[\"yr17\"] = pd.to_numeric(fe_summary_df[\"yr17\"])\n",
    "fe_summary_df[\"yr18\"] = pd.to_numeric(fe_summary_df[\"yr18\"])\n",
    "\n",
    "ve_summary = session.query(VED.country,VED.yr17,VED.yr18).group_by(VED.country).order_by(VED.yr18.desc()).all()\n",
    "ve_summary_df = pd.DataFrame(ve_summary, columns=['country', 'yr17', 'yr18'])\n",
    "ve_summary_df['yr17'] = ve_summary_df['yr17'].str.replace(',', '')\n",
    "ve_summary_df['yr18'] = ve_summary_df['yr18'].str.replace(',', '')\n",
    "ve_summary_df=ve_summary_df.dropna(how=\"any\")\n",
    "ve_summary_df[\"yr17\"] = pd.to_numeric(ve_summary_df[\"yr17\"])\n",
    "ve_summary_df[\"yr18\"] = pd.to_numeric(ve_summary_df[\"yr18\"])\n",
    "\n",
    "esummary_frames = [ve_summary_df, fe_summary_df]\n",
    "summary_export = pd.concat(esummary_frames,ignore_index=False)\n",
    "summary_export = summary_export.sort_values(['yr17', 'yr18'], ascending=False)\n",
    "export_yr17sum=summary_export['yr17'].sum()\n",
    "export_yr18sum=summary_export['yr18'].sum()\n",
    "\n",
    "\n",
    "e_ms17=summary_export['yr17']/export_yr17sum*100\n",
    "e_ms18=summary_export['yr18']/export_yr18sum*100\n",
    "summary_export[\"MarketShare(2017)\"]=e_ms17\n",
    "summary_export[\"MarketShare(2018)\"]=e_ms18\n",
    "summary_export[\"ChangeInMarketShare\"] = e_ms18-e_ms17\n",
    "renamed_summary_export = summary_export.rename(columns={\"country\":\"Country\", \"MS 2017\":\"MarketShare(2017)\",\"MS 2018\":\"MarketShare(2018)\", \"Change in MS\":\"ChangeInMarketShare\",\"yr17\":\"Value(2017)\", \"yr18\":\"Value(2018)\"})\n",
    "summary_export = renamed_summary_export[[\"Country\",\"MarketShare(2017)\",\"MarketShare(2018)\",\"ChangeInMarketShare\", \"Value(2017)\", \"Value(2018)\"]]\n",
    "summary_export=summary_export.sort_values(['MarketShare(2018)'], ascending=False).head()\n",
    "Summary_Export = summary_export[[\"Country\", \"MarketShare(2017)\", \"MarketShare(2018)\", \"ChangeInMarketShare\", \"Value(2017)\", \"Value(2018)\"]]\n",
    "summary_export_list = []\n",
    "\n",
    "Summary_Export = Summary_Export.reset_index(drop=True)\n",
    "ms17_list = Summary_Export[\"MarketShare(2017)\"].tolist()\n",
    "ms18_list = Summary_Export[\"MarketShare(2018)\"].tolist()\n",
    "mschange_list = Summary_Export[\"ChangeInMarketShare\"].tolist()\n",
    "value_yr17 = Summary_Export[\"Value(2017)\"].tolist()\n",
    "value_yr18 = Summary_Export[\"Value(2018)\"].tolist()\n",
    "\n",
    "country_list = Summary_Export[\"Country\"].tolist()\n",
    "for i in range(len(country_list)):\n",
    "    summary_report_dict = {}\n",
    "    summary_report_dict[\"Country\"] = country_list[i]\n",
    "    summary_report_dict[\"MS17\"] = round(ms17_list[i],1)\n",
    "    summary_report_dict[\"MS18\"] = round(ms18_list[i],1)\n",
    "    summary_report_dict[\"MSChange\"] = round(mschange_list[i],1)\n",
    "    summary_report_dict[\"Value_yr17\"] = value_yr17[i]\n",
    "    summary_report_dict[\"Value_yr18\"] = value_yr18[i]\n",
    "    \n",
    "    summary_export_list.append(summary_report_dict)\n",
    "summary_export_list"
   ]
  },
  {
   "cell_type": "code",
   "execution_count": 99,
   "metadata": {},
   "outputs": [
    {
     "data": {
      "text/plain": [
       "[{'Country': 'Chile',\n",
       "  'MS17': 31.5,\n",
       "  'MS18': 12.1,\n",
       "  'MSChange': -19.4,\n",
       "  'Value_yr17': 104232,\n",
       "  'Value_yr18': 175074},\n",
       " {'Country': 'New Zealand',\n",
       "  'MS17': 23.4,\n",
       "  'MS18': 12.1,\n",
       "  'MSChange': -11.4,\n",
       "  'Value_yr17': 77678,\n",
       "  'Value_yr18': 175074},\n",
       " {'Country': 'Canada',\n",
       "  'MS17': 11.3,\n",
       "  'MS18': 12.1,\n",
       "  'MSChange': 0.7,\n",
       "  'Value_yr17': 37604,\n",
       "  'Value_yr18': 175074},\n",
       " {'Country': 'Dominican Republic',\n",
       "  'MS17': 9.8,\n",
       "  'MS18': 12.1,\n",
       "  'MSChange': 2.3,\n",
       "  'Value_yr17': 32344,\n",
       "  'Value_yr18': 175074},\n",
       " {'Country': 'Argentina',\n",
       "  'MS17': 5.2,\n",
       "  'MS18': 12.1,\n",
       "  'MSChange': 6.9,\n",
       "  'Value_yr17': 17139,\n",
       "  'Value_yr18': 175074},\n",
       " {'Country': 'China',\n",
       "  'MS17': 1.4,\n",
       "  'MS18': 12.1,\n",
       "  'MSChange': 10.7,\n",
       "  'Value_yr17': 4506,\n",
       "  'Value_yr18': 175074},\n",
       " {'Country': 'Uruguay',\n",
       "  'MS17': 1.3,\n",
       "  'MS18': 12.1,\n",
       "  'MSChange': 10.8,\n",
       "  'Value_yr17': 4270,\n",
       "  'Value_yr18': 175074},\n",
       " {'Country': 'Greece',\n",
       "  'MS17': 0.9,\n",
       "  'MS18': 12.1,\n",
       "  'MSChange': 11.2,\n",
       "  'Value_yr17': 2976,\n",
       "  'Value_yr18': 175074},\n",
       " {'Country': 'Israel',\n",
       "  'MS17': 12.8,\n",
       "  'MS18': 3.0,\n",
       "  'MSChange': -9.8,\n",
       "  'Value_yr17': 42295,\n",
       "  'Value_yr18': 42982},\n",
       " {'Country': 'China',\n",
       "  'MS17': 1.8,\n",
       "  'MS18': 0.3,\n",
       "  'MSChange': -1.5,\n",
       "  'Value_yr17': 6032,\n",
       "  'Value_yr18': 4753},\n",
       " {'Country': 'Canada',\n",
       "  'MS17': 0.7,\n",
       "  'MS18': 0.1,\n",
       "  'MSChange': -0.5,\n",
       "  'Value_yr17': 2271,\n",
       "  'Value_yr18': 2165}]"
      ]
     },
     "execution_count": 99,
     "metadata": {},
     "output_type": "execute_result"
    }
   ],
   "source": [
    "fi_summary = session.query(FIS.country,FIS.yr17,FED.yr18).group_by(FIS.country).all()\n",
    "fi_summary_df = pd.DataFrame(fi_summary, columns=['country', 'yr17', 'yr18'])\n",
    "fi_summary_df['yr17'] = fi_summary_df['yr17'].str.replace(',', '')\n",
    "fi_summary_df['yr18'] = fi_summary_df['yr18'].str.replace(',', '')\n",
    "fi_summary_df=fi_summary_df.dropna(how=\"any\")\n",
    "fi_summary_df[\"yr17\"] = pd.to_numeric(fi_summary_df[\"yr17\"])\n",
    "fi_summary_df[\"yr18\"] = pd.to_numeric(fi_summary_df[\"yr18\"])\n",
    "\n",
    "vi_summary = session.query(VIS.country,VIS.yr17,VIS.yr18).group_by(VIS.country).all()\n",
    "vi_summary_df = pd.DataFrame(vi_summary, columns=['country', 'yr17', 'yr18'])\n",
    "vi_summary_df['yr17'] = vi_summary_df['yr17'].str.replace(',', '')\n",
    "vi_summary_df['yr18'] = vi_summary_df['yr18'].str.replace(',', '')\n",
    "vi_summary_df=vi_summary_df.dropna(how=\"any\")\n",
    "vi_summary_df[\"yr17\"] = pd.to_numeric(vi_summary_df[\"yr17\"])\n",
    "vi_summary_df[\"yr18\"] = pd.to_numeric(vi_summary_df[\"yr18\"])\n",
    "\n",
    "isummary_frames = [vi_summary_df, fi_summary_df]\n",
    "summary_import = pd.concat(isummary_frames,ignore_index=False)\n",
    "summary_import[\"Total\"] = summary_import[\"yr17\"] + summary_import[\"yr18\"]\n",
    "summary_import = summary_import.sort_values([\"Total\"], ascending=False)\n",
    "import_yr17sum=summary_import['yr17'].sum()\n",
    "import_yr18sum=summary_import['yr18'].sum()\n",
    "\n",
    "i_ms17=summary_import['yr17']/import_yr17sum*100\n",
    "i_ms18=summary_import['yr18']/import_yr18sum*100\n",
    "summary_import[\"MarketShare(2017)\"]=i_ms17\n",
    "summary_import[\"MarketShare(2018)\"]=i_ms18\n",
    "summary_import[\"ChangeInMarketShare\"] = i_ms18-i_ms17\n",
    "renamed_summary_import = summary_import.rename(columns={\"country\":\"Country\", \"MS 2017\":\"MarketShare(2017)\",\n",
    "                                                        \"MS 2018\":\"MarketShare(2018)\", \"Change in MS\":\"ChangeInMarketShare\",\n",
    "                                                        \"yr17\":\"Value(2017)\", \"yr18\":\"Value(2018)\"})\n",
    "summary_import_list = []\n",
    "\n",
    "renamed_summary_import = renamed_summary_import.reset_index(drop=True)\n",
    "ms17_list = renamed_summary_import[\"MarketShare(2017)\"].tolist()\n",
    "ms18_list = renamed_summary_import[\"MarketShare(2018)\"].tolist()\n",
    "mschange_list = renamed_summary_import[\"ChangeInMarketShare\"].tolist()\n",
    "value_yr17 = renamed_summary_import[\"Value(2017)\"].tolist()\n",
    "value_yr18 = renamed_summary_import[\"Value(2018)\"].tolist()\n",
    "country_list = renamed_summary_import[\"Country\"].tolist()\n",
    "\n",
    "for i in range(len(country_list)):\n",
    "    summary_report_dict = {}\n",
    "    summary_report_dict[\"Country\"] = country_list[i]\n",
    "    summary_report_dict[\"MS17\"] = round(ms17_list[i],1)\n",
    "    summary_report_dict[\"MS18\"] = round(ms18_list[i],1)\n",
    "    summary_report_dict[\"MSChange\"] = round(mschange_list[i],1)\n",
    "    summary_report_dict[\"Value_yr17\"] = value_yr17[i]\n",
    "    summary_report_dict[\"Value_yr18\"] = value_yr18[i]\n",
    "    \n",
    "    summary_import_list.append(summary_report_dict)\n",
    "summary_import_list"
   ]
  },
  {
   "cell_type": "code",
   "execution_count": 101,
   "metadata": {},
   "outputs": [
    {
     "data": {
      "text/plain": [
       "[{'Country': 'Canada',\n",
       "  'Product': 'potato',\n",
       "  'YR17': 416004,\n",
       "  'YR18': 141898,\n",
       "  'Average': 278951.0},\n",
       " {'Country': 'Canada',\n",
       "  'Product': 'onion',\n",
       "  'YR17': 362415,\n",
       "  'YR18': 80601,\n",
       "  'Average': 221508.0},\n",
       " {'Country': 'Mexico',\n",
       "  'Product': 'potato',\n",
       "  'YR17': 237103,\n",
       "  'YR18': 138089,\n",
       "  'Average': 187596.0},\n",
       " {'Country': 'Canada',\n",
       "  'Product': 'carrot',\n",
       "  'YR17': 143754,\n",
       "  'YR18': 154315,\n",
       "  'Average': 149034.5},\n",
       " {'Country': 'Canada',\n",
       "  'Product': 'sweet corn',\n",
       "  'YR17': 141165,\n",
       "  'YR18': 134033,\n",
       "  'Average': 137599.0},\n",
       " {'Country': 'Canada',\n",
       "  'Product': 'broccoli',\n",
       "  'YR17': 114891,\n",
       "  'YR18': 113061,\n",
       "  'Average': 113976.0},\n",
       " {'Country': 'Mexico',\n",
       "  'Product': 'onion',\n",
       "  'YR17': 181056,\n",
       "  'YR18': 16935,\n",
       "  'Average': 98995.5},\n",
       " {'Country': 'Canada',\n",
       "  'Product': 'pepper',\n",
       "  'YR17': 99638,\n",
       "  'YR18': 24523,\n",
       "  'Average': 62080.5},\n",
       " {'Country': 'Japan',\n",
       "  'Product': 'potato',\n",
       "  'YR17': 74767,\n",
       "  'YR18': 43376,\n",
       "  'Average': 59071.5},\n",
       " {'Country': 'Taiwan',\n",
       "  'Product': 'potato',\n",
       "  'YR17': 72153,\n",
       "  'YR18': 45349,\n",
       "  'Average': 58751.0}]"
      ]
     },
     "execution_count": 101,
     "metadata": {},
     "output_type": "execute_result"
    }
   ],
   "source": [
    "ExportDataVeggie = session.query(VED.country,VED.product,VED.yr17,VED.yr18).\\\n",
    "    order_by(VED.country.asc()).all()\n",
    "\n",
    "ve_data_df = pd.DataFrame(ExportDataVeggie, columns=['country','product', 'yr17', 'yr18'])\n",
    "\n",
    "ve_data_df['yr17'] = ve_data_df['yr17'].str.replace(',', '')\n",
    "ve_data_df['yr18'] = ve_data_df['yr18'].str.replace(',', '')\n",
    "ve_data_df = ve_data_df.dropna(how=\"any\")\n",
    "ve_data_df[\"yr17\"] = pd.to_numeric(ve_data_df[\"yr17\"])\n",
    "ve_data_df[\"yr18\"] = pd.to_numeric(ve_data_df[\"yr18\"])\n",
    "ve_data_df[\"average\"] = (ve_data_df[\"yr17\"] + ve_data_df[\"yr18\"])/2\n",
    "ve_data_df = ve_data_df.sort_values([\"average\"], ascending=False)\n",
    "ve_data_result = ve_data_df.reset_index(drop=True)\n",
    "ve_data_result = ve_data_result[:10]\n",
    "\n",
    "country_list = ve_data_result[\"country\"].tolist()\n",
    "product_list = ve_data_result[\"product\"].tolist()\n",
    "avg_list = ve_data_result[\"average\"].tolist()\n",
    "veggie_yr17 = ve_data_result[\"yr17\"].tolist()\n",
    "veggie_yr18 = ve_data_result[\"yr18\"].tolist()\n",
    "vegexportdest_list = []\n",
    "\n",
    "for i in range(len(country_list)):\n",
    "    vegexportdest_dict = {}\n",
    "    vegexportdest_dict[\"Country\"] = country_list[i]\n",
    "    vegexportdest_dict[\"Product\"] = product_list[i]\n",
    "    vegexportdest_dict[\"YR17\"] = veggie_yr17[i]\n",
    "    vegexportdest_dict[\"YR18\"] = veggie_yr18[i]\n",
    "    vegexportdest_dict[\"Average\"] = avg_list[i]\n",
    "    \n",
    "    vegexportdest_list.append(vegexportdest_dict)\n",
    "    \n",
    "vegexportdest_list"
   ]
  },
  {
   "cell_type": "code",
   "execution_count": 64,
   "metadata": {},
   "outputs": [
    {
     "data": {
      "text/plain": [
       "[{'Country': 'Mexico',\n",
       "  'Product': 'Apple',\n",
       "  'YR17': 289339,\n",
       "  'YR18': 289339,\n",
       "  'Average': 232206.5},\n",
       " {'Country': 'Canada',\n",
       "  'Product': 'Grapes',\n",
       "  'YR17': 221500,\n",
       "  'YR18': 221500,\n",
       "  'Average': 221338.5},\n",
       " {'Country': 'Korea, South',\n",
       "  'Product': 'Oranges',\n",
       "  'YR17': 208080,\n",
       "  'YR18': 208080,\n",
       "  'Average': 187840.0},\n",
       " {'Country': 'Canada',\n",
       "  'Product': 'Strawberries',\n",
       "  'YR17': 304878,\n",
       "  'YR18': 304878,\n",
       "  'Average': 182910.5},\n",
       " {'Country': 'Canada',\n",
       "  'Product': 'Apple',\n",
       "  'YR17': 167337,\n",
       "  'YR18': 167337,\n",
       "  'Average': 137172.0},\n",
       " {'Country': 'India',\n",
       "  'Product': 'Apple',\n",
       "  'YR17': 174179,\n",
       "  'YR18': 174179,\n",
       "  'Average': 132385.0},\n",
       " {'Country': 'Canada',\n",
       "  'Product': 'Oranges',\n",
       "  'YR17': 131653,\n",
       "  'YR18': 131653,\n",
       "  'Average': 108682.0},\n",
       " {'Country': 'Mexico',\n",
       "  'Product': 'Grapes',\n",
       "  'YR17': 95209,\n",
       "  'YR18': 95209,\n",
       "  'Average': 95188.0},\n",
       " {'Country': 'Hong Kong',\n",
       "  'Product': 'Oranges',\n",
       "  'YR17': 86237,\n",
       "  'YR18': 86237,\n",
       "  'Average': 68175.5},\n",
       " {'Country': 'Mexico',\n",
       "  'Product': 'Pears',\n",
       "  'YR17': 77074,\n",
       "  'YR18': 77074,\n",
       "  'Average': 67037.5}]"
      ]
     },
     "execution_count": 64,
     "metadata": {},
     "output_type": "execute_result"
    }
   ],
   "source": [
    "sel = [\n",
    "    FED.country,\n",
    "    FED.product,\n",
    "    FED.yr17,\n",
    "    FED.yr18,\n",
    "]\n",
    "ExportDataFruit = session.query(*sel).order_by(FED.country.desc()).all()\n",
    "fe_data_df = pd.DataFrame(ExportDataFruit, columns=['country','product', 'yr17', 'yr18'])\n",
    "fe_data_df[\"yr17\"] = fe_data_df[\"yr17\"].str.replace(\",\",\"\")\n",
    "fe_data_df[\"yr18\"] = fe_data_df[\"yr18\"].str.replace(\",\",\"\")\n",
    "fe_data_df = fe_data_df.dropna(how = 'any')\n",
    "fe_data_df[\"yr17\"] = pd.to_numeric(fe_data_df[\"yr17\"])\n",
    "fe_data_df[\"yr18\"] = pd.to_numeric(fe_data_df[\"yr18\"])\n",
    "fe_data_df[\"average\"] = (fe_data_df[\"yr17\"] + fe_data_df[\"yr18\"])/2\n",
    "fe_data_df = fe_data_df.sort_values([\"average\"], ascending=False)\n",
    "fe_data_result = fe_data_df.reset_index(drop=True)\n",
    "fe_data_result = fe_data_result[:10]\n",
    "\n",
    "country_list = fe_data_result[\"country\"].tolist()\n",
    "product_list = fe_data_result[\"product\"].tolist()\n",
    "avg_list = fe_data_result[\"average\"].tolist()\n",
    "fruit_yr17 = fe_data_result[\"yr17\"].tolist()\n",
    "fruit_yr18 = fe_data_result[\"yr18\"].tolist()\n",
    "fruitexportdest_list = []\n",
    "\n",
    "for i in range(len(country_list)):\n",
    "    fruitexportdest_dict = {}\n",
    "    fruitexportdest_dict[\"Country\"] = country_list[i]\n",
    "    fruitexportdest_dict[\"Product\"] = product_list[i]\n",
    "    fruitexportdest_dict[\"YR17\"] = fruit_yr17[i]\n",
    "    fruitexportdest_dict[\"YR18\"] = fruit_yr17[i]\n",
    "    fruitexportdest_dict[\"Average\"] = avg_list[i]\n",
    "    \n",
    "    fruitexportdest_list.append(fruitexportdest_dict)\n",
    "    \n",
    "fruitexportdest_list"
   ]
  },
  {
   "cell_type": "code",
   "execution_count": 85,
   "metadata": {},
   "outputs": [
    {
     "data": {
      "text/plain": [
       "[{'Country': 'Mexico',\n",
       "  'Product': 'Avocado',\n",
       "  'YR17': 2334651,\n",
       "  'YR18': 154315,\n",
       "  'Average': 1244483.0},\n",
       " {'Country': 'Mexico',\n",
       "  'Product': 'Avocado',\n",
       "  'YR17': 2334651,\n",
       "  'YR18': 141898,\n",
       "  'Average': 1238274.5},\n",
       " {'Country': 'Mexico',\n",
       "  'Product': 'Avocado',\n",
       "  'YR17': 2334651,\n",
       "  'YR18': 138089,\n",
       "  'Average': 1236370.0},\n",
       " {'Country': 'Mexico',\n",
       "  'Product': 'Avocado',\n",
       "  'YR17': 2334651,\n",
       "  'YR18': 134033,\n",
       "  'Average': 1234342.0},\n",
       " {'Country': 'Mexico',\n",
       "  'Product': 'Avocado',\n",
       "  'YR17': 2334651,\n",
       "  'YR18': 113061,\n",
       "  'Average': 1223856.0},\n",
       " {'Country': 'Mexico',\n",
       "  'Product': 'Avocado',\n",
       "  'YR17': 2334651,\n",
       "  'YR18': 80601,\n",
       "  'Average': 1207626.0},\n",
       " {'Country': 'Mexico',\n",
       "  'Product': 'Avocado',\n",
       "  'YR17': 2334651,\n",
       "  'YR18': 45349,\n",
       "  'Average': 1190000.0},\n",
       " {'Country': 'Mexico',\n",
       "  'Product': 'Avocado',\n",
       "  'YR17': 2334651,\n",
       "  'YR18': 43376,\n",
       "  'Average': 1189013.5},\n",
       " {'Country': 'Mexico',\n",
       "  'Product': 'Avocado',\n",
       "  'YR17': 2334651,\n",
       "  'YR18': 41729,\n",
       "  'Average': 1188190.0},\n",
       " {'Country': 'Mexico',\n",
       "  'Product': 'Avocado',\n",
       "  'YR17': 2334651,\n",
       "  'YR18': 39167,\n",
       "  'Average': 1186909.0}]"
      ]
     },
     "execution_count": 85,
     "metadata": {},
     "output_type": "execute_result"
    }
   ],
   "source": [
    "    ImportDataFruit = session.query(FIS.country,FIS.product,FIS.yr17,VED.yr18).\\\n",
    "    order_by(FIS.country.asc()).all()\n",
    "\n",
    "    fi_data_df = pd.DataFrame(ImportDataFruit, columns=['country','product', 'yr17', 'yr18'])\n",
    "    fi_data_df['yr17'] = fi_data_df['yr17'].str.replace(',', '')\n",
    "    fi_data_df['yr18'] = fi_data_df['yr18'].str.replace(',', '')\n",
    "    fi_data_df = fi_data_df.dropna(how=\"any\")\n",
    "    fi_data_df[\"yr17\"] = pd.to_numeric(fi_data_df[\"yr17\"])\n",
    "    fi_data_df[\"yr18\"] = pd.to_numeric(fi_data_df[\"yr18\"])\n",
    "    fi_data_df[\"average\"] = (fi_data_df[\"yr17\"] + fi_data_df[\"yr18\"])/2\n",
    "    fi_data_df = fi_data_df.sort_values([\"average\"], ascending=False)\n",
    "    fi_data_result = fi_data_df.reset_index(drop=True)\n",
    "    fi_data_result = fi_data_result[:10]\n",
    "\n",
    "    country_list = fi_data_result[\"country\"].tolist()\n",
    "    product_list = fi_data_result[\"product\"].tolist()\n",
    "    avg_list = fi_data_result[\"average\"].tolist() \n",
    "    fruit_yr17 = fi_data_result[\"yr17\"].tolist()\n",
    "    fruit_yr18 = fi_data_result[\"yr18\"].tolist()\n",
    "    fruitimportsource_list = []\n",
    "\n",
    "    for i in range(len(country_list)):\n",
    "        fruitimportsource_dict = {}\n",
    "        fruitimportsource_dict[\"Country\"] = country_list[i]\n",
    "        fruitimportsource_dict[\"Product\"] = product_list[i]\n",
    "        fruitimportsource_dict[\"YR17\"] = fruit_yr17[i]\n",
    "        fruitimportsource_dict[\"YR18\"] = fruit_yr18[i]\n",
    "        fruitimportsource_dict[\"Average\"] = avg_list[i]\n",
    "    \n",
    "        fruitimportsource_list.append(fruitimportsource_dict)\n",
    "    fruitimportsource_list"
   ]
  },
  {
   "cell_type": "code",
   "execution_count": 102,
   "metadata": {},
   "outputs": [
    {
     "data": {
      "text/plain": [
       "['Apple',\n",
       " 'Grapes',\n",
       " 'Oranges',\n",
       " 'Strawberries',\n",
       " 'Pears',\n",
       " 'Blueberries',\n",
       " 'Avocado',\n",
       " 'Grapefruit',\n",
       " 'Citrus',\n",
       " 'Tangerines']"
      ]
     },
     "execution_count": 102,
     "metadata": {},
     "output_type": "execute_result"
    }
   ],
   "source": [
    "sel = [\n",
    "    FED.country,\n",
    "    FED.product,\n",
    "    FED.yr17,\n",
    "    FED.yr18,\n",
    "]\n",
    "ExportDataFruit = session.query(*sel).group_by(FED.product).order_by(FED.country.desc()).all()\n",
    "fe_data_df = pd.DataFrame(ExportDataFruit, columns=['country','product', 'yr17', 'yr18'])\n",
    "fe_data_df['yr17'] = pd.to_numeric(fe_data_df['yr17'].str.replace(\",\",\"\"))\n",
    "fe_data_df['yr18'] = pd.to_numeric(fe_data_df['yr18'].str.replace(\",\",\"\"))\n",
    "fe_data_df = fe_data_df.dropna(how = 'any')\n",
    "fe_data_df['Fruit_Export_Total'] = fe_data_df['yr17'] + fe_data_df['yr18']\n",
    "fe_summary = fe_data_df.groupby(['product'])\n",
    "fe_summary_df = pd.DataFrame({'Fruit_Export_Total': fe_summary['Fruit_Export_Total'].sum()})\n",
    "fe_summary_df = fe_summary_df.sort_values(['Fruit_Export_Total'], ascending = False)\n",
    "product_list = fe_summary_df.index.tolist()\n",
    "fe_top10 = product_list[:10]\n",
    "fe_top10_qty = fe_summary_df['Fruit_Export_Total'][:10].tolist()\n",
    "fe_top10"
   ]
  },
  {
   "cell_type": "code",
   "execution_count": 74,
   "metadata": {},
   "outputs": [
    {
     "data": {
      "text/plain": [
       "['Avocado',\n",
       " 'Grapes',\n",
       " 'Blueberries',\n",
       " 'Pineapples',\n",
       " 'Strawberries',\n",
       " 'Mango',\n",
       " 'Limes',\n",
       " 'Apple',\n",
       " 'Oranges',\n",
       " 'Kiwi']"
      ]
     },
     "execution_count": 74,
     "metadata": {},
     "output_type": "execute_result"
    }
   ],
   "source": [
    "ImportDataFruit = session.query(FIS.country,FIS.product,FIS.yr17,FIS.yr18).\\\n",
    "    order_by(FIS.country.asc()).all()\n",
    "\n",
    "fi_data_df = pd.DataFrame(ImportDataFruit, columns=['country','product', 'yr17', 'yr18'])\n",
    "fi_data_df['yr17'] = pd.to_numeric(fi_data_df['yr17'].str.replace(\",\",\"\"))\n",
    "fi_data_df['yr18'] = pd.to_numeric(fi_data_df['yr18'].str.replace(\",\",\"\"))\n",
    "fi_data_df = fi_data_df.dropna(how = 'any')\n",
    "fi_data_df['Fruit_Import_Total'] = fi_data_df['yr17'] + fi_data_df['yr18']\n",
    "fi_summary = fi_data_df.groupby(['product'])\n",
    "fi_summary_df = pd.DataFrame({'Fruit_Import_Total': fi_summary['Fruit_Import_Total'].sum()})\n",
    "fi_summary_df = fi_summary_df.sort_values(['Fruit_Import_Total'], ascending = False)\n",
    "fi_top10_qty = fi_summary_df['Fruit_Import_Total'][:10].tolist()\n",
    "import_list = fi_summary_df.index.tolist()\n",
    "fi_top10 = import_list[:10]\n",
    "fi_top10"
   ]
  },
  {
   "cell_type": "code",
   "execution_count": 103,
   "metadata": {},
   "outputs": [
    {
     "data": {
      "text/plain": [
       "['potato',\n",
       " 'onion',\n",
       " 'broccoli',\n",
       " 'carrot',\n",
       " 'sweet corn',\n",
       " 'pepper',\n",
       " 'beet',\n",
       " 'green pea',\n",
       " 'mushroom',\n",
       " 'artichoke']"
      ]
     },
     "execution_count": 103,
     "metadata": {},
     "output_type": "execute_result"
    }
   ],
   "source": [
    "    ExportDataVeggie = session.query(VED.country,VED.product,VED.yr17,VED.yr18).\\\n",
    "    order_by(VED.country.asc()).all()\n",
    "\n",
    "    ve_data_df = pd.DataFrame(ExportDataVeggie, columns=['country','product', 'yr17', 'yr18'])\n",
    "\n",
    "    ve_data_df['yr17'] = ve_data_df['yr17'].str.replace(',', '')\n",
    "    ve_data_df['yr18'] = ve_data_df['yr18'].str.replace(',', '')\n",
    "    ve_data_df = ve_data_df.dropna(how=\"any\")\n",
    "    ve_data_df[\"yr17\"] = pd.to_numeric(ve_data_df[\"yr17\"])\n",
    "    ve_data_df[\"yr18\"] = pd.to_numeric(ve_data_df[\"yr18\"])\n",
    "    ve_data_df[\"average\"] = (ve_data_df[\"yr17\"] + ve_data_df[\"yr18\"])/2\n",
    "    ve_data_df = ve_data_df.sort_values([\"average\"], ascending=False)\n",
    "    ve_data_result = ve_data_df.reset_index(drop=True)\n",
    "    \n",
    "    ve_summary = ve_data_result.groupby(['product'])\n",
    "    ve_summary_df = pd.DataFrame({'Veggie_Export': ve_summary['average'].sum()})\n",
    "    ve_summary_df = ve_summary_df.sort_values(['Veggie_Export'], ascending = False)\n",
    "    product_list = ve_summary_df.index.tolist()\n",
    "    ve_top10 = product_list[:10]\n",
    "    ve_top10_qty = ve_summary_df['Veggie_Export'][:10].tolist()\n",
    "    ve_top10"
   ]
  },
  {
   "cell_type": "code",
   "execution_count": 75,
   "metadata": {},
   "outputs": [
    {
     "data": {
      "text/plain": [
       "[{'Country': 'Canada',\n",
       "  'Product': 'potato',\n",
       "  'YR17': 926244,\n",
       "  'YR18': 154315,\n",
       "  'Average': 540279.5},\n",
       " {'Country': 'Canada',\n",
       "  'Product': 'potato',\n",
       "  'YR17': 926244,\n",
       "  'YR18': 141898,\n",
       "  'Average': 534071.0},\n",
       " {'Country': 'Canada',\n",
       "  'Product': 'potato',\n",
       "  'YR17': 926244,\n",
       "  'YR18': 138089,\n",
       "  'Average': 532166.5},\n",
       " {'Country': 'Canada',\n",
       "  'Product': 'potato',\n",
       "  'YR17': 926244,\n",
       "  'YR18': 134033,\n",
       "  'Average': 530138.5},\n",
       " {'Country': 'Canada',\n",
       "  'Product': 'potato',\n",
       "  'YR17': 926244,\n",
       "  'YR18': 113061,\n",
       "  'Average': 519652.5},\n",
       " {'Country': 'Canada',\n",
       "  'Product': 'potato',\n",
       "  'YR17': 926244,\n",
       "  'YR18': 80601,\n",
       "  'Average': 503422.5},\n",
       " {'Country': 'Canada',\n",
       "  'Product': 'potato',\n",
       "  'YR17': 926244,\n",
       "  'YR18': 45349,\n",
       "  'Average': 485796.5},\n",
       " {'Country': 'Canada',\n",
       "  'Product': 'potato',\n",
       "  'YR17': 926244,\n",
       "  'YR18': 43376,\n",
       "  'Average': 484810.0},\n",
       " {'Country': 'Mexico',\n",
       "  'Product': 'pepper',\n",
       "  'YR17': 814961,\n",
       "  'YR18': 154315,\n",
       "  'Average': 484638.0},\n",
       " {'Country': 'Canada',\n",
       "  'Product': 'potato',\n",
       "  'YR17': 926244,\n",
       "  'YR18': 41729,\n",
       "  'Average': 483986.5}]"
      ]
     },
     "execution_count": 75,
     "metadata": {},
     "output_type": "execute_result"
    }
   ],
   "source": [
    "ImportDataVeggie = session.query(VIS.country,VIS.product,VIS.yr17,VED.yr18).\\\n",
    "    order_by(VIS.country.asc()).all()\n",
    "\n",
    "vi_data_df = pd.DataFrame(ImportDataVeggie, columns=['country','product', 'yr17', 'yr18'])\n",
    "\n",
    "vi_data_df['yr17'] = vi_data_df['yr17'].str.replace(',', '')\n",
    "vi_data_df['yr18'] = vi_data_df['yr18'].str.replace(',', '')\n",
    "vi_data_df = vi_data_df.dropna(how=\"any\")\n",
    "vi_data_df[\"yr17\"] = pd.to_numeric(vi_data_df[\"yr17\"])\n",
    "vi_data_df[\"yr18\"] = pd.to_numeric(vi_data_df[\"yr18\"])\n",
    "vi_data_df[\"average\"] = (vi_data_df[\"yr17\"] + vi_data_df[\"yr18\"])/2\n",
    "vi_data_df = vi_data_df.sort_values([\"average\"], ascending=False)\n",
    "vi_data_result = vi_data_df.reset_index(drop=True)\n",
    "vi_data_result = vi_data_result[:10]\n",
    "\n",
    "country_list = vi_data_result[\"country\"].tolist()\n",
    "product_list = vi_data_result[\"product\"].tolist()\n",
    "avg_list = vi_data_result[\"average\"].tolist()\n",
    "veggie_yr17 = vi_data_result[\"yr17\"].tolist()\n",
    "veggie_yr18 = vi_data_result[\"yr18\"].tolist()\n",
    "vegimportsource_list = []\n",
    "\n",
    "for i in range(len(country_list)):\n",
    "    vegimportsource_dict = {}\n",
    "    vegimportsource_dict[\"Country\"] = country_list[i]\n",
    "    vegimportsource_dict[\"Product\"] = product_list[i]\n",
    "    vegimportsource_dict[\"YR17\"] = veggie_yr17[i]\n",
    "    vegimportsource_dict[\"YR18\"] = veggie_yr18[i]\n",
    "    vegimportsource_dict[\"Average\"] = avg_list[i]\n",
    "    \n",
    "    vegimportsource_list.append(vegimportsource_dict)\n",
    "    \n",
    "vegimportsource_list"
   ]
  },
  {
   "cell_type": "code",
   "execution_count": 61,
   "metadata": {},
   "outputs": [
    {
     "data": {
      "text/html": [
       "<div>\n",
       "<style scoped>\n",
       "    .dataframe tbody tr th:only-of-type {\n",
       "        vertical-align: middle;\n",
       "    }\n",
       "\n",
       "    .dataframe tbody tr th {\n",
       "        vertical-align: top;\n",
       "    }\n",
       "\n",
       "    .dataframe thead th {\n",
       "        text-align: right;\n",
       "    }\n",
       "</style>\n",
       "<table border=\"1\" class=\"dataframe\">\n",
       "  <thead>\n",
       "    <tr style=\"text-align: right;\">\n",
       "      <th></th>\n",
       "      <th>country</th>\n",
       "      <th>product</th>\n",
       "      <th>yr17</th>\n",
       "      <th>yr18</th>\n",
       "    </tr>\n",
       "  </thead>\n",
       "  <tbody>\n",
       "    <tr>\n",
       "      <th>64</th>\n",
       "      <td>Canada</td>\n",
       "      <td>Strawberries</td>\n",
       "      <td>304878.0</td>\n",
       "      <td>60943.0</td>\n",
       "    </tr>\n",
       "    <tr>\n",
       "      <th>84</th>\n",
       "      <td>Mexico</td>\n",
       "      <td>Apple</td>\n",
       "      <td>289339.0</td>\n",
       "      <td>175074.0</td>\n",
       "    </tr>\n",
       "    <tr>\n",
       "      <th>92</th>\n",
       "      <td>Canada</td>\n",
       "      <td>Grapes</td>\n",
       "      <td>221500.0</td>\n",
       "      <td>221177.0</td>\n",
       "    </tr>\n",
       "    <tr>\n",
       "      <th>96</th>\n",
       "      <td>Korea, South</td>\n",
       "      <td>Oranges</td>\n",
       "      <td>208080.0</td>\n",
       "      <td>167600.0</td>\n",
       "    </tr>\n",
       "    <tr>\n",
       "      <th>121</th>\n",
       "      <td>India</td>\n",
       "      <td>Apple</td>\n",
       "      <td>174179.0</td>\n",
       "      <td>90591.0</td>\n",
       "    </tr>\n",
       "    <tr>\n",
       "      <th>124</th>\n",
       "      <td>Canada</td>\n",
       "      <td>Apple</td>\n",
       "      <td>167337.0</td>\n",
       "      <td>107007.0</td>\n",
       "    </tr>\n",
       "    <tr>\n",
       "      <th>131</th>\n",
       "      <td>Canada</td>\n",
       "      <td>Oranges</td>\n",
       "      <td>131653.0</td>\n",
       "      <td>85711.0</td>\n",
       "    </tr>\n",
       "    <tr>\n",
       "      <th>134</th>\n",
       "      <td>Korea, South</td>\n",
       "      <td>Cherries</td>\n",
       "      <td>128427.0</td>\n",
       "      <td>2945.0</td>\n",
       "    </tr>\n",
       "    <tr>\n",
       "      <th>0</th>\n",
       "      <td>Mexico</td>\n",
       "      <td>Grapes</td>\n",
       "      <td>95209.0</td>\n",
       "      <td>95167.0</td>\n",
       "    </tr>\n",
       "    <tr>\n",
       "      <th>1</th>\n",
       "      <td>Canada</td>\n",
       "      <td>Blueberries</td>\n",
       "      <td>91238.0</td>\n",
       "      <td>2798.0</td>\n",
       "    </tr>\n",
       "    <tr>\n",
       "      <th>9</th>\n",
       "      <td>Hong Kong</td>\n",
       "      <td>Oranges</td>\n",
       "      <td>86237.0</td>\n",
       "      <td>50114.0</td>\n",
       "    </tr>\n",
       "    <tr>\n",
       "      <th>18</th>\n",
       "      <td>Mexico</td>\n",
       "      <td>Pears</td>\n",
       "      <td>77074.0</td>\n",
       "      <td>57001.0</td>\n",
       "    </tr>\n",
       "    <tr>\n",
       "      <th>23</th>\n",
       "      <td>Japan</td>\n",
       "      <td>Oranges</td>\n",
       "      <td>67863.0</td>\n",
       "      <td>39049.0</td>\n",
       "    </tr>\n",
       "    <tr>\n",
       "      <th>24</th>\n",
       "      <td>Taiwan</td>\n",
       "      <td>Apple</td>\n",
       "      <td>67184.0</td>\n",
       "      <td>64703.0</td>\n",
       "    </tr>\n",
       "    <tr>\n",
       "      <th>26</th>\n",
       "      <td>Hong Kong</td>\n",
       "      <td>Grapes</td>\n",
       "      <td>60712.0</td>\n",
       "      <td>60568.0</td>\n",
       "    </tr>\n",
       "  </tbody>\n",
       "</table>\n",
       "</div>"
      ],
      "text/plain": [
       "          country       product      yr17      yr18\n",
       "64         Canada  Strawberries  304878.0   60943.0\n",
       "84         Mexico         Apple  289339.0  175074.0\n",
       "92         Canada        Grapes  221500.0  221177.0\n",
       "96   Korea, South       Oranges  208080.0  167600.0\n",
       "121         India         Apple  174179.0   90591.0\n",
       "124        Canada         Apple  167337.0  107007.0\n",
       "131        Canada       Oranges  131653.0   85711.0\n",
       "134  Korea, South      Cherries  128427.0    2945.0\n",
       "0          Mexico        Grapes   95209.0   95167.0\n",
       "1          Canada   Blueberries   91238.0    2798.0\n",
       "9       Hong Kong       Oranges   86237.0   50114.0\n",
       "18         Mexico         Pears   77074.0   57001.0\n",
       "23          Japan       Oranges   67863.0   39049.0\n",
       "24         Taiwan         Apple   67184.0   64703.0\n",
       "26      Hong Kong        Grapes   60712.0   60568.0"
      ]
     },
     "execution_count": 61,
     "metadata": {},
     "output_type": "execute_result"
    }
   ],
   "source": [
    "ExportDataFruit = session.query(FED.country,FED.product,FED.yr17,FED.yr18).\\\n",
    "    order_by(FED.yr17.desc()).all()\n",
    "\n",
    "fe_data_df = pd.DataFrame(ExportDataFruit, columns=['country','product', 'yr17', 'yr18'])\n",
    "\n",
    "fe_data_df['yr17'] = fe_data_df['yr17'].str.replace(',', '')\n",
    "fe_data_df['yr18'] = fe_data_df['yr18'].str.replace(',', '')\n",
    "fe_data_df[\"yr17\"] = pd.to_numeric(fe_data_df[\"yr17\"])\n",
    "fe_data_df[\"yr18\"] = pd.to_numeric(fe_data_df[\"yr18\"])\n",
    "fe_data_df = fe_data_df.dropna(how=\"any\")\n",
    "fe_data_df.sort_values(['yr17', 'yr18'], ascending=False)"
   ]
  },
  {
   "cell_type": "code",
   "execution_count": 54,
   "metadata": {},
   "outputs": [],
   "source": [
    "export_frames = [ve_data_df, fe_data_df]\n",
    "all_export = pd.concat(export_frames)"
   ]
  },
  {
   "cell_type": "code",
   "execution_count": 55,
   "metadata": {},
   "outputs": [
    {
     "data": {
      "text/html": [
       "<div>\n",
       "<style scoped>\n",
       "    .dataframe tbody tr th:only-of-type {\n",
       "        vertical-align: middle;\n",
       "    }\n",
       "\n",
       "    .dataframe tbody tr th {\n",
       "        vertical-align: top;\n",
       "    }\n",
       "\n",
       "    .dataframe thead th {\n",
       "        text-align: right;\n",
       "    }\n",
       "</style>\n",
       "<table border=\"1\" class=\"dataframe\">\n",
       "  <thead>\n",
       "    <tr style=\"text-align: right;\">\n",
       "      <th></th>\n",
       "      <th>country</th>\n",
       "      <th>product</th>\n",
       "      <th>yr17</th>\n",
       "      <th>yr18</th>\n",
       "    </tr>\n",
       "  </thead>\n",
       "  <tbody>\n",
       "    <tr>\n",
       "      <th>12</th>\n",
       "      <td>Canada</td>\n",
       "      <td>potato</td>\n",
       "      <td>416004</td>\n",
       "      <td>141898</td>\n",
       "    </tr>\n",
       "    <tr>\n",
       "      <th>10</th>\n",
       "      <td>Canada</td>\n",
       "      <td>onion</td>\n",
       "      <td>362415</td>\n",
       "      <td>80601</td>\n",
       "    </tr>\n",
       "    <tr>\n",
       "      <th>196</th>\n",
       "      <td>Canada</td>\n",
       "      <td>Strawberries</td>\n",
       "      <td>304878</td>\n",
       "      <td>60943</td>\n",
       "    </tr>\n",
       "    <tr>\n",
       "      <th>653</th>\n",
       "      <td>Mexico</td>\n",
       "      <td>Apple</td>\n",
       "      <td>289339</td>\n",
       "      <td>175074</td>\n",
       "    </tr>\n",
       "    <tr>\n",
       "      <th>32</th>\n",
       "      <td>Mexico</td>\n",
       "      <td>potato</td>\n",
       "      <td>237103</td>\n",
       "      <td>138089</td>\n",
       "    </tr>\n",
       "  </tbody>\n",
       "</table>\n",
       "</div>"
      ],
      "text/plain": [
       "    country       product    yr17    yr18\n",
       "12   Canada        potato  416004  141898\n",
       "10   Canada         onion  362415   80601\n",
       "196  Canada  Strawberries  304878   60943\n",
       "653  Mexico         Apple  289339  175074\n",
       "32   Mexico        potato  237103  138089"
      ]
     },
     "execution_count": 55,
     "metadata": {},
     "output_type": "execute_result"
    }
   ],
   "source": [
    "all_export.sort_values(['yr17', 'yr18'], ascending=False).head()"
   ]
  },
  {
   "cell_type": "code",
   "execution_count": 56,
   "metadata": {},
   "outputs": [
    {
     "data": {
      "text/plain": [
       "country    149\n",
       "product    149\n",
       "yr17       149\n",
       "yr18       149\n",
       "dtype: int64"
      ]
     },
     "execution_count": 56,
     "metadata": {},
     "output_type": "execute_result"
    }
   ],
   "source": [
    "all_export.count()"
   ]
  },
  {
   "cell_type": "code",
   "execution_count": 57,
   "metadata": {},
   "outputs": [],
   "source": [
    "all_export_yr18sum=all_export['yr18'].sum()"
   ]
  },
  {
   "cell_type": "code",
   "execution_count": 58,
   "metadata": {},
   "outputs": [
    {
     "data": {
      "text/plain": [
       "3336520"
      ]
     },
     "execution_count": 58,
     "metadata": {},
     "output_type": "execute_result"
    }
   ],
   "source": [
    "all_export_yr18sum"
   ]
  },
  {
   "cell_type": "code",
   "execution_count": 59,
   "metadata": {},
   "outputs": [],
   "source": [
    "for i in all_export:\n",
    "    eproduct_share=all_export[\"yr18\"]/all_export_yr18sum*100"
   ]
  },
  {
   "cell_type": "code",
   "execution_count": 60,
   "metadata": {},
   "outputs": [],
   "source": [
    "all_export[\"Share\"]=eproduct_share"
   ]
  },
  {
   "cell_type": "code",
   "execution_count": 61,
   "metadata": {},
   "outputs": [
    {
     "data": {
      "text/html": [
       "<div>\n",
       "<style scoped>\n",
       "    .dataframe tbody tr th:only-of-type {\n",
       "        vertical-align: middle;\n",
       "    }\n",
       "\n",
       "    .dataframe tbody tr th {\n",
       "        vertical-align: top;\n",
       "    }\n",
       "\n",
       "    .dataframe thead th {\n",
       "        text-align: right;\n",
       "    }\n",
       "</style>\n",
       "<table border=\"1\" class=\"dataframe\">\n",
       "  <thead>\n",
       "    <tr style=\"text-align: right;\">\n",
       "      <th></th>\n",
       "      <th>country</th>\n",
       "      <th>product</th>\n",
       "      <th>yr18</th>\n",
       "      <th>Share</th>\n",
       "    </tr>\n",
       "  </thead>\n",
       "  <tbody>\n",
       "    <tr>\n",
       "      <th>7</th>\n",
       "      <td>Canada</td>\n",
       "      <td>artichoke</td>\n",
       "      <td>2165</td>\n",
       "      <td>0.019858</td>\n",
       "    </tr>\n",
       "    <tr>\n",
       "      <th>8</th>\n",
       "      <td>Canada</td>\n",
       "      <td>beet</td>\n",
       "      <td>16551</td>\n",
       "      <td>0.151808</td>\n",
       "    </tr>\n",
       "    <tr>\n",
       "      <th>9</th>\n",
       "      <td>Canada</td>\n",
       "      <td>broccoli</td>\n",
       "      <td>9061</td>\n",
       "      <td>0.083109</td>\n",
       "    </tr>\n",
       "    <tr>\n",
       "      <th>10</th>\n",
       "      <td>Canada</td>\n",
       "      <td>carrot</td>\n",
       "      <td>206471</td>\n",
       "      <td>1.893786</td>\n",
       "    </tr>\n",
       "    <tr>\n",
       "      <th>12</th>\n",
       "      <td>Canada</td>\n",
       "      <td>mushroom</td>\n",
       "      <td>66446</td>\n",
       "      <td>0.609454</td>\n",
       "    </tr>\n",
       "  </tbody>\n",
       "</table>\n",
       "</div>"
      ],
      "text/plain": [
       "   country    product    yr18     Share\n",
       "7   Canada  artichoke    2165  0.019858\n",
       "8   Canada       beet   16551  0.151808\n",
       "9   Canada   broccoli    9061  0.083109\n",
       "10  Canada     carrot  206471  1.893786\n",
       "12  Canada   mushroom   66446  0.609454"
      ]
     },
     "execution_count": 61,
     "metadata": {},
     "output_type": "execute_result"
    }
   ],
   "source": [
    "organized_all_export = all_export[[\"country\",\"product\",\"yr18\",\"Share\"]]\n",
    "organized_all_import.head()"
   ]
  },
  {
   "cell_type": "code",
   "execution_count": 62,
   "metadata": {},
   "outputs": [
    {
     "data": {
      "text/html": [
       "<div>\n",
       "<style scoped>\n",
       "    .dataframe tbody tr th:only-of-type {\n",
       "        vertical-align: middle;\n",
       "    }\n",
       "\n",
       "    .dataframe tbody tr th {\n",
       "        vertical-align: top;\n",
       "    }\n",
       "\n",
       "    .dataframe thead th {\n",
       "        text-align: right;\n",
       "    }\n",
       "</style>\n",
       "<table border=\"1\" class=\"dataframe\">\n",
       "  <thead>\n",
       "    <tr style=\"text-align: right;\">\n",
       "      <th></th>\n",
       "      <th>country</th>\n",
       "      <th>product</th>\n",
       "      <th>yr18</th>\n",
       "      <th>Share</th>\n",
       "    </tr>\n",
       "  </thead>\n",
       "  <tbody>\n",
       "    <tr>\n",
       "      <th>185</th>\n",
       "      <td>Canada</td>\n",
       "      <td>Grapes</td>\n",
       "      <td>221177</td>\n",
       "      <td>6.628973</td>\n",
       "    </tr>\n",
       "    <tr>\n",
       "      <th>653</th>\n",
       "      <td>Mexico</td>\n",
       "      <td>Apple</td>\n",
       "      <td>175074</td>\n",
       "      <td>5.247204</td>\n",
       "    </tr>\n",
       "    <tr>\n",
       "      <th>597</th>\n",
       "      <td>Korea, South</td>\n",
       "      <td>Oranges</td>\n",
       "      <td>167600</td>\n",
       "      <td>5.023198</td>\n",
       "    </tr>\n",
       "    <tr>\n",
       "      <th>7</th>\n",
       "      <td>Canada</td>\n",
       "      <td>carrot</td>\n",
       "      <td>154315</td>\n",
       "      <td>4.625028</td>\n",
       "    </tr>\n",
       "    <tr>\n",
       "      <th>12</th>\n",
       "      <td>Canada</td>\n",
       "      <td>potato</td>\n",
       "      <td>141898</td>\n",
       "      <td>4.252874</td>\n",
       "    </tr>\n",
       "    <tr>\n",
       "      <th>32</th>\n",
       "      <td>Mexico</td>\n",
       "      <td>potato</td>\n",
       "      <td>138089</td>\n",
       "      <td>4.138713</td>\n",
       "    </tr>\n",
       "    <tr>\n",
       "      <th>13</th>\n",
       "      <td>Canada</td>\n",
       "      <td>sweet corn</td>\n",
       "      <td>134033</td>\n",
       "      <td>4.017150</td>\n",
       "    </tr>\n",
       "    <tr>\n",
       "      <th>6</th>\n",
       "      <td>Canada</td>\n",
       "      <td>broccoli</td>\n",
       "      <td>113061</td>\n",
       "      <td>3.388591</td>\n",
       "    </tr>\n",
       "    <tr>\n",
       "      <th>176</th>\n",
       "      <td>Canada</td>\n",
       "      <td>Apple</td>\n",
       "      <td>107007</td>\n",
       "      <td>3.207144</td>\n",
       "    </tr>\n",
       "    <tr>\n",
       "      <th>662</th>\n",
       "      <td>Mexico</td>\n",
       "      <td>Grapes</td>\n",
       "      <td>95167</td>\n",
       "      <td>2.852283</td>\n",
       "    </tr>\n",
       "  </tbody>\n",
       "</table>\n",
       "</div>"
      ],
      "text/plain": [
       "          country     product    yr18     Share\n",
       "185        Canada      Grapes  221177  6.628973\n",
       "653        Mexico       Apple  175074  5.247204\n",
       "597  Korea, South     Oranges  167600  5.023198\n",
       "7          Canada      carrot  154315  4.625028\n",
       "12         Canada      potato  141898  4.252874\n",
       "32         Mexico      potato  138089  4.138713\n",
       "13         Canada  sweet corn  134033  4.017150\n",
       "6          Canada    broccoli  113061  3.388591\n",
       "176        Canada       Apple  107007  3.207144\n",
       "662        Mexico      Grapes   95167  2.852283"
      ]
     },
     "execution_count": 62,
     "metadata": {},
     "output_type": "execute_result"
    }
   ],
   "source": [
    "org_top10_export = organized_all_export.sort_values(['Share'], ascending=False).head(10)\n",
    "org_top10_export"
   ]
  },
  {
   "cell_type": "code",
   "execution_count": 63,
   "metadata": {},
   "outputs": [
    {
     "data": {
      "text/html": [
       "<div>\n",
       "<style scoped>\n",
       "    .dataframe tbody tr th:only-of-type {\n",
       "        vertical-align: middle;\n",
       "    }\n",
       "\n",
       "    .dataframe tbody tr th {\n",
       "        vertical-align: top;\n",
       "    }\n",
       "\n",
       "    .dataframe thead th {\n",
       "        text-align: right;\n",
       "    }\n",
       "</style>\n",
       "<table border=\"1\" class=\"dataframe\">\n",
       "  <thead>\n",
       "    <tr style=\"text-align: right;\">\n",
       "      <th></th>\n",
       "      <th>Country</th>\n",
       "      <th>Product</th>\n",
       "      <th>$Value(2018)</th>\n",
       "      <th>% Share</th>\n",
       "    </tr>\n",
       "  </thead>\n",
       "  <tbody>\n",
       "    <tr>\n",
       "      <th>185</th>\n",
       "      <td>Canada</td>\n",
       "      <td>Grapes</td>\n",
       "      <td>221177</td>\n",
       "      <td>6.628973</td>\n",
       "    </tr>\n",
       "    <tr>\n",
       "      <th>653</th>\n",
       "      <td>Mexico</td>\n",
       "      <td>Apple</td>\n",
       "      <td>175074</td>\n",
       "      <td>5.247204</td>\n",
       "    </tr>\n",
       "    <tr>\n",
       "      <th>597</th>\n",
       "      <td>Korea, South</td>\n",
       "      <td>Oranges</td>\n",
       "      <td>167600</td>\n",
       "      <td>5.023198</td>\n",
       "    </tr>\n",
       "    <tr>\n",
       "      <th>7</th>\n",
       "      <td>Canada</td>\n",
       "      <td>carrot</td>\n",
       "      <td>154315</td>\n",
       "      <td>4.625028</td>\n",
       "    </tr>\n",
       "    <tr>\n",
       "      <th>12</th>\n",
       "      <td>Canada</td>\n",
       "      <td>potato</td>\n",
       "      <td>141898</td>\n",
       "      <td>4.252874</td>\n",
       "    </tr>\n",
       "    <tr>\n",
       "      <th>32</th>\n",
       "      <td>Mexico</td>\n",
       "      <td>potato</td>\n",
       "      <td>138089</td>\n",
       "      <td>4.138713</td>\n",
       "    </tr>\n",
       "    <tr>\n",
       "      <th>13</th>\n",
       "      <td>Canada</td>\n",
       "      <td>sweet corn</td>\n",
       "      <td>134033</td>\n",
       "      <td>4.017150</td>\n",
       "    </tr>\n",
       "    <tr>\n",
       "      <th>6</th>\n",
       "      <td>Canada</td>\n",
       "      <td>broccoli</td>\n",
       "      <td>113061</td>\n",
       "      <td>3.388591</td>\n",
       "    </tr>\n",
       "    <tr>\n",
       "      <th>176</th>\n",
       "      <td>Canada</td>\n",
       "      <td>Apple</td>\n",
       "      <td>107007</td>\n",
       "      <td>3.207144</td>\n",
       "    </tr>\n",
       "    <tr>\n",
       "      <th>662</th>\n",
       "      <td>Mexico</td>\n",
       "      <td>Grapes</td>\n",
       "      <td>95167</td>\n",
       "      <td>2.852283</td>\n",
       "    </tr>\n",
       "  </tbody>\n",
       "</table>\n",
       "</div>"
      ],
      "text/plain": [
       "          Country     Product  $Value(2018)   % Share\n",
       "185        Canada      Grapes        221177  6.628973\n",
       "653        Mexico       Apple        175074  5.247204\n",
       "597  Korea, South     Oranges        167600  5.023198\n",
       "7          Canada      carrot        154315  4.625028\n",
       "12         Canada      potato        141898  4.252874\n",
       "32         Mexico      potato        138089  4.138713\n",
       "13         Canada  sweet corn        134033  4.017150\n",
       "6          Canada    broccoli        113061  3.388591\n",
       "176        Canada       Apple        107007  3.207144\n",
       "662        Mexico      Grapes         95167  2.852283"
      ]
     },
     "execution_count": 63,
     "metadata": {},
     "output_type": "execute_result"
    }
   ],
   "source": [
    "#Using .rename(columns={}) in order to rename columns\n",
    "top10_export = org_top10_export.rename(columns={\"country\":\"Country\", \"product\":\"Product\",\"yr18\":\"$Value(2018)\", \"Share\":\"% Share\"})\n",
    "top10_export "
   ]
  },
  {
   "cell_type": "code",
   "execution_count": 64,
   "metadata": {},
   "outputs": [],
   "source": [
    "top10_export.reset_index(inplace=True)"
   ]
  },
  {
   "cell_type": "code",
   "execution_count": 65,
   "metadata": {},
   "outputs": [
    {
     "data": {
      "text/html": [
       "<div>\n",
       "<style scoped>\n",
       "    .dataframe tbody tr th:only-of-type {\n",
       "        vertical-align: middle;\n",
       "    }\n",
       "\n",
       "    .dataframe tbody tr th {\n",
       "        vertical-align: top;\n",
       "    }\n",
       "\n",
       "    .dataframe thead th {\n",
       "        text-align: right;\n",
       "    }\n",
       "</style>\n",
       "<table border=\"1\" class=\"dataframe\">\n",
       "  <thead>\n",
       "    <tr style=\"text-align: right;\">\n",
       "      <th></th>\n",
       "      <th>Country</th>\n",
       "      <th>Product</th>\n",
       "      <th>$Value(2018)</th>\n",
       "      <th>% Share</th>\n",
       "    </tr>\n",
       "  </thead>\n",
       "  <tbody>\n",
       "    <tr>\n",
       "      <th>0</th>\n",
       "      <td>Canada</td>\n",
       "      <td>Grapes</td>\n",
       "      <td>221177</td>\n",
       "      <td>6.628973</td>\n",
       "    </tr>\n",
       "    <tr>\n",
       "      <th>1</th>\n",
       "      <td>Mexico</td>\n",
       "      <td>Apple</td>\n",
       "      <td>175074</td>\n",
       "      <td>5.247204</td>\n",
       "    </tr>\n",
       "    <tr>\n",
       "      <th>2</th>\n",
       "      <td>Korea, South</td>\n",
       "      <td>Oranges</td>\n",
       "      <td>167600</td>\n",
       "      <td>5.023198</td>\n",
       "    </tr>\n",
       "    <tr>\n",
       "      <th>3</th>\n",
       "      <td>Canada</td>\n",
       "      <td>carrot</td>\n",
       "      <td>154315</td>\n",
       "      <td>4.625028</td>\n",
       "    </tr>\n",
       "    <tr>\n",
       "      <th>4</th>\n",
       "      <td>Canada</td>\n",
       "      <td>potato</td>\n",
       "      <td>141898</td>\n",
       "      <td>4.252874</td>\n",
       "    </tr>\n",
       "    <tr>\n",
       "      <th>5</th>\n",
       "      <td>Mexico</td>\n",
       "      <td>potato</td>\n",
       "      <td>138089</td>\n",
       "      <td>4.138713</td>\n",
       "    </tr>\n",
       "    <tr>\n",
       "      <th>6</th>\n",
       "      <td>Canada</td>\n",
       "      <td>sweet corn</td>\n",
       "      <td>134033</td>\n",
       "      <td>4.017150</td>\n",
       "    </tr>\n",
       "    <tr>\n",
       "      <th>7</th>\n",
       "      <td>Canada</td>\n",
       "      <td>broccoli</td>\n",
       "      <td>113061</td>\n",
       "      <td>3.388591</td>\n",
       "    </tr>\n",
       "    <tr>\n",
       "      <th>8</th>\n",
       "      <td>Canada</td>\n",
       "      <td>Apple</td>\n",
       "      <td>107007</td>\n",
       "      <td>3.207144</td>\n",
       "    </tr>\n",
       "    <tr>\n",
       "      <th>9</th>\n",
       "      <td>Mexico</td>\n",
       "      <td>Grapes</td>\n",
       "      <td>95167</td>\n",
       "      <td>2.852283</td>\n",
       "    </tr>\n",
       "  </tbody>\n",
       "</table>\n",
       "</div>"
      ],
      "text/plain": [
       "        Country     Product  $Value(2018)   % Share\n",
       "0        Canada      Grapes        221177  6.628973\n",
       "1        Mexico       Apple        175074  5.247204\n",
       "2  Korea, South     Oranges        167600  5.023198\n",
       "3        Canada      carrot        154315  4.625028\n",
       "4        Canada      potato        141898  4.252874\n",
       "5        Mexico      potato        138089  4.138713\n",
       "6        Canada  sweet corn        134033  4.017150\n",
       "7        Canada    broccoli        113061  3.388591\n",
       "8        Canada       Apple        107007  3.207144\n",
       "9        Mexico      Grapes         95167  2.852283"
      ]
     },
     "execution_count": 65,
     "metadata": {},
     "output_type": "execute_result"
    }
   ],
   "source": [
    "# ########################<<<<<Top10_Export Data>>>>>######################################## \n",
    "Top10_Export= top10_export[[\"Country\", \"Product\", \"$Value(2018)\", \"% Share\"]]\n",
    "Top10_Export"
   ]
  },
  {
   "cell_type": "code",
   "execution_count": 66,
   "metadata": {},
   "outputs": [],
   "source": [
    "fi_summary = session.query(FIS.country,FIS.yr17,FIS.yr18).\\\n",
    "    group_by(FIS.country).\\\n",
    "     order_by(FIS.yr18.desc()).all()\n",
    "fi_summary_df = pd.DataFrame(fi_summary, columns=['country', 'yr17', 'yr18'])"
   ]
  },
  {
   "cell_type": "code",
   "execution_count": 67,
   "metadata": {},
   "outputs": [
    {
     "data": {
      "text/plain": [
       "country    68\n",
       "yr17       68\n",
       "yr18       68\n",
       "dtype: int64"
      ]
     },
     "execution_count": 67,
     "metadata": {},
     "output_type": "execute_result"
    }
   ],
   "source": [
    "fi_summary_df.count()"
   ]
  },
  {
   "cell_type": "code",
   "execution_count": 68,
   "metadata": {},
   "outputs": [],
   "source": [
    "fi_summary_df['yr17'] = fi_summary_df['yr17'].str.replace(',', '')"
   ]
  },
  {
   "cell_type": "code",
   "execution_count": 69,
   "metadata": {},
   "outputs": [],
   "source": [
    "fi_summary_df['yr18'] = fi_summary_df['yr18'].str.replace(',', '')"
   ]
  },
  {
   "cell_type": "code",
   "execution_count": 70,
   "metadata": {},
   "outputs": [
    {
     "data": {
      "text/plain": [
       "country    68\n",
       "yr17        8\n",
       "yr18        8\n",
       "dtype: int64"
      ]
     },
     "execution_count": 70,
     "metadata": {},
     "output_type": "execute_result"
    }
   ],
   "source": [
    "fi_summary_df.count()"
   ]
  },
  {
   "cell_type": "code",
   "execution_count": 71,
   "metadata": {},
   "outputs": [
    {
     "data": {
      "text/html": [
       "<div>\n",
       "<style scoped>\n",
       "    .dataframe tbody tr th:only-of-type {\n",
       "        vertical-align: middle;\n",
       "    }\n",
       "\n",
       "    .dataframe tbody tr th {\n",
       "        vertical-align: top;\n",
       "    }\n",
       "\n",
       "    .dataframe thead th {\n",
       "        text-align: right;\n",
       "    }\n",
       "</style>\n",
       "<table border=\"1\" class=\"dataframe\">\n",
       "  <thead>\n",
       "    <tr style=\"text-align: right;\">\n",
       "      <th></th>\n",
       "      <th>country</th>\n",
       "      <th>yr17</th>\n",
       "      <th>yr18</th>\n",
       "    </tr>\n",
       "  </thead>\n",
       "  <tbody>\n",
       "    <tr>\n",
       "      <th>0</th>\n",
       "      <td>Chile</td>\n",
       "      <td>104232</td>\n",
       "      <td>90268</td>\n",
       "    </tr>\n",
       "    <tr>\n",
       "      <th>1</th>\n",
       "      <td>New Zealand</td>\n",
       "      <td>77678</td>\n",
       "      <td>70271</td>\n",
       "    </tr>\n",
       "    <tr>\n",
       "      <th>2</th>\n",
       "      <td>China</td>\n",
       "      <td>4506</td>\n",
       "      <td>5665</td>\n",
       "    </tr>\n",
       "    <tr>\n",
       "      <th>3</th>\n",
       "      <td>Uruguay</td>\n",
       "      <td>4270</td>\n",
       "      <td>4159</td>\n",
       "    </tr>\n",
       "    <tr>\n",
       "      <th>4</th>\n",
       "      <td>Dominican Republic</td>\n",
       "      <td>32344</td>\n",
       "      <td>36660</td>\n",
       "    </tr>\n",
       "  </tbody>\n",
       "</table>\n",
       "</div>"
      ],
      "text/plain": [
       "              country    yr17   yr18\n",
       "0               Chile  104232  90268\n",
       "1         New Zealand   77678  70271\n",
       "2               China    4506   5665\n",
       "3             Uruguay    4270   4159\n",
       "4  Dominican Republic   32344  36660"
      ]
     },
     "execution_count": 71,
     "metadata": {},
     "output_type": "execute_result"
    }
   ],
   "source": [
    "fi_summary_df.fillna(0).head()"
   ]
  },
  {
   "cell_type": "code",
   "execution_count": 72,
   "metadata": {},
   "outputs": [],
   "source": [
    "fi_summary_df=fi_summary_df.dropna(how=\"any\")"
   ]
  },
  {
   "cell_type": "code",
   "execution_count": 73,
   "metadata": {},
   "outputs": [],
   "source": [
    "fi_summary_df[\"yr17\"] = pd.to_numeric(fi_summary_df[\"yr17\"])\n",
    "fi_summary_df[\"yr18\"] = pd.to_numeric(fi_summary_df[\"yr18\"])"
   ]
  },
  {
   "cell_type": "code",
   "execution_count": 74,
   "metadata": {},
   "outputs": [
    {
     "data": {
      "text/plain": [
       "country    8\n",
       "yr17       8\n",
       "yr18       8\n",
       "dtype: int64"
      ]
     },
     "execution_count": 74,
     "metadata": {},
     "output_type": "execute_result"
    }
   ],
   "source": [
    "fi_summary_df.count()"
   ]
  },
  {
   "cell_type": "code",
   "execution_count": 75,
   "metadata": {},
   "outputs": [],
   "source": [
    "vi_summary = session.query(VIS.country,VIS.yr17,VIS.yr18).\\\n",
    "    group_by(VIS.country).\\\n",
    "     order_by(VIS.yr18.desc()).all()\n",
    "vi_summary_df = pd.DataFrame(vi_summary, columns=['country', 'yr17', 'yr18'])"
   ]
  },
  {
   "cell_type": "code",
   "execution_count": 76,
   "metadata": {},
   "outputs": [
    {
     "data": {
      "text/plain": [
       "country    38\n",
       "yr17       38\n",
       "yr18       38\n",
       "dtype: int64"
      ]
     },
     "execution_count": 76,
     "metadata": {},
     "output_type": "execute_result"
    }
   ],
   "source": [
    "vi_summary_df.count()"
   ]
  },
  {
   "cell_type": "code",
   "execution_count": 77,
   "metadata": {},
   "outputs": [],
   "source": [
    "vi_summary_df['yr17'] = vi_summary_df['yr17'].str.replace(',', '')"
   ]
  },
  {
   "cell_type": "code",
   "execution_count": 78,
   "metadata": {},
   "outputs": [],
   "source": [
    "vi_summary_df['yr18'] = vi_summary_df['yr18'].str.replace(',', '')"
   ]
  },
  {
   "cell_type": "code",
   "execution_count": 79,
   "metadata": {},
   "outputs": [
    {
     "data": {
      "text/html": [
       "<div>\n",
       "<style scoped>\n",
       "    .dataframe tbody tr th:only-of-type {\n",
       "        vertical-align: middle;\n",
       "    }\n",
       "\n",
       "    .dataframe tbody tr th {\n",
       "        vertical-align: top;\n",
       "    }\n",
       "\n",
       "    .dataframe thead th {\n",
       "        text-align: right;\n",
       "    }\n",
       "</style>\n",
       "<table border=\"1\" class=\"dataframe\">\n",
       "  <thead>\n",
       "    <tr style=\"text-align: right;\">\n",
       "      <th></th>\n",
       "      <th>country</th>\n",
       "      <th>yr17</th>\n",
       "      <th>yr18</th>\n",
       "    </tr>\n",
       "  </thead>\n",
       "  <tbody>\n",
       "    <tr>\n",
       "      <th>0</th>\n",
       "      <td>Israel</td>\n",
       "      <td>42295</td>\n",
       "      <td>42982</td>\n",
       "    </tr>\n",
       "    <tr>\n",
       "      <th>1</th>\n",
       "      <td>China</td>\n",
       "      <td>6032</td>\n",
       "      <td>4753</td>\n",
       "    </tr>\n",
       "    <tr>\n",
       "      <th>2</th>\n",
       "      <td>Canada</td>\n",
       "      <td>2271</td>\n",
       "      <td>2165</td>\n",
       "    </tr>\n",
       "    <tr>\n",
       "      <th>3</th>\n",
       "      <td>Mexico</td>\n",
       "      <td>0</td>\n",
       "      <td>0</td>\n",
       "    </tr>\n",
       "    <tr>\n",
       "      <th>4</th>\n",
       "      <td>Thailand</td>\n",
       "      <td>0</td>\n",
       "      <td>0</td>\n",
       "    </tr>\n",
       "  </tbody>\n",
       "</table>\n",
       "</div>"
      ],
      "text/plain": [
       "    country   yr17   yr18\n",
       "0    Israel  42295  42982\n",
       "1     China   6032   4753\n",
       "2    Canada   2271   2165\n",
       "3    Mexico      0      0\n",
       "4  Thailand      0      0"
      ]
     },
     "execution_count": 79,
     "metadata": {},
     "output_type": "execute_result"
    }
   ],
   "source": [
    "vi_summary_df.fillna(0).head()"
   ]
  },
  {
   "cell_type": "code",
   "execution_count": 80,
   "metadata": {},
   "outputs": [],
   "source": [
    "vi_summary_df=vi_summary_df.dropna(how=\"any\")"
   ]
  },
  {
   "cell_type": "code",
   "execution_count": 81,
   "metadata": {},
   "outputs": [],
   "source": [
    "vi_summary_df[\"yr17\"] = pd.to_numeric(vi_summary_df[\"yr17\"])\n",
    "vi_summary_df[\"yr18\"] = pd.to_numeric(vi_summary_df[\"yr18\"])"
   ]
  },
  {
   "cell_type": "code",
   "execution_count": 82,
   "metadata": {},
   "outputs": [
    {
     "data": {
      "text/plain": [
       "country    3\n",
       "yr17       3\n",
       "yr18       3\n",
       "dtype: int64"
      ]
     },
     "execution_count": 82,
     "metadata": {},
     "output_type": "execute_result"
    }
   ],
   "source": [
    "vi_summary_df.count()"
   ]
  },
  {
   "cell_type": "code",
   "execution_count": 83,
   "metadata": {},
   "outputs": [],
   "source": [
    "fe_summary = session.query(FED.country,FED.yr17,FED.yr18).\\\n",
    "    group_by(FED.country).\\\n",
    "     order_by(FED.yr18.desc()).all()\n",
    "fe_summary_df = pd.DataFrame(fe_summary, columns=['country', 'yr17', 'yr18'])"
   ]
  },
  {
   "cell_type": "code",
   "execution_count": 84,
   "metadata": {},
   "outputs": [],
   "source": [
    "fe_summary_df['yr17'] = fe_summary_df['yr17'].str.replace(',', '')"
   ]
  },
  {
   "cell_type": "code",
   "execution_count": 85,
   "metadata": {},
   "outputs": [],
   "source": [
    "fe_summary_df['yr18'] = fe_summary_df['yr18'].str.replace(',', '')"
   ]
  },
  {
   "cell_type": "code",
   "execution_count": 86,
   "metadata": {},
   "outputs": [
    {
     "data": {
      "text/html": [
       "<div>\n",
       "<style scoped>\n",
       "    .dataframe tbody tr th:only-of-type {\n",
       "        vertical-align: middle;\n",
       "    }\n",
       "\n",
       "    .dataframe tbody tr th {\n",
       "        vertical-align: top;\n",
       "    }\n",
       "\n",
       "    .dataframe thead th {\n",
       "        text-align: right;\n",
       "    }\n",
       "</style>\n",
       "<table border=\"1\" class=\"dataframe\">\n",
       "  <thead>\n",
       "    <tr style=\"text-align: right;\">\n",
       "      <th></th>\n",
       "      <th>country</th>\n",
       "      <th>yr17</th>\n",
       "      <th>yr18</th>\n",
       "    </tr>\n",
       "  </thead>\n",
       "  <tbody>\n",
       "    <tr>\n",
       "      <th>0</th>\n",
       "      <td>India</td>\n",
       "      <td>174179</td>\n",
       "      <td>90591</td>\n",
       "    </tr>\n",
       "    <tr>\n",
       "      <th>1</th>\n",
       "      <td>Costa Rica</td>\n",
       "      <td>11646</td>\n",
       "      <td>8941</td>\n",
       "    </tr>\n",
       "    <tr>\n",
       "      <th>2</th>\n",
       "      <td>Malaysia</td>\n",
       "      <td>11073</td>\n",
       "      <td>8034</td>\n",
       "    </tr>\n",
       "    <tr>\n",
       "      <th>3</th>\n",
       "      <td>Honduras</td>\n",
       "      <td>9196</td>\n",
       "      <td>7294</td>\n",
       "    </tr>\n",
       "    <tr>\n",
       "      <th>4</th>\n",
       "      <td>Taiwan</td>\n",
       "      <td>67184</td>\n",
       "      <td>64703</td>\n",
       "    </tr>\n",
       "  </tbody>\n",
       "</table>\n",
       "</div>"
      ],
      "text/plain": [
       "      country    yr17   yr18\n",
       "0       India  174179  90591\n",
       "1  Costa Rica   11646   8941\n",
       "2    Malaysia   11073   8034\n",
       "3    Honduras    9196   7294\n",
       "4      Taiwan   67184  64703"
      ]
     },
     "execution_count": 86,
     "metadata": {},
     "output_type": "execute_result"
    }
   ],
   "source": [
    "fe_summary_df.fillna(0).head()"
   ]
  },
  {
   "cell_type": "code",
   "execution_count": 87,
   "metadata": {},
   "outputs": [],
   "source": [
    "fe_summary_df=fe_summary_df.dropna(how=\"any\")"
   ]
  },
  {
   "cell_type": "code",
   "execution_count": 88,
   "metadata": {},
   "outputs": [],
   "source": [
    "fe_summary_df[\"yr17\"] = pd.to_numeric(fe_summary_df[\"yr17\"])\n",
    "fe_summary_df[\"yr18\"] = pd.to_numeric(fe_summary_df[\"yr18\"])"
   ]
  },
  {
   "cell_type": "code",
   "execution_count": 89,
   "metadata": {},
   "outputs": [
    {
     "data": {
      "text/plain": [
       "country    36\n",
       "yr17       36\n",
       "yr18       36\n",
       "dtype: int64"
      ]
     },
     "execution_count": 89,
     "metadata": {},
     "output_type": "execute_result"
    }
   ],
   "source": [
    "fe_summary_df.count()"
   ]
  },
  {
   "cell_type": "code",
   "execution_count": 90,
   "metadata": {},
   "outputs": [],
   "source": [
    "ve_summary = session.query(VED.country,VED.yr17,VED.yr18).\\\n",
    "    group_by(VED.country).\\\n",
    "     order_by(VED.yr18.desc()).all()\n",
    "ve_summary_df = pd.DataFrame(ve_summary, columns=['country', 'yr17', 'yr18'])"
   ]
  },
  {
   "cell_type": "code",
   "execution_count": 91,
   "metadata": {},
   "outputs": [],
   "source": [
    "ve_summary_df['yr17'] = ve_summary_df['yr17'].str.replace(',', '')"
   ]
  },
  {
   "cell_type": "code",
   "execution_count": 92,
   "metadata": {},
   "outputs": [],
   "source": [
    "ve_summary_df['yr18'] = ve_summary_df['yr18'].str.replace(',', '')"
   ]
  },
  {
   "cell_type": "code",
   "execution_count": 93,
   "metadata": {},
   "outputs": [
    {
     "data": {
      "text/html": [
       "<div>\n",
       "<style scoped>\n",
       "    .dataframe tbody tr th:only-of-type {\n",
       "        vertical-align: middle;\n",
       "    }\n",
       "\n",
       "    .dataframe tbody tr th {\n",
       "        vertical-align: top;\n",
       "    }\n",
       "\n",
       "    .dataframe thead th {\n",
       "        text-align: right;\n",
       "    }\n",
       "</style>\n",
       "<table border=\"1\" class=\"dataframe\">\n",
       "  <thead>\n",
       "    <tr style=\"text-align: right;\">\n",
       "      <th></th>\n",
       "      <th>country</th>\n",
       "      <th>yr17</th>\n",
       "      <th>yr18</th>\n",
       "    </tr>\n",
       "  </thead>\n",
       "  <tbody>\n",
       "    <tr>\n",
       "      <th>0</th>\n",
       "      <td>United Kingdom</td>\n",
       "      <td>1943</td>\n",
       "      <td>5849</td>\n",
       "    </tr>\n",
       "    <tr>\n",
       "      <th>1</th>\n",
       "      <td>Taiwan</td>\n",
       "      <td>9706</td>\n",
       "      <td>4807</td>\n",
       "    </tr>\n",
       "    <tr>\n",
       "      <th>2</th>\n",
       "      <td>Japan</td>\n",
       "      <td>33401</td>\n",
       "      <td>39167</td>\n",
       "    </tr>\n",
       "    <tr>\n",
       "      <th>3</th>\n",
       "      <td>Canada</td>\n",
       "      <td>2678</td>\n",
       "      <td>2990</td>\n",
       "    </tr>\n",
       "    <tr>\n",
       "      <th>4</th>\n",
       "      <td>Korea, South</td>\n",
       "      <td>1432</td>\n",
       "      <td>1343</td>\n",
       "    </tr>\n",
       "  </tbody>\n",
       "</table>\n",
       "</div>"
      ],
      "text/plain": [
       "          country   yr17   yr18\n",
       "0  United Kingdom   1943   5849\n",
       "1          Taiwan   9706   4807\n",
       "2           Japan  33401  39167\n",
       "3          Canada   2678   2990\n",
       "4    Korea, South   1432   1343"
      ]
     },
     "execution_count": 93,
     "metadata": {},
     "output_type": "execute_result"
    }
   ],
   "source": [
    "ve_summary_df.fillna(0).head()"
   ]
  },
  {
   "cell_type": "code",
   "execution_count": 94,
   "metadata": {},
   "outputs": [],
   "source": [
    "ve_summary_df=ve_summary_df.dropna(how=\"any\")"
   ]
  },
  {
   "cell_type": "code",
   "execution_count": 95,
   "metadata": {},
   "outputs": [],
   "source": [
    "ve_summary_df[\"yr17\"] = pd.to_numeric(ve_summary_df[\"yr17\"])\n",
    "ve_summary_df[\"yr18\"] = pd.to_numeric(ve_summary_df[\"yr18\"])"
   ]
  },
  {
   "cell_type": "code",
   "execution_count": 96,
   "metadata": {},
   "outputs": [
    {
     "data": {
      "text/plain": [
       "country    5\n",
       "yr17       5\n",
       "yr18       5\n",
       "dtype: int64"
      ]
     },
     "execution_count": 96,
     "metadata": {},
     "output_type": "execute_result"
    }
   ],
   "source": [
    "ve_summary_df.count()"
   ]
  },
  {
   "cell_type": "code",
   "execution_count": 97,
   "metadata": {},
   "outputs": [],
   "source": [
    "isummary_frames = [vi_summary_df, fi_summary_df]\n",
    "summary_import = pd.concat(isummary_frames, ignore_index=True)\n",
    "\n",
    "# fe_summary = session.query(FED.country,FED.yr17,FED.yr18).\\\n",
    "#     group_by(FED.country).\\\n",
    "#      order_by(FED.yr18.desc()).all()"
   ]
  },
  {
   "cell_type": "code",
   "execution_count": 98,
   "metadata": {},
   "outputs": [
    {
     "data": {
      "text/html": [
       "<div>\n",
       "<style scoped>\n",
       "    .dataframe tbody tr th:only-of-type {\n",
       "        vertical-align: middle;\n",
       "    }\n",
       "\n",
       "    .dataframe tbody tr th {\n",
       "        vertical-align: top;\n",
       "    }\n",
       "\n",
       "    .dataframe thead th {\n",
       "        text-align: right;\n",
       "    }\n",
       "</style>\n",
       "<table border=\"1\" class=\"dataframe\">\n",
       "  <thead>\n",
       "    <tr style=\"text-align: right;\">\n",
       "      <th></th>\n",
       "      <th>country</th>\n",
       "      <th>yr17</th>\n",
       "      <th>yr18</th>\n",
       "    </tr>\n",
       "  </thead>\n",
       "  <tbody>\n",
       "    <tr>\n",
       "      <th>3</th>\n",
       "      <td>Chile</td>\n",
       "      <td>104232</td>\n",
       "      <td>90268</td>\n",
       "    </tr>\n",
       "    <tr>\n",
       "      <th>4</th>\n",
       "      <td>New Zealand</td>\n",
       "      <td>77678</td>\n",
       "      <td>70271</td>\n",
       "    </tr>\n",
       "    <tr>\n",
       "      <th>0</th>\n",
       "      <td>Israel</td>\n",
       "      <td>42295</td>\n",
       "      <td>42982</td>\n",
       "    </tr>\n",
       "    <tr>\n",
       "      <th>9</th>\n",
       "      <td>Canada</td>\n",
       "      <td>37604</td>\n",
       "      <td>24737</td>\n",
       "    </tr>\n",
       "    <tr>\n",
       "      <th>7</th>\n",
       "      <td>Dominican Republic</td>\n",
       "      <td>32344</td>\n",
       "      <td>36660</td>\n",
       "    </tr>\n",
       "  </tbody>\n",
       "</table>\n",
       "</div>"
      ],
      "text/plain": [
       "              country    yr17   yr18\n",
       "3               Chile  104232  90268\n",
       "4         New Zealand   77678  70271\n",
       "0              Israel   42295  42982\n",
       "9              Canada   37604  24737\n",
       "7  Dominican Republic   32344  36660"
      ]
     },
     "execution_count": 98,
     "metadata": {},
     "output_type": "execute_result"
    }
   ],
   "source": [
    "summary_import.sort_values(['yr17', 'yr18'], ascending=False).head()"
   ]
  },
  {
   "cell_type": "code",
   "execution_count": 99,
   "metadata": {},
   "outputs": [],
   "source": [
    "import_yr17sum=summary_import['yr17'].sum()"
   ]
  },
  {
   "cell_type": "code",
   "execution_count": 100,
   "metadata": {},
   "outputs": [
    {
     "data": {
      "text/plain": [
       "331347"
      ]
     },
     "execution_count": 100,
     "metadata": {},
     "output_type": "execute_result"
    }
   ],
   "source": [
    "import_yr17sum"
   ]
  },
  {
   "cell_type": "code",
   "execution_count": 101,
   "metadata": {},
   "outputs": [],
   "source": [
    "import_yr18sum=summary_import['yr18'].sum()"
   ]
  },
  {
   "cell_type": "code",
   "execution_count": 102,
   "metadata": {},
   "outputs": [
    {
     "data": {
      "text/plain": [
       "295615"
      ]
     },
     "execution_count": 102,
     "metadata": {},
     "output_type": "execute_result"
    }
   ],
   "source": [
    "import_yr18sum"
   ]
  },
  {
   "cell_type": "code",
   "execution_count": 103,
   "metadata": {},
   "outputs": [
    {
     "data": {
      "text/plain": [
       "country    11\n",
       "yr17       11\n",
       "yr18       11\n",
       "dtype: int64"
      ]
     },
     "execution_count": 103,
     "metadata": {},
     "output_type": "execute_result"
    }
   ],
   "source": [
    "summary_import.count()"
   ]
  },
  {
   "cell_type": "code",
   "execution_count": 104,
   "metadata": {},
   "outputs": [],
   "source": [
    "for i in summary_import:\n",
    "    ms17=summary_import['yr17']/import_yr17sum*100\n"
   ]
  },
  {
   "cell_type": "code",
   "execution_count": 105,
   "metadata": {},
   "outputs": [],
   "source": [
    "for i in summary_import:\n",
    "    ms18=summary_import['yr18']/import_yr18sum*100\n"
   ]
  },
  {
   "cell_type": "code",
   "execution_count": 106,
   "metadata": {},
   "outputs": [],
   "source": [
    "# thousands_of_dollars = data_file_pd[\"Amount\"]/1000\n",
    "# data_file_pd[\"Thousands of Dollars\"] = thousands_of_dollars\n",
    "\n",
    "# data_file_pd.head() "
   ]
  },
  {
   "cell_type": "code",
   "execution_count": 107,
   "metadata": {},
   "outputs": [],
   "source": [
    "summary_import[\"MS 2017\"]=ms17"
   ]
  },
  {
   "cell_type": "code",
   "execution_count": 108,
   "metadata": {},
   "outputs": [],
   "source": [
    "summary_import[\"MS 2018\"]=ms18"
   ]
  },
  {
   "cell_type": "code",
   "execution_count": 109,
   "metadata": {},
   "outputs": [],
   "source": [
    "change = ms18-ms17"
   ]
  },
  {
   "cell_type": "code",
   "execution_count": 110,
   "metadata": {},
   "outputs": [],
   "source": [
    "summary_import[\"Change in MS\"]=change"
   ]
  },
  {
   "cell_type": "code",
   "execution_count": 111,
   "metadata": {},
   "outputs": [
    {
     "data": {
      "text/html": [
       "<div>\n",
       "<style scoped>\n",
       "    .dataframe tbody tr th:only-of-type {\n",
       "        vertical-align: middle;\n",
       "    }\n",
       "\n",
       "    .dataframe tbody tr th {\n",
       "        vertical-align: top;\n",
       "    }\n",
       "\n",
       "    .dataframe thead th {\n",
       "        text-align: right;\n",
       "    }\n",
       "</style>\n",
       "<table border=\"1\" class=\"dataframe\">\n",
       "  <thead>\n",
       "    <tr style=\"text-align: right;\">\n",
       "      <th></th>\n",
       "      <th>country</th>\n",
       "      <th>yr17</th>\n",
       "      <th>yr18</th>\n",
       "      <th>MS 2017</th>\n",
       "      <th>MS 2018</th>\n",
       "      <th>Change in MS</th>\n",
       "    </tr>\n",
       "  </thead>\n",
       "  <tbody>\n",
       "    <tr>\n",
       "      <th>0</th>\n",
       "      <td>Israel</td>\n",
       "      <td>42295</td>\n",
       "      <td>42982</td>\n",
       "      <td>12.764564</td>\n",
       "      <td>14.539858</td>\n",
       "      <td>1.775294</td>\n",
       "    </tr>\n",
       "    <tr>\n",
       "      <th>1</th>\n",
       "      <td>China</td>\n",
       "      <td>6032</td>\n",
       "      <td>4753</td>\n",
       "      <td>1.820448</td>\n",
       "      <td>1.607835</td>\n",
       "      <td>-0.212614</td>\n",
       "    </tr>\n",
       "    <tr>\n",
       "      <th>2</th>\n",
       "      <td>Canada</td>\n",
       "      <td>2271</td>\n",
       "      <td>2165</td>\n",
       "      <td>0.685384</td>\n",
       "      <td>0.732371</td>\n",
       "      <td>0.046987</td>\n",
       "    </tr>\n",
       "    <tr>\n",
       "      <th>3</th>\n",
       "      <td>Chile</td>\n",
       "      <td>104232</td>\n",
       "      <td>90268</td>\n",
       "      <td>31.457053</td>\n",
       "      <td>30.535663</td>\n",
       "      <td>-0.921390</td>\n",
       "    </tr>\n",
       "    <tr>\n",
       "      <th>4</th>\n",
       "      <td>New Zealand</td>\n",
       "      <td>77678</td>\n",
       "      <td>70271</td>\n",
       "      <td>23.443097</td>\n",
       "      <td>23.771121</td>\n",
       "      <td>0.328024</td>\n",
       "    </tr>\n",
       "  </tbody>\n",
       "</table>\n",
       "</div>"
      ],
      "text/plain": [
       "       country    yr17   yr18    MS 2017    MS 2018  Change in MS\n",
       "0       Israel   42295  42982  12.764564  14.539858      1.775294\n",
       "1        China    6032   4753   1.820448   1.607835     -0.212614\n",
       "2       Canada    2271   2165   0.685384   0.732371      0.046987\n",
       "3        Chile  104232  90268  31.457053  30.535663     -0.921390\n",
       "4  New Zealand   77678  70271  23.443097  23.771121      0.328024"
      ]
     },
     "execution_count": 111,
     "metadata": {},
     "output_type": "execute_result"
    }
   ],
   "source": [
    "summary_import.head()"
   ]
  },
  {
   "cell_type": "code",
   "execution_count": 112,
   "metadata": {},
   "outputs": [
    {
     "data": {
      "text/html": [
       "<div>\n",
       "<style scoped>\n",
       "    .dataframe tbody tr th:only-of-type {\n",
       "        vertical-align: middle;\n",
       "    }\n",
       "\n",
       "    .dataframe tbody tr th {\n",
       "        vertical-align: top;\n",
       "    }\n",
       "\n",
       "    .dataframe thead th {\n",
       "        text-align: right;\n",
       "    }\n",
       "</style>\n",
       "<table border=\"1\" class=\"dataframe\">\n",
       "  <thead>\n",
       "    <tr style=\"text-align: right;\">\n",
       "      <th></th>\n",
       "      <th>country</th>\n",
       "      <th>MS 2017</th>\n",
       "      <th>MS 2018</th>\n",
       "      <th>Change in MS</th>\n",
       "      <th>yr17</th>\n",
       "      <th>yr18</th>\n",
       "    </tr>\n",
       "  </thead>\n",
       "  <tbody>\n",
       "    <tr>\n",
       "      <th>0</th>\n",
       "      <td>Israel</td>\n",
       "      <td>12.764564</td>\n",
       "      <td>14.539858</td>\n",
       "      <td>1.775294</td>\n",
       "      <td>42295</td>\n",
       "      <td>42982</td>\n",
       "    </tr>\n",
       "    <tr>\n",
       "      <th>1</th>\n",
       "      <td>China</td>\n",
       "      <td>1.820448</td>\n",
       "      <td>1.607835</td>\n",
       "      <td>-0.212614</td>\n",
       "      <td>6032</td>\n",
       "      <td>4753</td>\n",
       "    </tr>\n",
       "    <tr>\n",
       "      <th>2</th>\n",
       "      <td>Canada</td>\n",
       "      <td>0.685384</td>\n",
       "      <td>0.732371</td>\n",
       "      <td>0.046987</td>\n",
       "      <td>2271</td>\n",
       "      <td>2165</td>\n",
       "    </tr>\n",
       "    <tr>\n",
       "      <th>3</th>\n",
       "      <td>Chile</td>\n",
       "      <td>31.457053</td>\n",
       "      <td>30.535663</td>\n",
       "      <td>-0.921390</td>\n",
       "      <td>104232</td>\n",
       "      <td>90268</td>\n",
       "    </tr>\n",
       "    <tr>\n",
       "      <th>4</th>\n",
       "      <td>New Zealand</td>\n",
       "      <td>23.443097</td>\n",
       "      <td>23.771121</td>\n",
       "      <td>0.328024</td>\n",
       "      <td>77678</td>\n",
       "      <td>70271</td>\n",
       "    </tr>\n",
       "  </tbody>\n",
       "</table>\n",
       "</div>"
      ],
      "text/plain": [
       "       country    MS 2017    MS 2018  Change in MS    yr17   yr18\n",
       "0       Israel  12.764564  14.539858      1.775294   42295  42982\n",
       "1        China   1.820448   1.607835     -0.212614    6032   4753\n",
       "2       Canada   0.685384   0.732371      0.046987    2271   2165\n",
       "3        Chile  31.457053  30.535663     -0.921390  104232  90268\n",
       "4  New Zealand  23.443097  23.771121      0.328024   77678  70271"
      ]
     },
     "execution_count": 112,
     "metadata": {},
     "output_type": "execute_result"
    }
   ],
   "source": [
    "organized_summary_import = summary_import[[\"country\",\"MS 2017\",\"MS 2018\",\"Change in MS\", \"yr17\", \"yr18\"]]\n",
    "organized_summary_import.head()"
   ]
  },
  {
   "cell_type": "code",
   "execution_count": 113,
   "metadata": {},
   "outputs": [
    {
     "data": {
      "text/html": [
       "<div>\n",
       "<style scoped>\n",
       "    .dataframe tbody tr th:only-of-type {\n",
       "        vertical-align: middle;\n",
       "    }\n",
       "\n",
       "    .dataframe tbody tr th {\n",
       "        vertical-align: top;\n",
       "    }\n",
       "\n",
       "    .dataframe thead th {\n",
       "        text-align: right;\n",
       "    }\n",
       "</style>\n",
       "<table border=\"1\" class=\"dataframe\">\n",
       "  <thead>\n",
       "    <tr style=\"text-align: right;\">\n",
       "      <th></th>\n",
       "      <th>Country</th>\n",
       "      <th>Market Share(2017)</th>\n",
       "      <th>Market Share(2018)</th>\n",
       "      <th>Change In Market Share</th>\n",
       "      <th>$Value(2017)</th>\n",
       "      <th>$Value(2018)</th>\n",
       "    </tr>\n",
       "  </thead>\n",
       "  <tbody>\n",
       "    <tr>\n",
       "      <th>0</th>\n",
       "      <td>Israel</td>\n",
       "      <td>12.764564</td>\n",
       "      <td>14.539858</td>\n",
       "      <td>1.775294</td>\n",
       "      <td>42295</td>\n",
       "      <td>42982</td>\n",
       "    </tr>\n",
       "    <tr>\n",
       "      <th>1</th>\n",
       "      <td>China</td>\n",
       "      <td>1.820448</td>\n",
       "      <td>1.607835</td>\n",
       "      <td>-0.212614</td>\n",
       "      <td>6032</td>\n",
       "      <td>4753</td>\n",
       "    </tr>\n",
       "    <tr>\n",
       "      <th>2</th>\n",
       "      <td>Canada</td>\n",
       "      <td>0.685384</td>\n",
       "      <td>0.732371</td>\n",
       "      <td>0.046987</td>\n",
       "      <td>2271</td>\n",
       "      <td>2165</td>\n",
       "    </tr>\n",
       "    <tr>\n",
       "      <th>3</th>\n",
       "      <td>Chile</td>\n",
       "      <td>31.457053</td>\n",
       "      <td>30.535663</td>\n",
       "      <td>-0.921390</td>\n",
       "      <td>104232</td>\n",
       "      <td>90268</td>\n",
       "    </tr>\n",
       "    <tr>\n",
       "      <th>4</th>\n",
       "      <td>New Zealand</td>\n",
       "      <td>23.443097</td>\n",
       "      <td>23.771121</td>\n",
       "      <td>0.328024</td>\n",
       "      <td>77678</td>\n",
       "      <td>70271</td>\n",
       "    </tr>\n",
       "  </tbody>\n",
       "</table>\n",
       "</div>"
      ],
      "text/plain": [
       "       Country  Market Share(2017)  Market Share(2018)  \\\n",
       "0       Israel           12.764564           14.539858   \n",
       "1        China            1.820448            1.607835   \n",
       "2       Canada            0.685384            0.732371   \n",
       "3        Chile           31.457053           30.535663   \n",
       "4  New Zealand           23.443097           23.771121   \n",
       "\n",
       "   Change In Market Share  $Value(2017)  $Value(2018)  \n",
       "0                1.775294         42295         42982  \n",
       "1               -0.212614          6032          4753  \n",
       "2                0.046987          2271          2165  \n",
       "3               -0.921390        104232         90268  \n",
       "4                0.328024         77678         70271  "
      ]
     },
     "execution_count": 113,
     "metadata": {},
     "output_type": "execute_result"
    }
   ],
   "source": [
    "#Using .rename(columns={}) in order to rename columns\n",
    "summary_import = organized_summary_import.rename(columns={\"country\":\"Country\", \"MS 2017\":\"Market Share(2017)\",\"MS 2018\":\"Market Share(2018)\", \"Change in MS\":\"Change In Market Share\",\"yr17\":\"$Value(2017)\", \"yr18\":\"$Value(2018)\"})\n",
    "summary_import.head()"
   ]
  },
  {
   "cell_type": "code",
   "execution_count": 114,
   "metadata": {},
   "outputs": [
    {
     "data": {
      "text/html": [
       "<div>\n",
       "<style scoped>\n",
       "    .dataframe tbody tr th:only-of-type {\n",
       "        vertical-align: middle;\n",
       "    }\n",
       "\n",
       "    .dataframe tbody tr th {\n",
       "        vertical-align: top;\n",
       "    }\n",
       "\n",
       "    .dataframe thead th {\n",
       "        text-align: right;\n",
       "    }\n",
       "</style>\n",
       "<table border=\"1\" class=\"dataframe\">\n",
       "  <thead>\n",
       "    <tr style=\"text-align: right;\">\n",
       "      <th></th>\n",
       "      <th>Country</th>\n",
       "      <th>Market Share(2017)</th>\n",
       "      <th>Market Share(2018)</th>\n",
       "      <th>Change In Market Share</th>\n",
       "      <th>$Value(2017)</th>\n",
       "      <th>$Value(2018)</th>\n",
       "    </tr>\n",
       "  </thead>\n",
       "  <tbody>\n",
       "    <tr>\n",
       "      <th>3</th>\n",
       "      <td>Chile</td>\n",
       "      <td>31.457053</td>\n",
       "      <td>30.535663</td>\n",
       "      <td>-0.921390</td>\n",
       "      <td>104232</td>\n",
       "      <td>90268</td>\n",
       "    </tr>\n",
       "    <tr>\n",
       "      <th>4</th>\n",
       "      <td>New Zealand</td>\n",
       "      <td>23.443097</td>\n",
       "      <td>23.771121</td>\n",
       "      <td>0.328024</td>\n",
       "      <td>77678</td>\n",
       "      <td>70271</td>\n",
       "    </tr>\n",
       "    <tr>\n",
       "      <th>0</th>\n",
       "      <td>Israel</td>\n",
       "      <td>12.764564</td>\n",
       "      <td>14.539858</td>\n",
       "      <td>1.775294</td>\n",
       "      <td>42295</td>\n",
       "      <td>42982</td>\n",
       "    </tr>\n",
       "    <tr>\n",
       "      <th>7</th>\n",
       "      <td>Dominican Republic</td>\n",
       "      <td>9.761368</td>\n",
       "      <td>12.401265</td>\n",
       "      <td>2.639897</td>\n",
       "      <td>32344</td>\n",
       "      <td>36660</td>\n",
       "    </tr>\n",
       "    <tr>\n",
       "      <th>9</th>\n",
       "      <td>Canada</td>\n",
       "      <td>11.348828</td>\n",
       "      <td>8.367979</td>\n",
       "      <td>-2.980849</td>\n",
       "      <td>37604</td>\n",
       "      <td>24737</td>\n",
       "    </tr>\n",
       "  </tbody>\n",
       "</table>\n",
       "</div>"
      ],
      "text/plain": [
       "              Country  Market Share(2017)  Market Share(2018)  \\\n",
       "3               Chile           31.457053           30.535663   \n",
       "4         New Zealand           23.443097           23.771121   \n",
       "0              Israel           12.764564           14.539858   \n",
       "7  Dominican Republic            9.761368           12.401265   \n",
       "9              Canada           11.348828            8.367979   \n",
       "\n",
       "   Change In Market Share  $Value(2017)  $Value(2018)  \n",
       "3               -0.921390        104232         90268  \n",
       "4                0.328024         77678         70271  \n",
       "0                1.775294         42295         42982  \n",
       "7                2.639897         32344         36660  \n",
       "9               -2.980849         37604         24737  "
      ]
     },
     "execution_count": 114,
     "metadata": {},
     "output_type": "execute_result"
    }
   ],
   "source": [
    "summary_import=summary_import.sort_values(['Market Share(2018)'], ascending=False).head()\n",
    "summary_import"
   ]
  },
  {
   "cell_type": "code",
   "execution_count": 115,
   "metadata": {},
   "outputs": [],
   "source": [
    "summary_import.reset_index(inplace=True)"
   ]
  },
  {
   "cell_type": "code",
   "execution_count": 116,
   "metadata": {},
   "outputs": [
    {
     "data": {
      "text/html": [
       "<div>\n",
       "<style scoped>\n",
       "    .dataframe tbody tr th:only-of-type {\n",
       "        vertical-align: middle;\n",
       "    }\n",
       "\n",
       "    .dataframe tbody tr th {\n",
       "        vertical-align: top;\n",
       "    }\n",
       "\n",
       "    .dataframe thead th {\n",
       "        text-align: right;\n",
       "    }\n",
       "</style>\n",
       "<table border=\"1\" class=\"dataframe\">\n",
       "  <thead>\n",
       "    <tr style=\"text-align: right;\">\n",
       "      <th></th>\n",
       "      <th>Country</th>\n",
       "      <th>Market Share(2017)</th>\n",
       "      <th>Market Share(2018)</th>\n",
       "      <th>Change In Market Share</th>\n",
       "      <th>$Value(2017)</th>\n",
       "      <th>$Value(2018)</th>\n",
       "    </tr>\n",
       "  </thead>\n",
       "  <tbody>\n",
       "    <tr>\n",
       "      <th>0</th>\n",
       "      <td>Chile</td>\n",
       "      <td>31.457053</td>\n",
       "      <td>30.535663</td>\n",
       "      <td>-0.921390</td>\n",
       "      <td>104232</td>\n",
       "      <td>90268</td>\n",
       "    </tr>\n",
       "    <tr>\n",
       "      <th>1</th>\n",
       "      <td>New Zealand</td>\n",
       "      <td>23.443097</td>\n",
       "      <td>23.771121</td>\n",
       "      <td>0.328024</td>\n",
       "      <td>77678</td>\n",
       "      <td>70271</td>\n",
       "    </tr>\n",
       "    <tr>\n",
       "      <th>2</th>\n",
       "      <td>Israel</td>\n",
       "      <td>12.764564</td>\n",
       "      <td>14.539858</td>\n",
       "      <td>1.775294</td>\n",
       "      <td>42295</td>\n",
       "      <td>42982</td>\n",
       "    </tr>\n",
       "    <tr>\n",
       "      <th>3</th>\n",
       "      <td>Dominican Republic</td>\n",
       "      <td>9.761368</td>\n",
       "      <td>12.401265</td>\n",
       "      <td>2.639897</td>\n",
       "      <td>32344</td>\n",
       "      <td>36660</td>\n",
       "    </tr>\n",
       "    <tr>\n",
       "      <th>4</th>\n",
       "      <td>Canada</td>\n",
       "      <td>11.348828</td>\n",
       "      <td>8.367979</td>\n",
       "      <td>-2.980849</td>\n",
       "      <td>37604</td>\n",
       "      <td>24737</td>\n",
       "    </tr>\n",
       "  </tbody>\n",
       "</table>\n",
       "</div>"
      ],
      "text/plain": [
       "              Country  Market Share(2017)  Market Share(2018)  \\\n",
       "0               Chile           31.457053           30.535663   \n",
       "1         New Zealand           23.443097           23.771121   \n",
       "2              Israel           12.764564           14.539858   \n",
       "3  Dominican Republic            9.761368           12.401265   \n",
       "4              Canada           11.348828            8.367979   \n",
       "\n",
       "   Change In Market Share  $Value(2017)  $Value(2018)  \n",
       "0               -0.921390        104232         90268  \n",
       "1                0.328024         77678         70271  \n",
       "2                1.775294         42295         42982  \n",
       "3                2.639897         32344         36660  \n",
       "4               -2.980849         37604         24737  "
      ]
     },
     "execution_count": 116,
     "metadata": {},
     "output_type": "execute_result"
    }
   ],
   "source": [
    "# ###################################<<<<<<<Summary_Import Data>>>>>>#################################################\n",
    "Summary_Import = summary_import[[\"Country\", \"Market Share(2017)\", \"Market Share(2018)\", \"Change In Market Share\", \"$Value(2017)\", \"$Value(2018)\"]]\n",
    "Summary_Import"
   ]
  },
  {
   "cell_type": "code",
   "execution_count": 117,
   "metadata": {},
   "outputs": [],
   "source": [
    "esummary_frames = [ve_summary_df, fe_summary_df]\n",
    "summary_export = pd.concat(esummary_frames,ignore_index=False)\n"
   ]
  },
  {
   "cell_type": "code",
   "execution_count": 118,
   "metadata": {},
   "outputs": [
    {
     "data": {
      "text/html": [
       "<div>\n",
       "<style scoped>\n",
       "    .dataframe tbody tr th:only-of-type {\n",
       "        vertical-align: middle;\n",
       "    }\n",
       "\n",
       "    .dataframe tbody tr th {\n",
       "        vertical-align: top;\n",
       "    }\n",
       "\n",
       "    .dataframe thead th {\n",
       "        text-align: right;\n",
       "    }\n",
       "</style>\n",
       "<table border=\"1\" class=\"dataframe\">\n",
       "  <thead>\n",
       "    <tr style=\"text-align: right;\">\n",
       "      <th></th>\n",
       "      <th>country</th>\n",
       "      <th>yr17</th>\n",
       "      <th>yr18</th>\n",
       "    </tr>\n",
       "  </thead>\n",
       "  <tbody>\n",
       "    <tr>\n",
       "      <th>21</th>\n",
       "      <td>Mexico</td>\n",
       "      <td>289339</td>\n",
       "      <td>175074</td>\n",
       "    </tr>\n",
       "    <tr>\n",
       "      <th>0</th>\n",
       "      <td>India</td>\n",
       "      <td>174179</td>\n",
       "      <td>90591</td>\n",
       "    </tr>\n",
       "    <tr>\n",
       "      <th>28</th>\n",
       "      <td>Canada</td>\n",
       "      <td>167337</td>\n",
       "      <td>107007</td>\n",
       "    </tr>\n",
       "    <tr>\n",
       "      <th>4</th>\n",
       "      <td>Taiwan</td>\n",
       "      <td>67184</td>\n",
       "      <td>64703</td>\n",
       "    </tr>\n",
       "    <tr>\n",
       "      <th>11</th>\n",
       "      <td>Vietnam</td>\n",
       "      <td>41656</td>\n",
       "      <td>37473</td>\n",
       "    </tr>\n",
       "  </tbody>\n",
       "</table>\n",
       "</div>"
      ],
      "text/plain": [
       "    country    yr17    yr18\n",
       "21   Mexico  289339  175074\n",
       "0     India  174179   90591\n",
       "28   Canada  167337  107007\n",
       "4    Taiwan   67184   64703\n",
       "11  Vietnam   41656   37473"
      ]
     },
     "execution_count": 118,
     "metadata": {},
     "output_type": "execute_result"
    }
   ],
   "source": [
    "summary_export.sort_values(['yr17', 'yr18'], ascending=False).head()"
   ]
  },
  {
   "cell_type": "code",
   "execution_count": 119,
   "metadata": {},
   "outputs": [
    {
     "data": {
      "text/plain": [
       "country    41\n",
       "yr17       41\n",
       "yr18       41\n",
       "dtype: int64"
      ]
     },
     "execution_count": 119,
     "metadata": {},
     "output_type": "execute_result"
    }
   ],
   "source": [
    "summary_export.count()"
   ]
  },
  {
   "cell_type": "code",
   "execution_count": 120,
   "metadata": {},
   "outputs": [],
   "source": [
    "export_yr17sum=summary_export['yr17'].sum()"
   ]
  },
  {
   "cell_type": "code",
   "execution_count": 121,
   "metadata": {},
   "outputs": [
    {
     "data": {
      "text/plain": [
       "1124491"
      ]
     },
     "execution_count": 121,
     "metadata": {},
     "output_type": "execute_result"
    }
   ],
   "source": [
    "export_yr17sum"
   ]
  },
  {
   "cell_type": "code",
   "execution_count": 122,
   "metadata": {},
   "outputs": [],
   "source": [
    "export_yr18sum=summary_export['yr18'].sum()"
   ]
  },
  {
   "cell_type": "code",
   "execution_count": 123,
   "metadata": {},
   "outputs": [
    {
     "data": {
      "text/plain": [
       "786676"
      ]
     },
     "execution_count": 123,
     "metadata": {},
     "output_type": "execute_result"
    }
   ],
   "source": [
    "export_yr18sum"
   ]
  },
  {
   "cell_type": "code",
   "execution_count": 124,
   "metadata": {},
   "outputs": [],
   "source": [
    "# Reorganizing the columns using double brackets\n",
    "# organized_df = training_data[[\"Name\",\"Trainer\",\"Weight\",\"Membership(Days)\"]]\n",
    "# organized_df.head()"
   ]
  },
  {
   "cell_type": "code",
   "execution_count": 125,
   "metadata": {},
   "outputs": [],
   "source": [
    "# # Using .rename(columns={}) in order to rename columns\n",
    "# renamed_df = organized_df.rename(columns={\"Membership(Days)\":\"Membership in Days\", \"Weight\":\"Weight in Pounds\"})\n",
    "# renamed_df.head()"
   ]
  },
  {
   "cell_type": "code",
   "execution_count": 126,
   "metadata": {},
   "outputs": [],
   "source": [
    "for i in summary_export:\n",
    "    e_ms17=summary_export['yr17']/export_yr17sum*100\n"
   ]
  },
  {
   "cell_type": "code",
   "execution_count": 127,
   "metadata": {},
   "outputs": [],
   "source": [
    "for i in summary_export:\n",
    "    e_ms18=summary_export['yr18']/export_yr18sum*100"
   ]
  },
  {
   "cell_type": "code",
   "execution_count": 128,
   "metadata": {},
   "outputs": [],
   "source": [
    "summary_export[\"Market Share(2017)\"]=e_ms17"
   ]
  },
  {
   "cell_type": "code",
   "execution_count": 129,
   "metadata": {},
   "outputs": [],
   "source": [
    "summary_export[\"Market Share(2018)\"]=e_ms18"
   ]
  },
  {
   "cell_type": "code",
   "execution_count": 130,
   "metadata": {},
   "outputs": [
    {
     "data": {
      "text/html": [
       "<div>\n",
       "<style scoped>\n",
       "    .dataframe tbody tr th:only-of-type {\n",
       "        vertical-align: middle;\n",
       "    }\n",
       "\n",
       "    .dataframe tbody tr th {\n",
       "        vertical-align: top;\n",
       "    }\n",
       "\n",
       "    .dataframe thead th {\n",
       "        text-align: right;\n",
       "    }\n",
       "</style>\n",
       "<table border=\"1\" class=\"dataframe\">\n",
       "  <thead>\n",
       "    <tr style=\"text-align: right;\">\n",
       "      <th></th>\n",
       "      <th>country</th>\n",
       "      <th>yr17</th>\n",
       "      <th>yr18</th>\n",
       "      <th>Market Share(2017)</th>\n",
       "      <th>Market Share(2018)</th>\n",
       "    </tr>\n",
       "  </thead>\n",
       "  <tbody>\n",
       "    <tr>\n",
       "      <th>0</th>\n",
       "      <td>United Kingdom</td>\n",
       "      <td>1943</td>\n",
       "      <td>5849</td>\n",
       "      <td>0.172789</td>\n",
       "      <td>0.743508</td>\n",
       "    </tr>\n",
       "    <tr>\n",
       "      <th>1</th>\n",
       "      <td>Taiwan</td>\n",
       "      <td>9706</td>\n",
       "      <td>4807</td>\n",
       "      <td>0.863146</td>\n",
       "      <td>0.611052</td>\n",
       "    </tr>\n",
       "    <tr>\n",
       "      <th>2</th>\n",
       "      <td>Japan</td>\n",
       "      <td>33401</td>\n",
       "      <td>39167</td>\n",
       "      <td>2.970322</td>\n",
       "      <td>4.978797</td>\n",
       "    </tr>\n",
       "    <tr>\n",
       "      <th>3</th>\n",
       "      <td>Canada</td>\n",
       "      <td>2678</td>\n",
       "      <td>2990</td>\n",
       "      <td>0.238152</td>\n",
       "      <td>0.380080</td>\n",
       "    </tr>\n",
       "    <tr>\n",
       "      <th>4</th>\n",
       "      <td>Korea, South</td>\n",
       "      <td>1432</td>\n",
       "      <td>1343</td>\n",
       "      <td>0.127347</td>\n",
       "      <td>0.170718</td>\n",
       "    </tr>\n",
       "  </tbody>\n",
       "</table>\n",
       "</div>"
      ],
      "text/plain": [
       "          country   yr17   yr18  Market Share(2017)  Market Share(2018)\n",
       "0  United Kingdom   1943   5849            0.172789            0.743508\n",
       "1          Taiwan   9706   4807            0.863146            0.611052\n",
       "2           Japan  33401  39167            2.970322            4.978797\n",
       "3          Canada   2678   2990            0.238152            0.380080\n",
       "4    Korea, South   1432   1343            0.127347            0.170718"
      ]
     },
     "execution_count": 130,
     "metadata": {},
     "output_type": "execute_result"
    }
   ],
   "source": [
    "summary_export.head()"
   ]
  },
  {
   "cell_type": "code",
   "execution_count": 131,
   "metadata": {},
   "outputs": [],
   "source": [
    "e_change = e_ms18-e_ms17"
   ]
  },
  {
   "cell_type": "code",
   "execution_count": 132,
   "metadata": {},
   "outputs": [],
   "source": [
    "summary_export[\"Change in Market Share\"]=e_change"
   ]
  },
  {
   "cell_type": "code",
   "execution_count": 133,
   "metadata": {},
   "outputs": [
    {
     "data": {
      "text/html": [
       "<div>\n",
       "<style scoped>\n",
       "    .dataframe tbody tr th:only-of-type {\n",
       "        vertical-align: middle;\n",
       "    }\n",
       "\n",
       "    .dataframe tbody tr th {\n",
       "        vertical-align: top;\n",
       "    }\n",
       "\n",
       "    .dataframe thead th {\n",
       "        text-align: right;\n",
       "    }\n",
       "</style>\n",
       "<table border=\"1\" class=\"dataframe\">\n",
       "  <thead>\n",
       "    <tr style=\"text-align: right;\">\n",
       "      <th></th>\n",
       "      <th>Country</th>\n",
       "      <th>$Value(2017)</th>\n",
       "      <th>$Value(2018)</th>\n",
       "      <th>Market Share(2017)</th>\n",
       "      <th>Market Share(2018)</th>\n",
       "      <th>Change in Market Share</th>\n",
       "    </tr>\n",
       "  </thead>\n",
       "  <tbody>\n",
       "    <tr>\n",
       "      <th>0</th>\n",
       "      <td>United Kingdom</td>\n",
       "      <td>1943</td>\n",
       "      <td>5849</td>\n",
       "      <td>0.172789</td>\n",
       "      <td>0.743508</td>\n",
       "      <td>0.570719</td>\n",
       "    </tr>\n",
       "    <tr>\n",
       "      <th>1</th>\n",
       "      <td>Taiwan</td>\n",
       "      <td>9706</td>\n",
       "      <td>4807</td>\n",
       "      <td>0.863146</td>\n",
       "      <td>0.611052</td>\n",
       "      <td>-0.252094</td>\n",
       "    </tr>\n",
       "    <tr>\n",
       "      <th>2</th>\n",
       "      <td>Japan</td>\n",
       "      <td>33401</td>\n",
       "      <td>39167</td>\n",
       "      <td>2.970322</td>\n",
       "      <td>4.978797</td>\n",
       "      <td>2.008475</td>\n",
       "    </tr>\n",
       "    <tr>\n",
       "      <th>3</th>\n",
       "      <td>Canada</td>\n",
       "      <td>2678</td>\n",
       "      <td>2990</td>\n",
       "      <td>0.238152</td>\n",
       "      <td>0.380080</td>\n",
       "      <td>0.141928</td>\n",
       "    </tr>\n",
       "    <tr>\n",
       "      <th>4</th>\n",
       "      <td>Korea, South</td>\n",
       "      <td>1432</td>\n",
       "      <td>1343</td>\n",
       "      <td>0.127347</td>\n",
       "      <td>0.170718</td>\n",
       "      <td>0.043372</td>\n",
       "    </tr>\n",
       "  </tbody>\n",
       "</table>\n",
       "</div>"
      ],
      "text/plain": [
       "          Country  $Value(2017)  $Value(2018)  Market Share(2017)  \\\n",
       "0  United Kingdom          1943          5849            0.172789   \n",
       "1          Taiwan          9706          4807            0.863146   \n",
       "2           Japan         33401         39167            2.970322   \n",
       "3          Canada          2678          2990            0.238152   \n",
       "4    Korea, South          1432          1343            0.127347   \n",
       "\n",
       "   Market Share(2018)  Change in Market Share  \n",
       "0            0.743508                0.570719  \n",
       "1            0.611052               -0.252094  \n",
       "2            4.978797                2.008475  \n",
       "3            0.380080                0.141928  \n",
       "4            0.170718                0.043372  "
      ]
     },
     "execution_count": 133,
     "metadata": {},
     "output_type": "execute_result"
    }
   ],
   "source": [
    "renamed_summary_export = summary_export.rename(columns={\"country\":\"Country\", \"MS 2017\":\"Market Share(2017)\",\"MS 2018\":\"Market Share(2018)\", \"Change in MS\":\"Change In Market Share\",\"yr17\":\"$Value(2017)\", \"yr18\":\"$Value(2018)\"})\n",
    "renamed_summary_export.head()"
   ]
  },
  {
   "cell_type": "code",
   "execution_count": 134,
   "metadata": {},
   "outputs": [
    {
     "data": {
      "text/html": [
       "<div>\n",
       "<style scoped>\n",
       "    .dataframe tbody tr th:only-of-type {\n",
       "        vertical-align: middle;\n",
       "    }\n",
       "\n",
       "    .dataframe tbody tr th {\n",
       "        vertical-align: top;\n",
       "    }\n",
       "\n",
       "    .dataframe thead th {\n",
       "        text-align: right;\n",
       "    }\n",
       "</style>\n",
       "<table border=\"1\" class=\"dataframe\">\n",
       "  <thead>\n",
       "    <tr style=\"text-align: right;\">\n",
       "      <th></th>\n",
       "      <th>Country</th>\n",
       "      <th>Market Share(2017)</th>\n",
       "      <th>Market Share(2018)</th>\n",
       "      <th>Change in Market Share</th>\n",
       "      <th>$Value(2017)</th>\n",
       "      <th>$Value(2018)</th>\n",
       "    </tr>\n",
       "  </thead>\n",
       "  <tbody>\n",
       "    <tr>\n",
       "      <th>0</th>\n",
       "      <td>United Kingdom</td>\n",
       "      <td>0.172789</td>\n",
       "      <td>0.743508</td>\n",
       "      <td>0.570719</td>\n",
       "      <td>1943</td>\n",
       "      <td>5849</td>\n",
       "    </tr>\n",
       "    <tr>\n",
       "      <th>1</th>\n",
       "      <td>Taiwan</td>\n",
       "      <td>0.863146</td>\n",
       "      <td>0.611052</td>\n",
       "      <td>-0.252094</td>\n",
       "      <td>9706</td>\n",
       "      <td>4807</td>\n",
       "    </tr>\n",
       "    <tr>\n",
       "      <th>2</th>\n",
       "      <td>Japan</td>\n",
       "      <td>2.970322</td>\n",
       "      <td>4.978797</td>\n",
       "      <td>2.008475</td>\n",
       "      <td>33401</td>\n",
       "      <td>39167</td>\n",
       "    </tr>\n",
       "    <tr>\n",
       "      <th>3</th>\n",
       "      <td>Canada</td>\n",
       "      <td>0.238152</td>\n",
       "      <td>0.380080</td>\n",
       "      <td>0.141928</td>\n",
       "      <td>2678</td>\n",
       "      <td>2990</td>\n",
       "    </tr>\n",
       "    <tr>\n",
       "      <th>4</th>\n",
       "      <td>Korea, South</td>\n",
       "      <td>0.127347</td>\n",
       "      <td>0.170718</td>\n",
       "      <td>0.043372</td>\n",
       "      <td>1432</td>\n",
       "      <td>1343</td>\n",
       "    </tr>\n",
       "  </tbody>\n",
       "</table>\n",
       "</div>"
      ],
      "text/plain": [
       "          Country  Market Share(2017)  Market Share(2018)  \\\n",
       "0  United Kingdom            0.172789            0.743508   \n",
       "1          Taiwan            0.863146            0.611052   \n",
       "2           Japan            2.970322            4.978797   \n",
       "3          Canada            0.238152            0.380080   \n",
       "4    Korea, South            0.127347            0.170718   \n",
       "\n",
       "   Change in Market Share  $Value(2017)  $Value(2018)  \n",
       "0                0.570719          1943          5849  \n",
       "1               -0.252094          9706          4807  \n",
       "2                2.008475         33401         39167  \n",
       "3                0.141928          2678          2990  \n",
       "4                0.043372          1432          1343  "
      ]
     },
     "execution_count": 134,
     "metadata": {},
     "output_type": "execute_result"
    }
   ],
   "source": [
    "summary_export = renamed_summary_export[[\"Country\",\"Market Share(2017)\",\"Market Share(2018)\",\"Change in Market Share\", \"$Value(2017)\", \"$Value(2018)\"]]\n",
    "summary_export.head()"
   ]
  },
  {
   "cell_type": "code",
   "execution_count": 135,
   "metadata": {},
   "outputs": [
    {
     "data": {
      "text/html": [
       "<div>\n",
       "<style scoped>\n",
       "    .dataframe tbody tr th:only-of-type {\n",
       "        vertical-align: middle;\n",
       "    }\n",
       "\n",
       "    .dataframe tbody tr th {\n",
       "        vertical-align: top;\n",
       "    }\n",
       "\n",
       "    .dataframe thead th {\n",
       "        text-align: right;\n",
       "    }\n",
       "</style>\n",
       "<table border=\"1\" class=\"dataframe\">\n",
       "  <thead>\n",
       "    <tr style=\"text-align: right;\">\n",
       "      <th></th>\n",
       "      <th>Country</th>\n",
       "      <th>Market Share(2017)</th>\n",
       "      <th>Market Share(2018)</th>\n",
       "      <th>Change in Market Share</th>\n",
       "      <th>$Value(2017)</th>\n",
       "      <th>$Value(2018)</th>\n",
       "    </tr>\n",
       "  </thead>\n",
       "  <tbody>\n",
       "    <tr>\n",
       "      <th>21</th>\n",
       "      <td>Mexico</td>\n",
       "      <td>25.730664</td>\n",
       "      <td>22.254905</td>\n",
       "      <td>-3.475758</td>\n",
       "      <td>289339</td>\n",
       "      <td>175074</td>\n",
       "    </tr>\n",
       "    <tr>\n",
       "      <th>28</th>\n",
       "      <td>Canada</td>\n",
       "      <td>14.881133</td>\n",
       "      <td>13.602423</td>\n",
       "      <td>-1.278710</td>\n",
       "      <td>167337</td>\n",
       "      <td>107007</td>\n",
       "    </tr>\n",
       "    <tr>\n",
       "      <th>0</th>\n",
       "      <td>India</td>\n",
       "      <td>15.489586</td>\n",
       "      <td>11.515668</td>\n",
       "      <td>-3.973917</td>\n",
       "      <td>174179</td>\n",
       "      <td>90591</td>\n",
       "    </tr>\n",
       "    <tr>\n",
       "      <th>4</th>\n",
       "      <td>Taiwan</td>\n",
       "      <td>5.974614</td>\n",
       "      <td>8.224860</td>\n",
       "      <td>2.250246</td>\n",
       "      <td>67184</td>\n",
       "      <td>64703</td>\n",
       "    </tr>\n",
       "    <tr>\n",
       "      <th>2</th>\n",
       "      <td>Japan</td>\n",
       "      <td>2.970322</td>\n",
       "      <td>4.978797</td>\n",
       "      <td>2.008475</td>\n",
       "      <td>33401</td>\n",
       "      <td>39167</td>\n",
       "    </tr>\n",
       "  </tbody>\n",
       "</table>\n",
       "</div>"
      ],
      "text/plain": [
       "   Country  Market Share(2017)  Market Share(2018)  Change in Market Share  \\\n",
       "21  Mexico           25.730664           22.254905               -3.475758   \n",
       "28  Canada           14.881133           13.602423               -1.278710   \n",
       "0    India           15.489586           11.515668               -3.973917   \n",
       "4   Taiwan            5.974614            8.224860                2.250246   \n",
       "2    Japan            2.970322            4.978797                2.008475   \n",
       "\n",
       "    $Value(2017)  $Value(2018)  \n",
       "21        289339        175074  \n",
       "28        167337        107007  \n",
       "0         174179         90591  \n",
       "4          67184         64703  \n",
       "2          33401         39167  "
      ]
     },
     "execution_count": 135,
     "metadata": {},
     "output_type": "execute_result"
    }
   ],
   "source": [
    "summary_export=summary_export.sort_values(['Market Share(2018)'], ascending=False).head()\n",
    "summary_export"
   ]
  },
  {
   "cell_type": "code",
   "execution_count": 136,
   "metadata": {},
   "outputs": [],
   "source": [
    "summary_export.reset_index(inplace=True)"
   ]
  },
  {
   "cell_type": "code",
   "execution_count": 137,
   "metadata": {},
   "outputs": [
    {
     "data": {
      "text/html": [
       "<div>\n",
       "<style scoped>\n",
       "    .dataframe tbody tr th:only-of-type {\n",
       "        vertical-align: middle;\n",
       "    }\n",
       "\n",
       "    .dataframe tbody tr th {\n",
       "        vertical-align: top;\n",
       "    }\n",
       "\n",
       "    .dataframe thead th {\n",
       "        text-align: right;\n",
       "    }\n",
       "</style>\n",
       "<table border=\"1\" class=\"dataframe\">\n",
       "  <thead>\n",
       "    <tr style=\"text-align: right;\">\n",
       "      <th></th>\n",
       "      <th>Country</th>\n",
       "      <th>Market Share(2017)</th>\n",
       "      <th>Market Share(2018)</th>\n",
       "      <th>Change in Market Share</th>\n",
       "      <th>$Value(2017)</th>\n",
       "      <th>$Value(2018)</th>\n",
       "    </tr>\n",
       "  </thead>\n",
       "  <tbody>\n",
       "    <tr>\n",
       "      <th>0</th>\n",
       "      <td>Mexico</td>\n",
       "      <td>25.730664</td>\n",
       "      <td>22.254905</td>\n",
       "      <td>-3.475758</td>\n",
       "      <td>289339</td>\n",
       "      <td>175074</td>\n",
       "    </tr>\n",
       "    <tr>\n",
       "      <th>1</th>\n",
       "      <td>Canada</td>\n",
       "      <td>14.881133</td>\n",
       "      <td>13.602423</td>\n",
       "      <td>-1.278710</td>\n",
       "      <td>167337</td>\n",
       "      <td>107007</td>\n",
       "    </tr>\n",
       "    <tr>\n",
       "      <th>2</th>\n",
       "      <td>India</td>\n",
       "      <td>15.489586</td>\n",
       "      <td>11.515668</td>\n",
       "      <td>-3.973917</td>\n",
       "      <td>174179</td>\n",
       "      <td>90591</td>\n",
       "    </tr>\n",
       "    <tr>\n",
       "      <th>3</th>\n",
       "      <td>Taiwan</td>\n",
       "      <td>5.974614</td>\n",
       "      <td>8.224860</td>\n",
       "      <td>2.250246</td>\n",
       "      <td>67184</td>\n",
       "      <td>64703</td>\n",
       "    </tr>\n",
       "    <tr>\n",
       "      <th>4</th>\n",
       "      <td>Japan</td>\n",
       "      <td>2.970322</td>\n",
       "      <td>4.978797</td>\n",
       "      <td>2.008475</td>\n",
       "      <td>33401</td>\n",
       "      <td>39167</td>\n",
       "    </tr>\n",
       "  </tbody>\n",
       "</table>\n",
       "</div>"
      ],
      "text/plain": [
       "  Country  Market Share(2017)  Market Share(2018)  Change in Market Share  \\\n",
       "0  Mexico           25.730664           22.254905               -3.475758   \n",
       "1  Canada           14.881133           13.602423               -1.278710   \n",
       "2   India           15.489586           11.515668               -3.973917   \n",
       "3  Taiwan            5.974614            8.224860                2.250246   \n",
       "4   Japan            2.970322            4.978797                2.008475   \n",
       "\n",
       "   $Value(2017)  $Value(2018)  \n",
       "0        289339        175074  \n",
       "1        167337        107007  \n",
       "2        174179         90591  \n",
       "3         67184         64703  \n",
       "4         33401         39167  "
      ]
     },
     "execution_count": 137,
     "metadata": {},
     "output_type": "execute_result"
    }
   ],
   "source": [
    "# #######################################<<<<<Summary_Export Data>>>>>>###########################################\n",
    "Summary_Export = summary_export[[\"Country\", \"Market Share(2017)\", \"Market Share(2018)\", \"Change in Market Share\", \"$Value(2017)\", \"$Value(2018)\"]]\n",
    "Summary_Export"
   ]
  },
  {
   "cell_type": "code",
   "execution_count": null,
   "metadata": {},
   "outputs": [],
   "source": []
  }
 ],
 "metadata": {
  "kernel_info": {
   "name": "python3"
  },
  "kernelspec": {
   "display_name": "Python 3",
   "language": "python",
   "name": "python3"
  },
  "language_info": {
   "codemirror_mode": {
    "name": "ipython",
    "version": 3
   },
   "file_extension": ".py",
   "mimetype": "text/x-python",
   "name": "python",
   "nbconvert_exporter": "python",
   "pygments_lexer": "ipython3",
   "version": "3.7.3"
  },
  "nteract": {
   "version": "0.12.3"
  },
  "varInspector": {
   "cols": {
    "lenName": 16,
    "lenType": 16,
    "lenVar": 40
   },
   "kernels_config": {
    "python": {
     "delete_cmd_postfix": "",
     "delete_cmd_prefix": "del ",
     "library": "var_list.py",
     "varRefreshCmd": "print(var_dic_list())"
    },
    "r": {
     "delete_cmd_postfix": ") ",
     "delete_cmd_prefix": "rm(",
     "library": "var_list.r",
     "varRefreshCmd": "cat(var_dic_list()) "
    }
   },
   "types_to_exclude": [
    "module",
    "function",
    "builtin_function_or_method",
    "instance",
    "_Feature"
   ],
   "window_display": false
  }
 },
 "nbformat": 4,
 "nbformat_minor": 2
}
