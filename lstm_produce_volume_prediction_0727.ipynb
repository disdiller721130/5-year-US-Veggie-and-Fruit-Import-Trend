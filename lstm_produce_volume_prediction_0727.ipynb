{
 "cells": [
  {
   "cell_type": "code",
   "execution_count": 1,
   "metadata": {},
   "outputs": [
    {
     "name": "stderr",
     "output_type": "stream",
     "text": [
      "Using TensorFlow backend.\n"
     ]
    }
   ],
   "source": [
    "%matplotlib inline\n",
    "from matplotlib import style\n",
    "style.use('fivethirtyeight')\n",
    "import matplotlib.pyplot as plt\n",
    "import seaborn as sns\n",
    "import tensorflow.keras\n",
    "from keras.models import Sequential\n",
    "from keras.utils import to_categorical\n",
    "from keras.optimizers import SGD \n",
    "from keras.callbacks import EarlyStopping\n",
    "from keras.utils import np_utils\n",
    "import itertools\n",
    "from keras.layers.convolutional import Conv1D\n",
    "from keras.layers.convolutional import MaxPooling1D\n",
    "from keras.layers import Dense, Dropout, LSTM, Activation\n",
    "from pandas import Series\n",
    "from sklearn.preprocessing import MinMaxScaler\n",
    "from sklearn.neighbors import KNeighborsClassifier\n",
    "from tensorflow.keras import backend\n",
    "\n",
    "# from tensorflow.python.framework import ops\n",
    "# ops.reset_default_graph()\n",
    "\n",
    "# tensorflow version and keras version matters for compatability (latest versions not working together tensorflow 2.0 and keras 2.2.4)\n",
    "# error message - AttributeError: module 'tensorflow' has no attribute 'get_default_graph'\n",
    "# tensorflow 1.13.1 and keras 2.2.4 worked below"
   ]
  },
  {
   "cell_type": "code",
   "execution_count": 2,
   "metadata": {},
   "outputs": [],
   "source": [
    "import numpy as np\n",
    "import pandas as pd\n",
    "from collections import defaultdict"
   ]
  },
  {
   "cell_type": "code",
   "execution_count": 3,
   "metadata": {},
   "outputs": [],
   "source": [
    "import datetime as dt\n",
    "from dateutil.relativedelta import relativedelta"
   ]
  },
  {
   "cell_type": "code",
   "execution_count": 4,
   "metadata": {},
   "outputs": [],
   "source": [
    "# Python SQL toolkit and Object Relational Mapper\n",
    "import sqlalchemy\n",
    "from sqlalchemy.ext.automap import automap_base\n",
    "from sqlalchemy.orm import Session\n",
    "from sqlalchemy import create_engine, func, inspect\n",
    "from sqlalchemy import desc"
   ]
  },
  {
   "cell_type": "code",
   "execution_count": 5,
   "metadata": {},
   "outputs": [],
   "source": [
    "engine = create_engine(\"sqlite:///db/Veggie_Fruit_DB.sqlite\")"
   ]
  },
  {
   "cell_type": "code",
   "execution_count": 6,
   "metadata": {},
   "outputs": [],
   "source": [
    "# reflect an existing database into a new model\n",
    "Base = automap_base()\n",
    "# reflect the tables\n",
    "Base.prepare(engine, reflect=True)"
   ]
  },
  {
   "cell_type": "code",
   "execution_count": 7,
   "metadata": {},
   "outputs": [
    {
     "data": {
      "text/plain": [
       "['fruitexportdest',\n",
       " 'fruitexportval',\n",
       " 'fruitimportsource',\n",
       " 'fruitimportval',\n",
       " 'veggieexportdest',\n",
       " 'veggieexportval',\n",
       " 'veggieimportsource',\n",
       " 'veggieimportval']"
      ]
     },
     "execution_count": 7,
     "metadata": {},
     "output_type": "execute_result"
    }
   ],
   "source": [
    "# We can view all of the classes that automap found\n",
    "Base.classes.keys()"
   ]
  },
  {
   "cell_type": "code",
   "execution_count": 8,
   "metadata": {},
   "outputs": [
    {
     "data": {
      "text/plain": [
       "['fruitexportdest',\n",
       " 'fruitexportval',\n",
       " 'fruitimportsource',\n",
       " 'fruitimportval',\n",
       " 'veggieexportdest',\n",
       " 'veggieexportval',\n",
       " 'veggieimportsource',\n",
       " 'veggieimportval']"
      ]
     },
     "execution_count": 8,
     "metadata": {},
     "output_type": "execute_result"
    }
   ],
   "source": [
    "inspector=inspect(engine)\n",
    "inspector.get_table_names()"
   ]
  },
  {
   "cell_type": "code",
   "execution_count": 9,
   "metadata": {},
   "outputs": [
    {
     "name": "stdout",
     "output_type": "stream",
     "text": [
      "id\n",
      "product\n",
      "flow\n",
      "mktyr\n",
      "avg\n",
      "jan\n",
      "feb\n",
      "mar\n",
      "apr\n",
      "may\n",
      "jun\n",
      "jul\n",
      "aug\n",
      "sep\n",
      "oct\n",
      "nov\n",
      "dec\n"
     ]
    }
   ],
   "source": [
    "measurement_columns = inspector.get_columns('fruitexportval')\n",
    "for c in measurement_columns:\n",
    "    print(c['name'])"
   ]
  },
  {
   "cell_type": "code",
   "execution_count": 10,
   "metadata": {},
   "outputs": [],
   "source": [
    "# Save references to each table\n",
    "# FED = FruistExportDestination, FEV =FruitExportValue, FIS =FruitImportSource,FIV=FruitImportValue\n",
    "# VED =VeggieExportDestination, VEV=VeggieExportValue, VIS=VeggieImportSource, VIV=VeggieImportValue\n",
    "FED = Base.classes.fruitexportdest\n",
    "FEV = Base.classes.fruitexportval\n",
    "FIS = Base.classes.fruitimportsource\n",
    "FIV = Base.classes.fruitimportval\n",
    "VED = Base.classes.veggieexportdest\n",
    "VEV = Base.classes.veggieexportval\n",
    "VIS = Base.classes.veggieimportsource\n",
    "VIV = Base.classes.veggieimportval\n"
   ]
  },
  {
   "cell_type": "code",
   "execution_count": 11,
   "metadata": {},
   "outputs": [],
   "source": [
    "# Create our session (link) from Python to the DB\n",
    "session = Session(engine)"
   ]
  },
  {
   "cell_type": "code",
   "execution_count": 12,
   "metadata": {},
   "outputs": [
    {
     "data": {
      "text/html": [
       "<div>\n",
       "<style scoped>\n",
       "    .dataframe tbody tr th:only-of-type {\n",
       "        vertical-align: middle;\n",
       "    }\n",
       "\n",
       "    .dataframe tbody tr th {\n",
       "        vertical-align: top;\n",
       "    }\n",
       "\n",
       "    .dataframe thead th {\n",
       "        text-align: right;\n",
       "    }\n",
       "</style>\n",
       "<table border=\"1\" class=\"dataframe\">\n",
       "  <thead>\n",
       "    <tr style=\"text-align: right;\">\n",
       "      <th></th>\n",
       "      <th>id</th>\n",
       "      <th>product</th>\n",
       "      <th>flow</th>\n",
       "      <th>mktyr</th>\n",
       "      <th>avg</th>\n",
       "      <th>jan</th>\n",
       "      <th>feb</th>\n",
       "      <th>mar</th>\n",
       "      <th>apr</th>\n",
       "      <th>may</th>\n",
       "      <th>jun</th>\n",
       "      <th>jul</th>\n",
       "      <th>aug</th>\n",
       "      <th>sep</th>\n",
       "      <th>oct</th>\n",
       "      <th>nov</th>\n",
       "      <th>dec</th>\n",
       "    </tr>\n",
       "  </thead>\n",
       "  <tbody>\n",
       "    <tr>\n",
       "      <th>0</th>\n",
       "      <td>1</td>\n",
       "      <td>Apple</td>\n",
       "      <td>Export Value</td>\n",
       "      <td>2019.0</td>\n",
       "      <td>22,119</td>\n",
       "      <td>89,081</td>\n",
       "      <td>84,166</td>\n",
       "      <td>92,180</td>\n",
       "      <td>0</td>\n",
       "      <td>0</td>\n",
       "      <td>0</td>\n",
       "      <td>0</td>\n",
       "      <td>0</td>\n",
       "      <td>0</td>\n",
       "      <td>0</td>\n",
       "      <td>0</td>\n",
       "      <td>0</td>\n",
       "    </tr>\n",
       "    <tr>\n",
       "      <th>1</th>\n",
       "      <td>2</td>\n",
       "      <td>Apple</td>\n",
       "      <td>Export Value</td>\n",
       "      <td>2018.0</td>\n",
       "      <td>84,095</td>\n",
       "      <td>113,635</td>\n",
       "      <td>99,632</td>\n",
       "      <td>117,936</td>\n",
       "      <td>101,534</td>\n",
       "      <td>108,920</td>\n",
       "      <td>82,645</td>\n",
       "      <td>53,459</td>\n",
       "      <td>51,337</td>\n",
       "      <td>48,029</td>\n",
       "      <td>61,213</td>\n",
       "      <td>89,904</td>\n",
       "      <td>80,895</td>\n",
       "    </tr>\n",
       "    <tr>\n",
       "      <th>2</th>\n",
       "      <td>3</td>\n",
       "      <td>Apple</td>\n",
       "      <td>Export Value</td>\n",
       "      <td>2017.0</td>\n",
       "      <td>80,792</td>\n",
       "      <td>84,874</td>\n",
       "      <td>87,895</td>\n",
       "      <td>95,203</td>\n",
       "      <td>74,945</td>\n",
       "      <td>82,806</td>\n",
       "      <td>76,525</td>\n",
       "      <td>56,665</td>\n",
       "      <td>53,621</td>\n",
       "      <td>55,600</td>\n",
       "      <td>75,074</td>\n",
       "      <td>127,769</td>\n",
       "      <td>98,522</td>\n",
       "    </tr>\n",
       "    <tr>\n",
       "      <th>3</th>\n",
       "      <td>4</td>\n",
       "      <td>Apple</td>\n",
       "      <td>Export Value</td>\n",
       "      <td>2016.0</td>\n",
       "      <td>76,723</td>\n",
       "      <td>80,501</td>\n",
       "      <td>87,112</td>\n",
       "      <td>84,530</td>\n",
       "      <td>77,437</td>\n",
       "      <td>76,002</td>\n",
       "      <td>62,334</td>\n",
       "      <td>52,341</td>\n",
       "      <td>56,738</td>\n",
       "      <td>53,495</td>\n",
       "      <td>80,845</td>\n",
       "      <td>108,754</td>\n",
       "      <td>100,586</td>\n",
       "    </tr>\n",
       "    <tr>\n",
       "      <th>4</th>\n",
       "      <td>5</td>\n",
       "      <td>Apple</td>\n",
       "      <td>Export Value</td>\n",
       "      <td>2015.0</td>\n",
       "      <td>84,888</td>\n",
       "      <td>111,979</td>\n",
       "      <td>83,135</td>\n",
       "      <td>101,106</td>\n",
       "      <td>90,883</td>\n",
       "      <td>99,848</td>\n",
       "      <td>71,933</td>\n",
       "      <td>69,759</td>\n",
       "      <td>67,186</td>\n",
       "      <td>59,125</td>\n",
       "      <td>81,440</td>\n",
       "      <td>99,990</td>\n",
       "      <td>82,272</td>\n",
       "    </tr>\n",
       "  </tbody>\n",
       "</table>\n",
       "</div>"
      ],
      "text/plain": [
       "   id product          flow   mktyr     avg      jan     feb      mar  \\\n",
       "0   1   Apple  Export Value  2019.0  22,119   89,081  84,166   92,180   \n",
       "1   2   Apple  Export Value  2018.0  84,095  113,635  99,632  117,936   \n",
       "2   3   Apple  Export Value  2017.0  80,792   84,874  87,895   95,203   \n",
       "3   4   Apple  Export Value  2016.0  76,723   80,501  87,112   84,530   \n",
       "4   5   Apple  Export Value  2015.0  84,888  111,979  83,135  101,106   \n",
       "\n",
       "       apr      may     jun     jul     aug     sep     oct      nov      dec  \n",
       "0        0        0       0       0       0       0       0        0        0  \n",
       "1  101,534  108,920  82,645  53,459  51,337  48,029  61,213   89,904   80,895  \n",
       "2   74,945   82,806  76,525  56,665  53,621  55,600  75,074  127,769   98,522  \n",
       "3   77,437   76,002  62,334  52,341  56,738  53,495  80,845  108,754  100,586  \n",
       "4   90,883   99,848  71,933  69,759  67,186  59,125  81,440   99,990   82,272  "
      ]
     },
     "execution_count": 12,
     "metadata": {},
     "output_type": "execute_result"
    }
   ],
   "source": [
    "fev_summary = session.query(FEV).statement\n",
    "fev_summary_df = pd.read_sql_query(fev_summary, con = engine)\n",
    "fev_summary_df.head()"
   ]
  },
  {
   "cell_type": "code",
   "execution_count": 13,
   "metadata": {},
   "outputs": [
    {
     "data": {
      "text/plain": [
       "product    106\n",
       "flow       106\n",
       "mktyr      106\n",
       "avg        106\n",
       "jan        106\n",
       "feb        106\n",
       "mar        106\n",
       "apr        106\n",
       "may        106\n",
       "jun        106\n",
       "jul        106\n",
       "aug        106\n",
       "sep        106\n",
       "oct        106\n",
       "nov        106\n",
       "dec        106\n",
       "dtype: int64"
      ]
     },
     "execution_count": 13,
     "metadata": {},
     "output_type": "execute_result"
    }
   ],
   "source": [
    "fev_df = fev_summary_df.drop('id', axis = 1)\n",
    "fev_df = fev_df.replace({',':''}, regex = True)\n",
    "fev_df = fev_df.dropna(how = 'any')\n",
    "fev_df.count()"
   ]
  },
  {
   "cell_type": "code",
   "execution_count": 14,
   "metadata": {},
   "outputs": [],
   "source": [
    "fev_number = fev_df.columns[3:]\n",
    "for i in range(0, len(fev_number)):\n",
    "    fev_df[fev_number[i]] = pd.to_numeric(fev_df[fev_number[i]])"
   ]
  },
  {
   "cell_type": "code",
   "execution_count": 15,
   "metadata": {},
   "outputs": [
    {
     "data": {
      "text/html": [
       "<div>\n",
       "<style scoped>\n",
       "    .dataframe tbody tr th:only-of-type {\n",
       "        vertical-align: middle;\n",
       "    }\n",
       "\n",
       "    .dataframe tbody tr th {\n",
       "        vertical-align: top;\n",
       "    }\n",
       "\n",
       "    .dataframe thead th {\n",
       "        text-align: right;\n",
       "    }\n",
       "</style>\n",
       "<table border=\"1\" class=\"dataframe\">\n",
       "  <thead>\n",
       "    <tr style=\"text-align: right;\">\n",
       "      <th></th>\n",
       "      <th>id</th>\n",
       "      <th>product</th>\n",
       "      <th>flow</th>\n",
       "      <th>mktyr</th>\n",
       "      <th>avg</th>\n",
       "      <th>jan</th>\n",
       "      <th>feb</th>\n",
       "      <th>mar</th>\n",
       "      <th>apr</th>\n",
       "      <th>may</th>\n",
       "      <th>jun</th>\n",
       "      <th>jul</th>\n",
       "      <th>aug</th>\n",
       "      <th>sep</th>\n",
       "      <th>oct</th>\n",
       "      <th>nov</th>\n",
       "      <th>dec</th>\n",
       "    </tr>\n",
       "  </thead>\n",
       "  <tbody>\n",
       "    <tr>\n",
       "      <th>0</th>\n",
       "      <td>1</td>\n",
       "      <td>artichoke</td>\n",
       "      <td>Export value</td>\n",
       "      <td>2019.0</td>\n",
       "      <td>70.083333</td>\n",
       "      <td>265</td>\n",
       "      <td>330</td>\n",
       "      <td>246</td>\n",
       "      <td>0</td>\n",
       "      <td>0</td>\n",
       "      <td>0</td>\n",
       "      <td>0</td>\n",
       "      <td>0</td>\n",
       "      <td>0</td>\n",
       "      <td>0</td>\n",
       "      <td>0</td>\n",
       "      <td>0</td>\n",
       "    </tr>\n",
       "    <tr>\n",
       "      <th>1</th>\n",
       "      <td>2</td>\n",
       "      <td>artichoke</td>\n",
       "      <td>Export value</td>\n",
       "      <td>2018.0</td>\n",
       "      <td>268.083333</td>\n",
       "      <td>323</td>\n",
       "      <td>366</td>\n",
       "      <td>235</td>\n",
       "      <td>268</td>\n",
       "      <td>326</td>\n",
       "      <td>269</td>\n",
       "      <td>179</td>\n",
       "      <td>187</td>\n",
       "      <td>206</td>\n",
       "      <td>195</td>\n",
       "      <td>334</td>\n",
       "      <td>329</td>\n",
       "    </tr>\n",
       "    <tr>\n",
       "      <th>2</th>\n",
       "      <td>3</td>\n",
       "      <td>artichoke</td>\n",
       "      <td>Export value</td>\n",
       "      <td>2017.0</td>\n",
       "      <td>295.916667</td>\n",
       "      <td>258</td>\n",
       "      <td>293</td>\n",
       "      <td>287</td>\n",
       "      <td>262</td>\n",
       "      <td>301</td>\n",
       "      <td>339</td>\n",
       "      <td>257</td>\n",
       "      <td>220</td>\n",
       "      <td>262</td>\n",
       "      <td>399</td>\n",
       "      <td>230</td>\n",
       "      <td>443</td>\n",
       "    </tr>\n",
       "    <tr>\n",
       "      <th>3</th>\n",
       "      <td>4</td>\n",
       "      <td>artichoke</td>\n",
       "      <td>Export value</td>\n",
       "      <td>2016.0</td>\n",
       "      <td>275.083333</td>\n",
       "      <td>122</td>\n",
       "      <td>230</td>\n",
       "      <td>295</td>\n",
       "      <td>449</td>\n",
       "      <td>182</td>\n",
       "      <td>306</td>\n",
       "      <td>262</td>\n",
       "      <td>167</td>\n",
       "      <td>269</td>\n",
       "      <td>296</td>\n",
       "      <td>332</td>\n",
       "      <td>391</td>\n",
       "    </tr>\n",
       "    <tr>\n",
       "      <th>4</th>\n",
       "      <td>5</td>\n",
       "      <td>artichoke</td>\n",
       "      <td>Export value</td>\n",
       "      <td>2015.0</td>\n",
       "      <td>261.916667</td>\n",
       "      <td>231</td>\n",
       "      <td>373</td>\n",
       "      <td>352</td>\n",
       "      <td>332</td>\n",
       "      <td>320</td>\n",
       "      <td>260</td>\n",
       "      <td>292</td>\n",
       "      <td>216</td>\n",
       "      <td>134</td>\n",
       "      <td>206</td>\n",
       "      <td>230</td>\n",
       "      <td>197</td>\n",
       "    </tr>\n",
       "  </tbody>\n",
       "</table>\n",
       "</div>"
      ],
      "text/plain": [
       "   id    product          flow   mktyr         avg  jan  feb  mar  apr  may  \\\n",
       "0   1  artichoke  Export value  2019.0   70.083333  265  330  246    0    0   \n",
       "1   2  artichoke  Export value  2018.0  268.083333  323  366  235  268  326   \n",
       "2   3  artichoke  Export value  2017.0  295.916667  258  293  287  262  301   \n",
       "3   4  artichoke  Export value  2016.0  275.083333  122  230  295  449  182   \n",
       "4   5  artichoke  Export value  2015.0  261.916667  231  373  352  332  320   \n",
       "\n",
       "   jun  jul  aug  sep  oct  nov  dec  \n",
       "0    0    0    0    0    0    0    0  \n",
       "1  269  179  187  206  195  334  329  \n",
       "2  339  257  220  262  399  230  443  \n",
       "3  306  262  167  269  296  332  391  \n",
       "4  260  292  216  134  206  230  197  "
      ]
     },
     "execution_count": 15,
     "metadata": {},
     "output_type": "execute_result"
    }
   ],
   "source": [
    "vev_summary = session.query(VEV).order_by(VEV.product.asc()).statement\n",
    "vev_df = pd.read_sql_query(vev_summary, con = engine)\n",
    "vev_df.head()"
   ]
  },
  {
   "cell_type": "code",
   "execution_count": 16,
   "metadata": {},
   "outputs": [
    {
     "data": {
      "text/plain": [
       "product    50\n",
       "flow       50\n",
       "mktyr      50\n",
       "avg        50\n",
       "jan        50\n",
       "feb        50\n",
       "mar        50\n",
       "apr        50\n",
       "may        50\n",
       "jun        50\n",
       "jul        50\n",
       "aug        50\n",
       "sep        50\n",
       "oct        50\n",
       "nov        50\n",
       "dec        50\n",
       "dtype: int64"
      ]
     },
     "execution_count": 16,
     "metadata": {},
     "output_type": "execute_result"
    }
   ],
   "source": [
    "vev_df = vev_df.drop('id', axis = 1)\n",
    "vev_df = vev_df.replace({',':''}, regex = True)\n",
    "vev_df = vev_df.dropna(how = 'any')\n",
    "vev_df.count()"
   ]
  },
  {
   "cell_type": "code",
   "execution_count": 17,
   "metadata": {},
   "outputs": [],
   "source": [
    "vev_number = vev_df.columns[3:]\n",
    "for i in range(0, len(vev_number)):\n",
    "    vev_df[vev_number[i]] = pd.to_numeric(vev_df[vev_number[i]])"
   ]
  },
  {
   "cell_type": "code",
   "execution_count": 18,
   "metadata": {},
   "outputs": [],
   "source": [
    "e_frames = [vev_df, fev_df]\n",
    "export_all = pd.concat(e_frames,ignore_index=False)"
   ]
  },
  {
   "cell_type": "code",
   "execution_count": 19,
   "metadata": {},
   "outputs": [
    {
     "data": {
      "text/plain": [
       "product     object\n",
       "flow        object\n",
       "mktyr      float64\n",
       "avg        float64\n",
       "jan        float64\n",
       "feb        float64\n",
       "mar        float64\n",
       "apr        float64\n",
       "may        float64\n",
       "jun        float64\n",
       "jul        float64\n",
       "aug        float64\n",
       "sep        float64\n",
       "oct        float64\n",
       "nov        float64\n",
       "dec        float64\n",
       "dtype: object"
      ]
     },
     "execution_count": 19,
     "metadata": {},
     "output_type": "execute_result"
    }
   ],
   "source": [
    "export_all.dtypes"
   ]
  },
  {
   "cell_type": "code",
   "execution_count": 20,
   "metadata": {},
   "outputs": [
    {
     "data": {
      "text/html": [
       "<div>\n",
       "<style scoped>\n",
       "    .dataframe tbody tr th:only-of-type {\n",
       "        vertical-align: middle;\n",
       "    }\n",
       "\n",
       "    .dataframe tbody tr th {\n",
       "        vertical-align: top;\n",
       "    }\n",
       "\n",
       "    .dataframe thead th {\n",
       "        text-align: right;\n",
       "    }\n",
       "</style>\n",
       "<table border=\"1\" class=\"dataframe\">\n",
       "  <thead>\n",
       "    <tr style=\"text-align: right;\">\n",
       "      <th></th>\n",
       "      <th>product</th>\n",
       "      <th>flow</th>\n",
       "      <th>mktyr</th>\n",
       "      <th>avg</th>\n",
       "      <th>jan</th>\n",
       "      <th>feb</th>\n",
       "      <th>mar</th>\n",
       "      <th>apr</th>\n",
       "      <th>may</th>\n",
       "      <th>jun</th>\n",
       "      <th>jul</th>\n",
       "      <th>aug</th>\n",
       "      <th>sep</th>\n",
       "      <th>oct</th>\n",
       "      <th>nov</th>\n",
       "      <th>dec</th>\n",
       "      <th>year_sum</th>\n",
       "    </tr>\n",
       "  </thead>\n",
       "  <tbody>\n",
       "    <tr>\n",
       "      <th>0</th>\n",
       "      <td>artichoke</td>\n",
       "      <td>Export value</td>\n",
       "      <td>2019.0</td>\n",
       "      <td>70.083333</td>\n",
       "      <td>265.0</td>\n",
       "      <td>330.0</td>\n",
       "      <td>246.0</td>\n",
       "      <td>0.0</td>\n",
       "      <td>0.0</td>\n",
       "      <td>0.0</td>\n",
       "      <td>0.0</td>\n",
       "      <td>0.0</td>\n",
       "      <td>0.0</td>\n",
       "      <td>0.0</td>\n",
       "      <td>0.0</td>\n",
       "      <td>0.0</td>\n",
       "      <td>841.0</td>\n",
       "    </tr>\n",
       "    <tr>\n",
       "      <th>1</th>\n",
       "      <td>artichoke</td>\n",
       "      <td>Export value</td>\n",
       "      <td>2018.0</td>\n",
       "      <td>268.083333</td>\n",
       "      <td>323.0</td>\n",
       "      <td>366.0</td>\n",
       "      <td>235.0</td>\n",
       "      <td>268.0</td>\n",
       "      <td>326.0</td>\n",
       "      <td>269.0</td>\n",
       "      <td>179.0</td>\n",
       "      <td>187.0</td>\n",
       "      <td>206.0</td>\n",
       "      <td>195.0</td>\n",
       "      <td>334.0</td>\n",
       "      <td>329.0</td>\n",
       "      <td>2888.0</td>\n",
       "    </tr>\n",
       "    <tr>\n",
       "      <th>2</th>\n",
       "      <td>artichoke</td>\n",
       "      <td>Export value</td>\n",
       "      <td>2017.0</td>\n",
       "      <td>295.916667</td>\n",
       "      <td>258.0</td>\n",
       "      <td>293.0</td>\n",
       "      <td>287.0</td>\n",
       "      <td>262.0</td>\n",
       "      <td>301.0</td>\n",
       "      <td>339.0</td>\n",
       "      <td>257.0</td>\n",
       "      <td>220.0</td>\n",
       "      <td>262.0</td>\n",
       "      <td>399.0</td>\n",
       "      <td>230.0</td>\n",
       "      <td>443.0</td>\n",
       "      <td>3108.0</td>\n",
       "    </tr>\n",
       "    <tr>\n",
       "      <th>3</th>\n",
       "      <td>artichoke</td>\n",
       "      <td>Export value</td>\n",
       "      <td>2016.0</td>\n",
       "      <td>275.083333</td>\n",
       "      <td>122.0</td>\n",
       "      <td>230.0</td>\n",
       "      <td>295.0</td>\n",
       "      <td>449.0</td>\n",
       "      <td>182.0</td>\n",
       "      <td>306.0</td>\n",
       "      <td>262.0</td>\n",
       "      <td>167.0</td>\n",
       "      <td>269.0</td>\n",
       "      <td>296.0</td>\n",
       "      <td>332.0</td>\n",
       "      <td>391.0</td>\n",
       "      <td>2910.0</td>\n",
       "    </tr>\n",
       "    <tr>\n",
       "      <th>4</th>\n",
       "      <td>artichoke</td>\n",
       "      <td>Export value</td>\n",
       "      <td>2015.0</td>\n",
       "      <td>261.916667</td>\n",
       "      <td>231.0</td>\n",
       "      <td>373.0</td>\n",
       "      <td>352.0</td>\n",
       "      <td>332.0</td>\n",
       "      <td>320.0</td>\n",
       "      <td>260.0</td>\n",
       "      <td>292.0</td>\n",
       "      <td>216.0</td>\n",
       "      <td>134.0</td>\n",
       "      <td>206.0</td>\n",
       "      <td>230.0</td>\n",
       "      <td>197.0</td>\n",
       "      <td>2946.0</td>\n",
       "    </tr>\n",
       "  </tbody>\n",
       "</table>\n",
       "</div>"
      ],
      "text/plain": [
       "     product          flow   mktyr         avg    jan    feb    mar    apr  \\\n",
       "0  artichoke  Export value  2019.0   70.083333  265.0  330.0  246.0    0.0   \n",
       "1  artichoke  Export value  2018.0  268.083333  323.0  366.0  235.0  268.0   \n",
       "2  artichoke  Export value  2017.0  295.916667  258.0  293.0  287.0  262.0   \n",
       "3  artichoke  Export value  2016.0  275.083333  122.0  230.0  295.0  449.0   \n",
       "4  artichoke  Export value  2015.0  261.916667  231.0  373.0  352.0  332.0   \n",
       "\n",
       "     may    jun    jul    aug    sep    oct    nov    dec  year_sum  \n",
       "0    0.0    0.0    0.0    0.0    0.0    0.0    0.0    0.0     841.0  \n",
       "1  326.0  269.0  179.0  187.0  206.0  195.0  334.0  329.0    2888.0  \n",
       "2  301.0  339.0  257.0  220.0  262.0  399.0  230.0  443.0    3108.0  \n",
       "3  182.0  306.0  262.0  167.0  269.0  296.0  332.0  391.0    2910.0  \n",
       "4  320.0  260.0  292.0  216.0  134.0  206.0  230.0  197.0    2946.0  "
      ]
     },
     "execution_count": 20,
     "metadata": {},
     "output_type": "execute_result"
    }
   ],
   "source": [
    "export_month = export_all.columns\n",
    "export_month = export_month[4:]\n",
    "for i in range(0, len(export_month)):\n",
    "    export_all[export_month[i]] = pd.to_numeric(export_all[export_month[i]])\n",
    "    \n",
    "export_all['year_sum'] = export_all['jan'] + export_all['feb']\n",
    "\n",
    "for j in range(2, len(export_month)-1):\n",
    "    export_all['year_sum'] += export_all[export_month[j]]\n",
    "    \n",
    "export_all.head()"
   ]
  },
  {
   "cell_type": "code",
   "execution_count": 21,
   "metadata": {},
   "outputs": [
    {
     "data": {
      "text/html": [
       "<div>\n",
       "<style scoped>\n",
       "    .dataframe tbody tr th:only-of-type {\n",
       "        vertical-align: middle;\n",
       "    }\n",
       "\n",
       "    .dataframe tbody tr th {\n",
       "        vertical-align: top;\n",
       "    }\n",
       "\n",
       "    .dataframe thead th {\n",
       "        text-align: right;\n",
       "    }\n",
       "</style>\n",
       "<table border=\"1\" class=\"dataframe\">\n",
       "  <thead>\n",
       "    <tr style=\"text-align: right;\">\n",
       "      <th></th>\n",
       "      <th>flow</th>\n",
       "      <th>mktyr</th>\n",
       "      <th>avg</th>\n",
       "      <th>jan</th>\n",
       "      <th>feb</th>\n",
       "      <th>mar</th>\n",
       "      <th>apr</th>\n",
       "      <th>may</th>\n",
       "      <th>jun</th>\n",
       "      <th>jul</th>\n",
       "      <th>aug</th>\n",
       "      <th>sep</th>\n",
       "      <th>oct</th>\n",
       "      <th>nov</th>\n",
       "      <th>dec</th>\n",
       "      <th>year_sum</th>\n",
       "    </tr>\n",
       "    <tr>\n",
       "      <th>product</th>\n",
       "      <th></th>\n",
       "      <th></th>\n",
       "      <th></th>\n",
       "      <th></th>\n",
       "      <th></th>\n",
       "      <th></th>\n",
       "      <th></th>\n",
       "      <th></th>\n",
       "      <th></th>\n",
       "      <th></th>\n",
       "      <th></th>\n",
       "      <th></th>\n",
       "      <th></th>\n",
       "      <th></th>\n",
       "      <th></th>\n",
       "      <th></th>\n",
       "    </tr>\n",
       "  </thead>\n",
       "  <tbody>\n",
       "    <tr>\n",
       "      <th>broccoli</th>\n",
       "      <td>Export value</td>\n",
       "      <td>2019.0</td>\n",
       "      <td>1932.916667</td>\n",
       "      <td>7926.0</td>\n",
       "      <td>6978.0</td>\n",
       "      <td>8291.0</td>\n",
       "      <td>0.0</td>\n",
       "      <td>0.0</td>\n",
       "      <td>0.0</td>\n",
       "      <td>0.0</td>\n",
       "      <td>0.0</td>\n",
       "      <td>0.0</td>\n",
       "      <td>0.0</td>\n",
       "      <td>0.0</td>\n",
       "      <td>0.0</td>\n",
       "      <td>23195.0</td>\n",
       "    </tr>\n",
       "    <tr>\n",
       "      <th>broccoli</th>\n",
       "      <td>Export value</td>\n",
       "      <td>2018.0</td>\n",
       "      <td>8727.750000</td>\n",
       "      <td>9423.0</td>\n",
       "      <td>8442.0</td>\n",
       "      <td>9187.0</td>\n",
       "      <td>10525.0</td>\n",
       "      <td>9467.0</td>\n",
       "      <td>9664.0</td>\n",
       "      <td>6865.0</td>\n",
       "      <td>6891.0</td>\n",
       "      <td>8128.0</td>\n",
       "      <td>8400.0</td>\n",
       "      <td>8584.0</td>\n",
       "      <td>9157.0</td>\n",
       "      <td>95576.0</td>\n",
       "    </tr>\n",
       "    <tr>\n",
       "      <th>broccoli</th>\n",
       "      <td>Export value</td>\n",
       "      <td>2017.0</td>\n",
       "      <td>8179.166667</td>\n",
       "      <td>8472.0</td>\n",
       "      <td>8197.0</td>\n",
       "      <td>8164.0</td>\n",
       "      <td>8933.0</td>\n",
       "      <td>9908.0</td>\n",
       "      <td>10528.0</td>\n",
       "      <td>7474.0</td>\n",
       "      <td>6586.0</td>\n",
       "      <td>5626.0</td>\n",
       "      <td>5586.0</td>\n",
       "      <td>9204.0</td>\n",
       "      <td>9472.0</td>\n",
       "      <td>88678.0</td>\n",
       "    </tr>\n",
       "    <tr>\n",
       "      <th>broccoli</th>\n",
       "      <td>Export value</td>\n",
       "      <td>2016.0</td>\n",
       "      <td>9971.833333</td>\n",
       "      <td>11011.0</td>\n",
       "      <td>8768.0</td>\n",
       "      <td>11019.0</td>\n",
       "      <td>13129.0</td>\n",
       "      <td>11740.0</td>\n",
       "      <td>10830.0</td>\n",
       "      <td>7156.0</td>\n",
       "      <td>7584.0</td>\n",
       "      <td>9029.0</td>\n",
       "      <td>10145.0</td>\n",
       "      <td>10362.0</td>\n",
       "      <td>8889.0</td>\n",
       "      <td>110773.0</td>\n",
       "    </tr>\n",
       "    <tr>\n",
       "      <th>broccoli</th>\n",
       "      <td>Export value</td>\n",
       "      <td>2015.0</td>\n",
       "      <td>9996.833333</td>\n",
       "      <td>10521.0</td>\n",
       "      <td>9769.0</td>\n",
       "      <td>10227.0</td>\n",
       "      <td>13467.0</td>\n",
       "      <td>13274.0</td>\n",
       "      <td>11550.0</td>\n",
       "      <td>8444.0</td>\n",
       "      <td>7708.0</td>\n",
       "      <td>8022.0</td>\n",
       "      <td>8552.0</td>\n",
       "      <td>8111.0</td>\n",
       "      <td>10317.0</td>\n",
       "      <td>109645.0</td>\n",
       "    </tr>\n",
       "  </tbody>\n",
       "</table>\n",
       "</div>"
      ],
      "text/plain": [
       "                  flow   mktyr          avg      jan     feb      mar  \\\n",
       "product                                                                 \n",
       "broccoli  Export value  2019.0  1932.916667   7926.0  6978.0   8291.0   \n",
       "broccoli  Export value  2018.0  8727.750000   9423.0  8442.0   9187.0   \n",
       "broccoli  Export value  2017.0  8179.166667   8472.0  8197.0   8164.0   \n",
       "broccoli  Export value  2016.0  9971.833333  11011.0  8768.0  11019.0   \n",
       "broccoli  Export value  2015.0  9996.833333  10521.0  9769.0  10227.0   \n",
       "\n",
       "              apr      may      jun     jul     aug     sep      oct      nov  \\\n",
       "product                                                                         \n",
       "broccoli      0.0      0.0      0.0     0.0     0.0     0.0      0.0      0.0   \n",
       "broccoli  10525.0   9467.0   9664.0  6865.0  6891.0  8128.0   8400.0   8584.0   \n",
       "broccoli   8933.0   9908.0  10528.0  7474.0  6586.0  5626.0   5586.0   9204.0   \n",
       "broccoli  13129.0  11740.0  10830.0  7156.0  7584.0  9029.0  10145.0  10362.0   \n",
       "broccoli  13467.0  13274.0  11550.0  8444.0  7708.0  8022.0   8552.0   8111.0   \n",
       "\n",
       "              dec  year_sum  \n",
       "product                      \n",
       "broccoli      0.0   23195.0  \n",
       "broccoli   9157.0   95576.0  \n",
       "broccoli   9472.0   88678.0  \n",
       "broccoli   8889.0  110773.0  \n",
       "broccoli  10317.0  109645.0  "
      ]
     },
     "execution_count": 21,
     "metadata": {},
     "output_type": "execute_result"
    }
   ],
   "source": [
    "export_specific = export_all.set_index(\"product\")\n",
    "broccoli_overall = export_specific.loc['broccoli', :]\n",
    "#len(broccoli_overall['mktyr'])\n",
    "#len(export_month[:-1])\n",
    "broccoli_overall"
   ]
  },
  {
   "cell_type": "code",
   "execution_count": 22,
   "metadata": {},
   "outputs": [
    {
     "data": {
      "text/plain": [
       "array(['artichoke', 'beet', 'broccoli', 'carrot', 'green pea', 'mushroom',\n",
       "       'onion', 'pepper', 'potato', 'sweet corn', 'Apple', 'Apricot',\n",
       "       'Avocados', 'Blueberries', 'Cherries', 'Citrus', 'Cranberries',\n",
       "       'Figs', 'Grapefruit', 'Grapes', 'Guavas', 'Kiwi', 'Limes',\n",
       "       'Orange', 'Papaya', 'Peaches', 'Pears', 'Persimmons', 'Pineapples',\n",
       "       'Plums', 'Strawberries', 'Tangerines'], dtype=object)"
      ]
     },
     "execution_count": 22,
     "metadata": {},
     "output_type": "execute_result"
    }
   ],
   "source": [
    "export_all['product'].unique()"
   ]
  },
  {
   "cell_type": "code",
   "execution_count": 23,
   "metadata": {},
   "outputs": [
    {
     "data": {
      "text/html": [
       "<div>\n",
       "<style scoped>\n",
       "    .dataframe tbody tr th:only-of-type {\n",
       "        vertical-align: middle;\n",
       "    }\n",
       "\n",
       "    .dataframe tbody tr th {\n",
       "        vertical-align: top;\n",
       "    }\n",
       "\n",
       "    .dataframe thead th {\n",
       "        text-align: right;\n",
       "    }\n",
       "</style>\n",
       "<table border=\"1\" class=\"dataframe\">\n",
       "  <thead>\n",
       "    <tr style=\"text-align: right;\">\n",
       "      <th></th>\n",
       "      <th>flow</th>\n",
       "      <th>mktyr</th>\n",
       "      <th>avg</th>\n",
       "      <th>jan</th>\n",
       "      <th>feb</th>\n",
       "      <th>mar</th>\n",
       "      <th>apr</th>\n",
       "      <th>may</th>\n",
       "      <th>jun</th>\n",
       "      <th>jul</th>\n",
       "      <th>aug</th>\n",
       "      <th>sep</th>\n",
       "      <th>oct</th>\n",
       "      <th>nov</th>\n",
       "      <th>dec</th>\n",
       "      <th>year_sum</th>\n",
       "    </tr>\n",
       "  </thead>\n",
       "  <tbody>\n",
       "    <tr>\n",
       "      <th>0</th>\n",
       "      <td>Export value</td>\n",
       "      <td>2019.0</td>\n",
       "      <td>1932.916667</td>\n",
       "      <td>7926.0</td>\n",
       "      <td>6978.0</td>\n",
       "      <td>8291.0</td>\n",
       "      <td>0.0</td>\n",
       "      <td>0.0</td>\n",
       "      <td>0.0</td>\n",
       "      <td>0.0</td>\n",
       "      <td>0.0</td>\n",
       "      <td>0.0</td>\n",
       "      <td>0.0</td>\n",
       "      <td>0.0</td>\n",
       "      <td>0.0</td>\n",
       "      <td>23195.0</td>\n",
       "    </tr>\n",
       "    <tr>\n",
       "      <th>1</th>\n",
       "      <td>Export value</td>\n",
       "      <td>2018.0</td>\n",
       "      <td>8727.750000</td>\n",
       "      <td>9423.0</td>\n",
       "      <td>8442.0</td>\n",
       "      <td>9187.0</td>\n",
       "      <td>10525.0</td>\n",
       "      <td>9467.0</td>\n",
       "      <td>9664.0</td>\n",
       "      <td>6865.0</td>\n",
       "      <td>6891.0</td>\n",
       "      <td>8128.0</td>\n",
       "      <td>8400.0</td>\n",
       "      <td>8584.0</td>\n",
       "      <td>9157.0</td>\n",
       "      <td>95576.0</td>\n",
       "    </tr>\n",
       "    <tr>\n",
       "      <th>2</th>\n",
       "      <td>Export value</td>\n",
       "      <td>2017.0</td>\n",
       "      <td>8179.166667</td>\n",
       "      <td>8472.0</td>\n",
       "      <td>8197.0</td>\n",
       "      <td>8164.0</td>\n",
       "      <td>8933.0</td>\n",
       "      <td>9908.0</td>\n",
       "      <td>10528.0</td>\n",
       "      <td>7474.0</td>\n",
       "      <td>6586.0</td>\n",
       "      <td>5626.0</td>\n",
       "      <td>5586.0</td>\n",
       "      <td>9204.0</td>\n",
       "      <td>9472.0</td>\n",
       "      <td>88678.0</td>\n",
       "    </tr>\n",
       "    <tr>\n",
       "      <th>3</th>\n",
       "      <td>Export value</td>\n",
       "      <td>2016.0</td>\n",
       "      <td>9971.833333</td>\n",
       "      <td>11011.0</td>\n",
       "      <td>8768.0</td>\n",
       "      <td>11019.0</td>\n",
       "      <td>13129.0</td>\n",
       "      <td>11740.0</td>\n",
       "      <td>10830.0</td>\n",
       "      <td>7156.0</td>\n",
       "      <td>7584.0</td>\n",
       "      <td>9029.0</td>\n",
       "      <td>10145.0</td>\n",
       "      <td>10362.0</td>\n",
       "      <td>8889.0</td>\n",
       "      <td>110773.0</td>\n",
       "    </tr>\n",
       "    <tr>\n",
       "      <th>4</th>\n",
       "      <td>Export value</td>\n",
       "      <td>2015.0</td>\n",
       "      <td>9996.833333</td>\n",
       "      <td>10521.0</td>\n",
       "      <td>9769.0</td>\n",
       "      <td>10227.0</td>\n",
       "      <td>13467.0</td>\n",
       "      <td>13274.0</td>\n",
       "      <td>11550.0</td>\n",
       "      <td>8444.0</td>\n",
       "      <td>7708.0</td>\n",
       "      <td>8022.0</td>\n",
       "      <td>8552.0</td>\n",
       "      <td>8111.0</td>\n",
       "      <td>10317.0</td>\n",
       "      <td>109645.0</td>\n",
       "    </tr>\n",
       "  </tbody>\n",
       "</table>\n",
       "</div>"
      ],
      "text/plain": [
       "           flow   mktyr          avg      jan     feb      mar      apr  \\\n",
       "0  Export value  2019.0  1932.916667   7926.0  6978.0   8291.0      0.0   \n",
       "1  Export value  2018.0  8727.750000   9423.0  8442.0   9187.0  10525.0   \n",
       "2  Export value  2017.0  8179.166667   8472.0  8197.0   8164.0   8933.0   \n",
       "3  Export value  2016.0  9971.833333  11011.0  8768.0  11019.0  13129.0   \n",
       "4  Export value  2015.0  9996.833333  10521.0  9769.0  10227.0  13467.0   \n",
       "\n",
       "       may      jun     jul     aug     sep      oct      nov      dec  \\\n",
       "0      0.0      0.0     0.0     0.0     0.0      0.0      0.0      0.0   \n",
       "1   9467.0   9664.0  6865.0  6891.0  8128.0   8400.0   8584.0   9157.0   \n",
       "2   9908.0  10528.0  7474.0  6586.0  5626.0   5586.0   9204.0   9472.0   \n",
       "3  11740.0  10830.0  7156.0  7584.0  9029.0  10145.0  10362.0   8889.0   \n",
       "4  13274.0  11550.0  8444.0  7708.0  8022.0   8552.0   8111.0  10317.0   \n",
       "\n",
       "   year_sum  \n",
       "0   23195.0  \n",
       "1   95576.0  \n",
       "2   88678.0  \n",
       "3  110773.0  \n",
       "4  109645.0  "
      ]
     },
     "execution_count": 23,
     "metadata": {},
     "output_type": "execute_result"
    }
   ],
   "source": [
    "broccoli_specific = broccoli_overall.reset_index(drop = True)\n",
    "broccoli_specific"
   ]
  },
  {
   "cell_type": "code",
   "execution_count": 24,
   "metadata": {},
   "outputs": [
    {
     "data": {
      "text/html": [
       "<div>\n",
       "<style scoped>\n",
       "    .dataframe tbody tr th:only-of-type {\n",
       "        vertical-align: middle;\n",
       "    }\n",
       "\n",
       "    .dataframe tbody tr th {\n",
       "        vertical-align: top;\n",
       "    }\n",
       "\n",
       "    .dataframe thead th {\n",
       "        text-align: right;\n",
       "    }\n",
       "</style>\n",
       "<table border=\"1\" class=\"dataframe\">\n",
       "  <thead>\n",
       "    <tr style=\"text-align: right;\">\n",
       "      <th></th>\n",
       "      <th>product</th>\n",
       "      <th>mktyr</th>\n",
       "      <th>avg</th>\n",
       "      <th>jan</th>\n",
       "      <th>feb</th>\n",
       "      <th>mar</th>\n",
       "      <th>apr</th>\n",
       "      <th>may</th>\n",
       "      <th>jun</th>\n",
       "      <th>jul</th>\n",
       "      <th>aug</th>\n",
       "      <th>sep</th>\n",
       "      <th>oct</th>\n",
       "      <th>nov</th>\n",
       "      <th>dec</th>\n",
       "      <th>year_sum</th>\n",
       "    </tr>\n",
       "  </thead>\n",
       "  <tbody>\n",
       "    <tr>\n",
       "      <th>0</th>\n",
       "      <td>artichoke</td>\n",
       "      <td>2019.0</td>\n",
       "      <td>70.083333</td>\n",
       "      <td>265.0</td>\n",
       "      <td>330.0</td>\n",
       "      <td>246.0</td>\n",
       "      <td>0.0</td>\n",
       "      <td>0.0</td>\n",
       "      <td>0.0</td>\n",
       "      <td>0.0</td>\n",
       "      <td>0.0</td>\n",
       "      <td>0.0</td>\n",
       "      <td>0.0</td>\n",
       "      <td>0.0</td>\n",
       "      <td>0.0</td>\n",
       "      <td>841.0</td>\n",
       "    </tr>\n",
       "    <tr>\n",
       "      <th>1</th>\n",
       "      <td>artichoke</td>\n",
       "      <td>2018.0</td>\n",
       "      <td>268.083333</td>\n",
       "      <td>323.0</td>\n",
       "      <td>366.0</td>\n",
       "      <td>235.0</td>\n",
       "      <td>268.0</td>\n",
       "      <td>326.0</td>\n",
       "      <td>269.0</td>\n",
       "      <td>179.0</td>\n",
       "      <td>187.0</td>\n",
       "      <td>206.0</td>\n",
       "      <td>195.0</td>\n",
       "      <td>334.0</td>\n",
       "      <td>329.0</td>\n",
       "      <td>2888.0</td>\n",
       "    </tr>\n",
       "    <tr>\n",
       "      <th>2</th>\n",
       "      <td>artichoke</td>\n",
       "      <td>2017.0</td>\n",
       "      <td>295.916667</td>\n",
       "      <td>258.0</td>\n",
       "      <td>293.0</td>\n",
       "      <td>287.0</td>\n",
       "      <td>262.0</td>\n",
       "      <td>301.0</td>\n",
       "      <td>339.0</td>\n",
       "      <td>257.0</td>\n",
       "      <td>220.0</td>\n",
       "      <td>262.0</td>\n",
       "      <td>399.0</td>\n",
       "      <td>230.0</td>\n",
       "      <td>443.0</td>\n",
       "      <td>3108.0</td>\n",
       "    </tr>\n",
       "    <tr>\n",
       "      <th>3</th>\n",
       "      <td>artichoke</td>\n",
       "      <td>2016.0</td>\n",
       "      <td>275.083333</td>\n",
       "      <td>122.0</td>\n",
       "      <td>230.0</td>\n",
       "      <td>295.0</td>\n",
       "      <td>449.0</td>\n",
       "      <td>182.0</td>\n",
       "      <td>306.0</td>\n",
       "      <td>262.0</td>\n",
       "      <td>167.0</td>\n",
       "      <td>269.0</td>\n",
       "      <td>296.0</td>\n",
       "      <td>332.0</td>\n",
       "      <td>391.0</td>\n",
       "      <td>2910.0</td>\n",
       "    </tr>\n",
       "    <tr>\n",
       "      <th>4</th>\n",
       "      <td>artichoke</td>\n",
       "      <td>2015.0</td>\n",
       "      <td>261.916667</td>\n",
       "      <td>231.0</td>\n",
       "      <td>373.0</td>\n",
       "      <td>352.0</td>\n",
       "      <td>332.0</td>\n",
       "      <td>320.0</td>\n",
       "      <td>260.0</td>\n",
       "      <td>292.0</td>\n",
       "      <td>216.0</td>\n",
       "      <td>134.0</td>\n",
       "      <td>206.0</td>\n",
       "      <td>230.0</td>\n",
       "      <td>197.0</td>\n",
       "      <td>2946.0</td>\n",
       "    </tr>\n",
       "  </tbody>\n",
       "</table>\n",
       "</div>"
      ],
      "text/plain": [
       "     product   mktyr         avg    jan    feb    mar    apr    may    jun  \\\n",
       "0  artichoke  2019.0   70.083333  265.0  330.0  246.0    0.0    0.0    0.0   \n",
       "1  artichoke  2018.0  268.083333  323.0  366.0  235.0  268.0  326.0  269.0   \n",
       "2  artichoke  2017.0  295.916667  258.0  293.0  287.0  262.0  301.0  339.0   \n",
       "3  artichoke  2016.0  275.083333  122.0  230.0  295.0  449.0  182.0  306.0   \n",
       "4  artichoke  2015.0  261.916667  231.0  373.0  352.0  332.0  320.0  260.0   \n",
       "\n",
       "     jul    aug    sep    oct    nov    dec  year_sum  \n",
       "0    0.0    0.0    0.0    0.0    0.0    0.0     841.0  \n",
       "1  179.0  187.0  206.0  195.0  334.0  329.0    2888.0  \n",
       "2  257.0  220.0  262.0  399.0  230.0  443.0    3108.0  \n",
       "3  262.0  167.0  269.0  296.0  332.0  391.0    2910.0  \n",
       "4  292.0  216.0  134.0  206.0  230.0  197.0    2946.0  "
      ]
     },
     "execution_count": 24,
     "metadata": {},
     "output_type": "execute_result"
    }
   ],
   "source": [
    "export_all_refined = export_all.drop(\"flow\", axis = 1)\n",
    "export_all_refined.head()"
   ]
  },
  {
   "cell_type": "code",
   "execution_count": 25,
   "metadata": {},
   "outputs": [
    {
     "data": {
      "text/html": [
       "<div>\n",
       "<style scoped>\n",
       "    .dataframe tbody tr th:only-of-type {\n",
       "        vertical-align: middle;\n",
       "    }\n",
       "\n",
       "    .dataframe tbody tr th {\n",
       "        vertical-align: top;\n",
       "    }\n",
       "\n",
       "    .dataframe thead th {\n",
       "        text-align: right;\n",
       "    }\n",
       "</style>\n",
       "<table border=\"1\" class=\"dataframe\">\n",
       "  <thead>\n",
       "    <tr style=\"text-align: right;\">\n",
       "      <th></th>\n",
       "      <th>product</th>\n",
       "      <th>country</th>\n",
       "      <th>share</th>\n",
       "      <th>avg</th>\n",
       "      <th>yr15</th>\n",
       "      <th>yr16</th>\n",
       "      <th>yr17</th>\n",
       "      <th>yr18</th>\n",
       "      <th>yr19</th>\n",
       "    </tr>\n",
       "  </thead>\n",
       "  <tbody>\n",
       "    <tr>\n",
       "      <th>0</th>\n",
       "      <td>Apple</td>\n",
       "      <td>Mexico</td>\n",
       "      <td>26.40%</td>\n",
       "      <td>269,127</td>\n",
       "      <td>230,643</td>\n",
       "      <td>265,054</td>\n",
       "      <td>289,339</td>\n",
       "      <td>175,074</td>\n",
       "      <td>152,300</td>\n",
       "    </tr>\n",
       "    <tr>\n",
       "      <th>1</th>\n",
       "      <td>Apple</td>\n",
       "      <td>Canada</td>\n",
       "      <td>17.10%</td>\n",
       "      <td>176,116</td>\n",
       "      <td>190,958</td>\n",
       "      <td>171,046</td>\n",
       "      <td>167,337</td>\n",
       "      <td>107,007</td>\n",
       "      <td>92,426</td>\n",
       "    </tr>\n",
       "    <tr>\n",
       "      <th>2</th>\n",
       "      <td>Apple</td>\n",
       "      <td>India</td>\n",
       "      <td>10.10%</td>\n",
       "      <td>106,973</td>\n",
       "      <td>56,484</td>\n",
       "      <td>89,033</td>\n",
       "      <td>174,179</td>\n",
       "      <td>90,591</td>\n",
       "      <td>40,340</td>\n",
       "    </tr>\n",
       "    <tr>\n",
       "      <th>3</th>\n",
       "      <td>Apple</td>\n",
       "      <td>Taiwan</td>\n",
       "      <td>8.10%</td>\n",
       "      <td>79,069</td>\n",
       "      <td>76,072</td>\n",
       "      <td>83,912</td>\n",
       "      <td>67,184</td>\n",
       "      <td>64,703</td>\n",
       "      <td>61,365</td>\n",
       "    </tr>\n",
       "    <tr>\n",
       "      <th>4</th>\n",
       "      <td>Apple</td>\n",
       "      <td>Vietnam</td>\n",
       "      <td>4.40%</td>\n",
       "      <td>38,827</td>\n",
       "      <td>29,789</td>\n",
       "      <td>36,508</td>\n",
       "      <td>41,656</td>\n",
       "      <td>37,473</td>\n",
       "      <td>47,310</td>\n",
       "    </tr>\n",
       "  </tbody>\n",
       "</table>\n",
       "</div>"
      ],
      "text/plain": [
       "  product  country   share      avg     yr15     yr16     yr17     yr18  \\\n",
       "0   Apple   Mexico  26.40%  269,127  230,643  265,054  289,339  175,074   \n",
       "1   Apple   Canada  17.10%  176,116  190,958  171,046  167,337  107,007   \n",
       "2   Apple    India  10.10%  106,973   56,484   89,033  174,179   90,591   \n",
       "3   Apple   Taiwan   8.10%   79,069   76,072   83,912   67,184   64,703   \n",
       "4   Apple  Vietnam   4.40%   38,827   29,789   36,508   41,656   37,473   \n",
       "\n",
       "      yr19  \n",
       "0  152,300  \n",
       "1   92,426  \n",
       "2   40,340  \n",
       "3   61,365  \n",
       "4   47,310  "
      ]
     },
     "execution_count": 25,
     "metadata": {},
     "output_type": "execute_result"
    }
   ],
   "source": [
    "fed_summary = session.query(FED).statement\n",
    "fed_summary_df = pd.read_sql_query(fed_summary, con = engine)\n",
    "fed_summary_df.drop(['id', 'flow', 'lat', 'lon'], axis=1, inplace=True)\n",
    "fed_summary_df.head()"
   ]
  },
  {
   "cell_type": "code",
   "execution_count": 26,
   "metadata": {},
   "outputs": [
    {
     "data": {
      "text/html": [
       "<div>\n",
       "<style scoped>\n",
       "    .dataframe tbody tr th:only-of-type {\n",
       "        vertical-align: middle;\n",
       "    }\n",
       "\n",
       "    .dataframe tbody tr th {\n",
       "        vertical-align: top;\n",
       "    }\n",
       "\n",
       "    .dataframe thead th {\n",
       "        text-align: right;\n",
       "    }\n",
       "</style>\n",
       "<table border=\"1\" class=\"dataframe\">\n",
       "  <thead>\n",
       "    <tr style=\"text-align: right;\">\n",
       "      <th></th>\n",
       "      <th>product</th>\n",
       "      <th>country</th>\n",
       "      <th>share</th>\n",
       "      <th>avg</th>\n",
       "      <th>yr15</th>\n",
       "      <th>yr16</th>\n",
       "      <th>yr17</th>\n",
       "      <th>yr18</th>\n",
       "      <th>yr19</th>\n",
       "    </tr>\n",
       "  </thead>\n",
       "  <tbody>\n",
       "    <tr>\n",
       "      <th>0</th>\n",
       "      <td>Apple</td>\n",
       "      <td>Mexico</td>\n",
       "      <td>26.4</td>\n",
       "      <td>269127.0</td>\n",
       "      <td>230643.0</td>\n",
       "      <td>265054.0</td>\n",
       "      <td>289339.0</td>\n",
       "      <td>175074.0</td>\n",
       "      <td>152300.0</td>\n",
       "    </tr>\n",
       "    <tr>\n",
       "      <th>1</th>\n",
       "      <td>Apple</td>\n",
       "      <td>Canada</td>\n",
       "      <td>17.1</td>\n",
       "      <td>176116.0</td>\n",
       "      <td>190958.0</td>\n",
       "      <td>171046.0</td>\n",
       "      <td>167337.0</td>\n",
       "      <td>107007.0</td>\n",
       "      <td>92426.0</td>\n",
       "    </tr>\n",
       "    <tr>\n",
       "      <th>2</th>\n",
       "      <td>Apple</td>\n",
       "      <td>India</td>\n",
       "      <td>10.1</td>\n",
       "      <td>106973.0</td>\n",
       "      <td>56484.0</td>\n",
       "      <td>89033.0</td>\n",
       "      <td>174179.0</td>\n",
       "      <td>90591.0</td>\n",
       "      <td>40340.0</td>\n",
       "    </tr>\n",
       "    <tr>\n",
       "      <th>3</th>\n",
       "      <td>Apple</td>\n",
       "      <td>Taiwan</td>\n",
       "      <td>8.1</td>\n",
       "      <td>79069.0</td>\n",
       "      <td>76072.0</td>\n",
       "      <td>83912.0</td>\n",
       "      <td>67184.0</td>\n",
       "      <td>64703.0</td>\n",
       "      <td>61365.0</td>\n",
       "    </tr>\n",
       "    <tr>\n",
       "      <th>4</th>\n",
       "      <td>Apple</td>\n",
       "      <td>Vietnam</td>\n",
       "      <td>4.4</td>\n",
       "      <td>38827.0</td>\n",
       "      <td>29789.0</td>\n",
       "      <td>36508.0</td>\n",
       "      <td>41656.0</td>\n",
       "      <td>37473.0</td>\n",
       "      <td>47310.0</td>\n",
       "    </tr>\n",
       "  </tbody>\n",
       "</table>\n",
       "</div>"
      ],
      "text/plain": [
       "  product  country  share       avg      yr15      yr16      yr17      yr18  \\\n",
       "0   Apple   Mexico   26.4  269127.0  230643.0  265054.0  289339.0  175074.0   \n",
       "1   Apple   Canada   17.1  176116.0  190958.0  171046.0  167337.0  107007.0   \n",
       "2   Apple    India   10.1  106973.0   56484.0   89033.0  174179.0   90591.0   \n",
       "3   Apple   Taiwan    8.1   79069.0   76072.0   83912.0   67184.0   64703.0   \n",
       "4   Apple  Vietnam    4.4   38827.0   29789.0   36508.0   41656.0   37473.0   \n",
       "\n",
       "       yr19  \n",
       "0  152300.0  \n",
       "1   92426.0  \n",
       "2   40340.0  \n",
       "3   61365.0  \n",
       "4   47310.0  "
      ]
     },
     "execution_count": 26,
     "metadata": {},
     "output_type": "execute_result"
    }
   ],
   "source": [
    "fed_summary_df = fed_summary_df.replace({'%':'', ',':''}, regex=True)\n",
    "fed_number = fed_summary_df.columns[2:]\n",
    "for i in range(0, len(fed_number)):\n",
    "    fed_summary_df[fed_number[i]] = pd.to_numeric(fed_summary_df[fed_number[i]])\n",
    "fed_summary_df.head()"
   ]
  },
  {
   "cell_type": "code",
   "execution_count": 27,
   "metadata": {},
   "outputs": [
    {
     "data": {
      "text/html": [
       "<div>\n",
       "<style scoped>\n",
       "    .dataframe tbody tr th:only-of-type {\n",
       "        vertical-align: middle;\n",
       "    }\n",
       "\n",
       "    .dataframe tbody tr th {\n",
       "        vertical-align: top;\n",
       "    }\n",
       "\n",
       "    .dataframe thead th {\n",
       "        text-align: right;\n",
       "    }\n",
       "</style>\n",
       "<table border=\"1\" class=\"dataframe\">\n",
       "  <thead>\n",
       "    <tr style=\"text-align: right;\">\n",
       "      <th></th>\n",
       "      <th>product</th>\n",
       "      <th>country</th>\n",
       "      <th>share</th>\n",
       "      <th>avg</th>\n",
       "      <th>yr15</th>\n",
       "      <th>yr16</th>\n",
       "      <th>yr17</th>\n",
       "      <th>yr18</th>\n",
       "      <th>yr19</th>\n",
       "    </tr>\n",
       "  </thead>\n",
       "  <tbody>\n",
       "    <tr>\n",
       "      <th>0</th>\n",
       "      <td>Apple</td>\n",
       "      <td>Taiwan</td>\n",
       "      <td>8.1</td>\n",
       "      <td>79069.0</td>\n",
       "      <td>76072.0</td>\n",
       "      <td>83912.0</td>\n",
       "      <td>67184.0</td>\n",
       "      <td>64703.0</td>\n",
       "      <td>61365.0</td>\n",
       "    </tr>\n",
       "    <tr>\n",
       "      <th>1</th>\n",
       "      <td>Apricot</td>\n",
       "      <td>Taiwan</td>\n",
       "      <td>0.6</td>\n",
       "      <td>59.0</td>\n",
       "      <td>113.0</td>\n",
       "      <td>36.0</td>\n",
       "      <td>60.0</td>\n",
       "      <td>0.0</td>\n",
       "      <td>0.0</td>\n",
       "    </tr>\n",
       "    <tr>\n",
       "      <th>2</th>\n",
       "      <td>Avocado</td>\n",
       "      <td>Taiwan</td>\n",
       "      <td>2.8</td>\n",
       "      <td>877.0</td>\n",
       "      <td>500.0</td>\n",
       "      <td>651.0</td>\n",
       "      <td>2300.0</td>\n",
       "      <td>647.0</td>\n",
       "      <td>668.0</td>\n",
       "    </tr>\n",
       "    <tr>\n",
       "      <th>3</th>\n",
       "      <td>Blueberries</td>\n",
       "      <td>Taiwan</td>\n",
       "      <td>1.3</td>\n",
       "      <td>1237.0</td>\n",
       "      <td>808.0</td>\n",
       "      <td>885.0</td>\n",
       "      <td>1149.0</td>\n",
       "      <td>0.0</td>\n",
       "      <td>13.0</td>\n",
       "    </tr>\n",
       "    <tr>\n",
       "      <th>4</th>\n",
       "      <td>Cherries</td>\n",
       "      <td>Taiwan</td>\n",
       "      <td>8.8</td>\n",
       "      <td>34926.0</td>\n",
       "      <td>39553.0</td>\n",
       "      <td>54364.0</td>\n",
       "      <td>49987.0</td>\n",
       "      <td>0.0</td>\n",
       "      <td>0.0</td>\n",
       "    </tr>\n",
       "  </tbody>\n",
       "</table>\n",
       "</div>"
      ],
      "text/plain": [
       "       product country  share      avg     yr15     yr16     yr17     yr18  \\\n",
       "0        Apple  Taiwan    8.1  79069.0  76072.0  83912.0  67184.0  64703.0   \n",
       "1      Apricot  Taiwan    0.6     59.0    113.0     36.0     60.0      0.0   \n",
       "2      Avocado  Taiwan    2.8    877.0    500.0    651.0   2300.0    647.0   \n",
       "3  Blueberries  Taiwan    1.3   1237.0    808.0    885.0   1149.0      0.0   \n",
       "4     Cherries  Taiwan    8.8  34926.0  39553.0  54364.0  49987.0      0.0   \n",
       "\n",
       "      yr19  \n",
       "0  61365.0  \n",
       "1      0.0  \n",
       "2    668.0  \n",
       "3     13.0  \n",
       "4      0.0  "
      ]
     },
     "execution_count": 27,
     "metadata": {},
     "output_type": "execute_result"
    }
   ],
   "source": [
    "taiwan_fruit_summary = fed_summary_df.loc[fed_summary_df['country'] == 'Taiwan', :]\n",
    "taiwan_fruit_summary.reset_index(drop = True).head()"
   ]
  },
  {
   "cell_type": "code",
   "execution_count": 28,
   "metadata": {},
   "outputs": [
    {
     "data": {
      "text/plain": [
       "jan     9423\n",
       "feb     8442\n",
       "mar     9187\n",
       "apr    10525\n",
       "may     9467\n",
       "jun     9664\n",
       "jul     6865\n",
       "aug     6891\n",
       "sep     8128\n",
       "oct     8400\n",
       "nov     8584\n",
       "dec     9157\n",
       "Name: 1, dtype: object"
      ]
     },
     "execution_count": 28,
     "metadata": {},
     "output_type": "execute_result"
    }
   ],
   "source": [
    "broccoli_month_list = []\n",
    "result_2019 = broccoli_specific.iloc[0,3:6]\n",
    "\n",
    "length = len(broccoli_specific.mktyr) - 1\n",
    "while length > 0:\n",
    "    result_rest = broccoli_specific.iloc[length,3:15]\n",
    "    for r in range(0, len(result_rest)):\n",
    "        broccoli_month_list.append(result_rest[r])\n",
    "    length -= 1\n",
    "\n",
    "#2019 first 3 months:\n",
    "for i in range(0, len(result_2019)):\n",
    "    broccoli_month_list.append(result_2019[i])\n",
    "\n",
    "month = [m for m in range(1, len(broccoli_month_list) + 1)]\n",
    "broccoli_export_df = pd.DataFrame({\"month\": month, \"broccoli\": broccoli_month_list})\n",
    "result_rest"
   ]
  },
  {
   "cell_type": "code",
   "execution_count": 29,
   "metadata": {},
   "outputs": [
    {
     "name": "stdout",
     "output_type": "stream",
     "text": [
      "(46, 5, 1) (46, 1)\n"
     ]
    }
   ],
   "source": [
    "training_set = broccoli_export_df[\"broccoli\"].values.reshape(-1, 1)\n",
    "\n",
    "X_scaler = MinMaxScaler().fit(training_set)\n",
    "training_set_scaled = X_scaler.transform(training_set)\n",
    "\n",
    "X_train = []\n",
    "y_train = []\n",
    "\n",
    "for i in range(5, 51):\n",
    "    X_train.append(training_set_scaled[i-5:i])\n",
    "    y_train.append(training_set_scaled[i])\n",
    "X_train, y_train = np.array(X_train), np.array(y_train)\n",
    "\n",
    "X_train = np.reshape(X_train, (X_train.shape[0], X_train.shape[1], 1))\n",
    "\n",
    "print(X_train.shape, y_train.shape)"
   ]
  },
  {
   "cell_type": "code",
   "execution_count": 30,
   "metadata": {},
   "outputs": [
    {
     "name": "stdout",
     "output_type": "stream",
     "text": [
      "(6, 5, 1)\n"
     ]
    }
   ],
   "source": [
    "X_test = []\n",
    "y_test = []\n",
    "\n",
    "for i in range(5, 11):\n",
    "    X_test.append(training_set_scaled[i-5:i])\n",
    "    y_test.append(training_set_scaled[i])\n",
    "X_test, y_test = np.array(X_test), np.array(y_test)\n",
    "\n",
    "X_test = np.reshape(X_test, (X_test.shape[0], X_test.shape[1], 1))\n",
    "print(X_test.shape)"
   ]
  },
  {
   "cell_type": "code",
   "execution_count": 31,
   "metadata": {},
   "outputs": [
    {
     "name": "stderr",
     "output_type": "stream",
     "text": [
      "WARNING: Logging before flag parsing goes to stderr.\n",
      "W0731 23:07:05.079617 18144 deprecation.py:506] From C:\\Users\\EugeneChu\\Anaconda3\\lib\\site-packages\\tensorflow\\python\\ops\\init_ops.py:1251: calling VarianceScaling.__init__ (from tensorflow.python.ops.init_ops) with dtype is deprecated and will be removed in a future version.\n",
      "Instructions for updating:\n",
      "Call initializer instance with the dtype argument instead of passing it to the constructor\n"
     ]
    },
    {
     "name": "stdout",
     "output_type": "stream",
     "text": [
      "Model: \"sequential\"\n",
      "_________________________________________________________________\n",
      "Layer (type)                 Output Shape              Param #   \n",
      "=================================================================\n",
      "lstm (LSTM)                  (None, 5, 10)             480       \n",
      "_________________________________________________________________\n",
      "lstm_1 (LSTM)                (None, 24)                3360      \n",
      "_________________________________________________________________\n",
      "dense (Dense)                (None, 1)                 25        \n",
      "=================================================================\n",
      "Total params: 3,865\n",
      "Trainable params: 3,865\n",
      "Non-trainable params: 0\n",
      "_________________________________________________________________\n",
      "Train on 46 samples, validate on 6 samples\n"
     ]
    },
    {
     "name": "stderr",
     "output_type": "stream",
     "text": [
      "W0731 23:07:05.806674 18144 deprecation.py:323] From C:\\Users\\EugeneChu\\Anaconda3\\lib\\site-packages\\tensorflow\\python\\ops\\math_grad.py:1250: add_dispatch_support.<locals>.wrapper (from tensorflow.python.ops.array_ops) is deprecated and will be removed in a future version.\n",
      "Instructions for updating:\n",
      "Use tf.where in 2.0, which has the same broadcast rule as np.where\n"
     ]
    },
    {
     "name": "stdout",
     "output_type": "stream",
     "text": [
      "Epoch 1/20\n",
      "46/46 [==============================] - 2s 46ms/sample - loss: 0.1826 - val_loss: 0.1062\n",
      "Epoch 2/20\n",
      "46/46 [==============================] - 0s 954us/sample - loss: 0.1244 - val_loss: 0.0619\n",
      "Epoch 3/20\n",
      "46/46 [==============================] - 0s 867us/sample - loss: 0.0840 - val_loss: 0.0341\n",
      "Epoch 4/20\n",
      "46/46 [==============================] - 0s 1ms/sample - loss: 0.0571 - val_loss: 0.0290\n",
      "Epoch 5/20\n",
      "46/46 [==============================] - 0s 1ms/sample - loss: 0.0461 - val_loss: 0.0322\n",
      "Epoch 6/20\n",
      "46/46 [==============================] - 0s 954us/sample - loss: 0.0449 - val_loss: 0.0405\n",
      "Epoch 7/20\n",
      "46/46 [==============================] - 0s 932us/sample - loss: 0.0435 - val_loss: 0.0330\n",
      "Epoch 8/20\n",
      "46/46 [==============================] - 0s 1ms/sample - loss: 0.0436 - val_loss: 0.0351\n",
      "Epoch 9/20\n",
      "46/46 [==============================] - 0s 889us/sample - loss: 0.0429 - val_loss: 0.0332\n",
      "Epoch 10/20\n",
      "46/46 [==============================] - 0s 976us/sample - loss: 0.0436 - val_loss: 0.0363\n",
      "Epoch 11/20\n",
      "46/46 [==============================] - 0s 911us/sample - loss: 0.0422 - val_loss: 0.0339\n",
      "Epoch 12/20\n",
      "46/46 [==============================] - 0s 997us/sample - loss: 0.0422 - val_loss: 0.0405\n",
      "Epoch 13/20\n",
      "46/46 [==============================] - 0s 932us/sample - loss: 0.0415 - val_loss: 0.0310\n",
      "Epoch 14/20\n",
      "46/46 [==============================] - 0s 976us/sample - loss: 0.0423 - val_loss: 0.0350\n",
      "Epoch 15/20\n",
      "46/46 [==============================] - 0s 1ms/sample - loss: 0.0422 - val_loss: 0.0365\n",
      "Epoch 16/20\n",
      "46/46 [==============================] - 0s 846us/sample - loss: 0.0414 - val_loss: 0.0311\n",
      "Epoch 17/20\n",
      "46/46 [==============================] - 0s 889us/sample - loss: 0.0417 - val_loss: 0.0344\n",
      "Epoch 18/20\n",
      "46/46 [==============================] - 0s 954us/sample - loss: 0.0410 - val_loss: 0.0314\n",
      "Epoch 19/20\n",
      "46/46 [==============================] - 0s 976us/sample - loss: 0.0433 - val_loss: 0.0288\n",
      "Epoch 20/20\n",
      "46/46 [==============================] - 0s 1ms/sample - loss: 0.0408 - val_loss: 0.0305\n"
     ]
    },
    {
     "data": {
      "text/plain": [
       "<tensorflow.python.keras.callbacks.History at 0x1498bfba710>"
      ]
     },
     "execution_count": 31,
     "metadata": {},
     "output_type": "execute_result"
    }
   ],
   "source": [
    "from tensorflow.keras.models import Sequential\n",
    "from tensorflow.keras.layers import Dense, Dropout, LSTM\n",
    "\n",
    "model = Sequential()\n",
    "\n",
    "model.add(LSTM(10, return_sequences=True, input_shape=(X_train.shape[1], 1)))\n",
    "\n",
    "model.add(LSTM(24, return_sequences=False))\n",
    "\n",
    "model.add(Dense(1, activation='linear'))\n",
    "\n",
    "model.compile(loss='mse', optimizer='rmsprop')\n",
    "\n",
    "model.summary()\n",
    "\n",
    "model.fit(X_train, y_train, validation_data=(X_test, y_test), epochs = 20, batch_size = 10)"
   ]
  },
  {
   "cell_type": "code",
   "execution_count": 32,
   "metadata": {},
   "outputs": [
    {
     "data": {
      "text/plain": [
       "(6, 1)"
      ]
     },
     "execution_count": 32,
     "metadata": {},
     "output_type": "execute_result"
    }
   ],
   "source": [
    "predicted_broccoli_price = model.predict(X_test)\n",
    "predicted_broccoli_price.shape"
   ]
  },
  {
   "cell_type": "code",
   "execution_count": 40,
   "metadata": {},
   "outputs": [
    {
     "data": {
      "text/plain": [
       "float"
      ]
     },
     "execution_count": 40,
     "metadata": {},
     "output_type": "execute_result"
    }
   ],
   "source": [
    "broccoli_prediction = X_scaler.inverse_transform(predicted_broccoli_price)\n",
    "broccoli_price = X_scaler.inverse_transform(y_test)\n",
    "broccoli_price_list = broccoli_price.tolist()\n",
    "#print(y_test[:5])\n",
    "type(round(float(broccoli_prediction[5]),2))"
   ]
  },
  {
   "cell_type": "code",
   "execution_count": 433,
   "metadata": {},
   "outputs": [
    {
     "name": "stdout",
     "output_type": "stream",
     "text": [
      "6/6 - 0s - loss: 0.0331\n"
     ]
    },
    {
     "data": {
      "text/plain": [
       "numpy.float64"
      ]
     },
     "execution_count": 433,
     "metadata": {},
     "output_type": "execute_result"
    }
   ],
   "source": [
    "model_loss = model.evaluate(X_test, y_test, verbose=2)\n",
    "#print(f\"Normal Neural Network - Loss: {round(model_loss,4)}\")\n",
    "type(model_loss)"
   ]
  },
  {
   "cell_type": "code",
   "execution_count": 434,
   "metadata": {},
   "outputs": [
    {
     "data": {
      "image/png": "[encoded data removed]",
      "text/plain": [
       "<Figure size 1440x720 with 1 Axes>"
      ]
     },
     "metadata": {},
     "output_type": "display_data"
    }
   ],
   "source": [
    "fig = plt.figure(facecolor='white', figsize=(20, 10))\n",
    "ax = fig.add_subplot(111)\n",
    "ax.plot(broccoli_prediction, label='True')\n",
    "ax.plot(broccoli_price, label='Prediction')\n",
    "ax.legend()\n",
    "plt.show()"
   ]
  },
  {
   "cell_type": "code",
   "execution_count": 422,
   "metadata": {},
   "outputs": [
    {
     "data": {
      "text/html": [
       "<div>\n",
       "<style scoped>\n",
       "    .dataframe tbody tr th:only-of-type {\n",
       "        vertical-align: middle;\n",
       "    }\n",
       "\n",
       "    .dataframe tbody tr th {\n",
       "        vertical-align: top;\n",
       "    }\n",
       "\n",
       "    .dataframe thead th {\n",
       "        text-align: right;\n",
       "    }\n",
       "</style>\n",
       "<table border=\"1\" class=\"dataframe\">\n",
       "  <thead>\n",
       "    <tr style=\"text-align: right;\">\n",
       "      <th></th>\n",
       "      <th>month</th>\n",
       "      <th>Cherries</th>\n",
       "    </tr>\n",
       "  </thead>\n",
       "  <tbody>\n",
       "    <tr>\n",
       "      <th>0</th>\n",
       "      <td>1</td>\n",
       "      <td>305.0</td>\n",
       "    </tr>\n",
       "    <tr>\n",
       "      <th>1</th>\n",
       "      <td>2</td>\n",
       "      <td>75.0</td>\n",
       "    </tr>\n",
       "    <tr>\n",
       "      <th>2</th>\n",
       "      <td>3</td>\n",
       "      <td>0.0</td>\n",
       "    </tr>\n",
       "    <tr>\n",
       "      <th>3</th>\n",
       "      <td>4</td>\n",
       "      <td>6094.0</td>\n",
       "    </tr>\n",
       "    <tr>\n",
       "      <th>4</th>\n",
       "      <td>5</td>\n",
       "      <td>110336.0</td>\n",
       "    </tr>\n",
       "    <tr>\n",
       "      <th>5</th>\n",
       "      <td>6</td>\n",
       "      <td>172970.0</td>\n",
       "    </tr>\n",
       "    <tr>\n",
       "      <th>6</th>\n",
       "      <td>7</td>\n",
       "      <td>130223.0</td>\n",
       "    </tr>\n",
       "    <tr>\n",
       "      <th>7</th>\n",
       "      <td>8</td>\n",
       "      <td>1233.0</td>\n",
       "    </tr>\n",
       "    <tr>\n",
       "      <th>8</th>\n",
       "      <td>9</td>\n",
       "      <td>31.0</td>\n",
       "    </tr>\n",
       "    <tr>\n",
       "      <th>9</th>\n",
       "      <td>10</td>\n",
       "      <td>6.0</td>\n",
       "    </tr>\n",
       "    <tr>\n",
       "      <th>10</th>\n",
       "      <td>11</td>\n",
       "      <td>210.0</td>\n",
       "    </tr>\n",
       "    <tr>\n",
       "      <th>11</th>\n",
       "      <td>12</td>\n",
       "      <td>130.0</td>\n",
       "    </tr>\n",
       "    <tr>\n",
       "      <th>12</th>\n",
       "      <td>13</td>\n",
       "      <td>139.0</td>\n",
       "    </tr>\n",
       "    <tr>\n",
       "      <th>13</th>\n",
       "      <td>14</td>\n",
       "      <td>34.0</td>\n",
       "    </tr>\n",
       "    <tr>\n",
       "      <th>14</th>\n",
       "      <td>15</td>\n",
       "      <td>4.0</td>\n",
       "    </tr>\n",
       "    <tr>\n",
       "      <th>15</th>\n",
       "      <td>16</td>\n",
       "      <td>9372.0</td>\n",
       "    </tr>\n",
       "    <tr>\n",
       "      <th>16</th>\n",
       "      <td>17</td>\n",
       "      <td>98297.0</td>\n",
       "    </tr>\n",
       "    <tr>\n",
       "      <th>17</th>\n",
       "      <td>18</td>\n",
       "      <td>186723.0</td>\n",
       "    </tr>\n",
       "    <tr>\n",
       "      <th>18</th>\n",
       "      <td>19</td>\n",
       "      <td>152737.0</td>\n",
       "    </tr>\n",
       "    <tr>\n",
       "      <th>19</th>\n",
       "      <td>20</td>\n",
       "      <td>4107.0</td>\n",
       "    </tr>\n",
       "    <tr>\n",
       "      <th>20</th>\n",
       "      <td>21</td>\n",
       "      <td>222.0</td>\n",
       "    </tr>\n",
       "    <tr>\n",
       "      <th>21</th>\n",
       "      <td>22</td>\n",
       "      <td>96.0</td>\n",
       "    </tr>\n",
       "    <tr>\n",
       "      <th>22</th>\n",
       "      <td>23</td>\n",
       "      <td>136.0</td>\n",
       "    </tr>\n",
       "    <tr>\n",
       "      <th>23</th>\n",
       "      <td>24</td>\n",
       "      <td>141.0</td>\n",
       "    </tr>\n",
       "    <tr>\n",
       "      <th>24</th>\n",
       "      <td>25</td>\n",
       "      <td>287.0</td>\n",
       "    </tr>\n",
       "    <tr>\n",
       "      <th>25</th>\n",
       "      <td>26</td>\n",
       "      <td>5.0</td>\n",
       "    </tr>\n",
       "    <tr>\n",
       "      <th>26</th>\n",
       "      <td>27</td>\n",
       "      <td>11.0</td>\n",
       "    </tr>\n",
       "    <tr>\n",
       "      <th>27</th>\n",
       "      <td>28</td>\n",
       "      <td>4152.0</td>\n",
       "    </tr>\n",
       "    <tr>\n",
       "      <th>28</th>\n",
       "      <td>29</td>\n",
       "      <td>124960.0</td>\n",
       "    </tr>\n",
       "    <tr>\n",
       "      <th>29</th>\n",
       "      <td>30</td>\n",
       "      <td>158779.0</td>\n",
       "    </tr>\n",
       "    <tr>\n",
       "      <th>30</th>\n",
       "      <td>31</td>\n",
       "      <td>243927.0</td>\n",
       "    </tr>\n",
       "    <tr>\n",
       "      <th>31</th>\n",
       "      <td>32</td>\n",
       "      <td>67760.0</td>\n",
       "    </tr>\n",
       "    <tr>\n",
       "      <th>32</th>\n",
       "      <td>33</td>\n",
       "      <td>388.0</td>\n",
       "    </tr>\n",
       "    <tr>\n",
       "      <th>33</th>\n",
       "      <td>34</td>\n",
       "      <td>176.0</td>\n",
       "    </tr>\n",
       "    <tr>\n",
       "      <th>34</th>\n",
       "      <td>35</td>\n",
       "      <td>84.0</td>\n",
       "    </tr>\n",
       "    <tr>\n",
       "      <th>35</th>\n",
       "      <td>36</td>\n",
       "      <td>1029.0</td>\n",
       "    </tr>\n",
       "    <tr>\n",
       "      <th>36</th>\n",
       "      <td>37</td>\n",
       "      <td>257.0</td>\n",
       "    </tr>\n",
       "    <tr>\n",
       "      <th>37</th>\n",
       "      <td>38</td>\n",
       "      <td>1215.0</td>\n",
       "    </tr>\n",
       "    <tr>\n",
       "      <th>38</th>\n",
       "      <td>39</td>\n",
       "      <td>1732.0</td>\n",
       "    </tr>\n",
       "    <tr>\n",
       "      <th>39</th>\n",
       "      <td>40</td>\n",
       "      <td>534.0</td>\n",
       "    </tr>\n",
       "    <tr>\n",
       "      <th>40</th>\n",
       "      <td>41</td>\n",
       "      <td>64089.0</td>\n",
       "    </tr>\n",
       "    <tr>\n",
       "      <th>41</th>\n",
       "      <td>42</td>\n",
       "      <td>187527.0</td>\n",
       "    </tr>\n",
       "    <tr>\n",
       "      <th>42</th>\n",
       "      <td>43</td>\n",
       "      <td>219795.0</td>\n",
       "    </tr>\n",
       "    <tr>\n",
       "      <th>43</th>\n",
       "      <td>44</td>\n",
       "      <td>21980.0</td>\n",
       "    </tr>\n",
       "    <tr>\n",
       "      <th>44</th>\n",
       "      <td>45</td>\n",
       "      <td>425.0</td>\n",
       "    </tr>\n",
       "    <tr>\n",
       "      <th>45</th>\n",
       "      <td>46</td>\n",
       "      <td>461.0</td>\n",
       "    </tr>\n",
       "    <tr>\n",
       "      <th>46</th>\n",
       "      <td>47</td>\n",
       "      <td>57.0</td>\n",
       "    </tr>\n",
       "    <tr>\n",
       "      <th>47</th>\n",
       "      <td>48</td>\n",
       "      <td>1327.0</td>\n",
       "    </tr>\n",
       "    <tr>\n",
       "      <th>48</th>\n",
       "      <td>49</td>\n",
       "      <td>314.0</td>\n",
       "    </tr>\n",
       "    <tr>\n",
       "      <th>49</th>\n",
       "      <td>50</td>\n",
       "      <td>3.0</td>\n",
       "    </tr>\n",
       "    <tr>\n",
       "      <th>50</th>\n",
       "      <td>51</td>\n",
       "      <td>100.0</td>\n",
       "    </tr>\n",
       "  </tbody>\n",
       "</table>\n",
       "</div>"
      ],
      "text/plain": [
       "    month  Cherries\n",
       "0       1     305.0\n",
       "1       2      75.0\n",
       "2       3       0.0\n",
       "3       4    6094.0\n",
       "4       5  110336.0\n",
       "5       6  172970.0\n",
       "6       7  130223.0\n",
       "7       8    1233.0\n",
       "8       9      31.0\n",
       "9      10       6.0\n",
       "10     11     210.0\n",
       "11     12     130.0\n",
       "12     13     139.0\n",
       "13     14      34.0\n",
       "14     15       4.0\n",
       "15     16    9372.0\n",
       "16     17   98297.0\n",
       "17     18  186723.0\n",
       "18     19  152737.0\n",
       "19     20    4107.0\n",
       "20     21     222.0\n",
       "21     22      96.0\n",
       "22     23     136.0\n",
       "23     24     141.0\n",
       "24     25     287.0\n",
       "25     26       5.0\n",
       "26     27      11.0\n",
       "27     28    4152.0\n",
       "28     29  124960.0\n",
       "29     30  158779.0\n",
       "30     31  243927.0\n",
       "31     32   67760.0\n",
       "32     33     388.0\n",
       "33     34     176.0\n",
       "34     35      84.0\n",
       "35     36    1029.0\n",
       "36     37     257.0\n",
       "37     38    1215.0\n",
       "38     39    1732.0\n",
       "39     40     534.0\n",
       "40     41   64089.0\n",
       "41     42  187527.0\n",
       "42     43  219795.0\n",
       "43     44   21980.0\n",
       "44     45     425.0\n",
       "45     46     461.0\n",
       "46     47      57.0\n",
       "47     48    1327.0\n",
       "48     49     314.0\n",
       "49     50       3.0\n",
       "50     51     100.0"
      ]
     },
     "execution_count": 422,
     "metadata": {},
     "output_type": "execute_result"
    }
   ],
   "source": [
    "apple_overall = export_specific.loc['Cherries', :]\n",
    "apple_specific = apple_overall.reset_index(drop = True)\n",
    "apple_month_list = []\n",
    "result_2019 = apple_specific.iloc[0,3:6]\n",
    "\n",
    "length = len(apple_specific.mktyr) - 1\n",
    "while length > 0:\n",
    "    result_rest = apple_specific.iloc[length,3:15]\n",
    "    for r in range(0, len(result_rest)):\n",
    "        apple_month_list.append(result_rest[r])\n",
    "    length -= 1\n",
    "\n",
    "#2019 first 3 months:\n",
    "for i in range(0, len(result_2019)):\n",
    "    apple_month_list.append(result_2019[i])\n",
    "\n",
    "month = [m for m in range(1, len(apple_month_list) + 1)]\n",
    "apple_export_df = pd.DataFrame({\"month\": month, \"Cherries\": apple_month_list})\n",
    "apple_export_df"
   ]
  },
  {
   "cell_type": "code",
   "execution_count": 424,
   "metadata": {},
   "outputs": [
    {
     "name": "stdout",
     "output_type": "stream",
     "text": [
      "(46, 5, 1) (46, 1)\n"
     ]
    }
   ],
   "source": [
    "training_set = apple_export_df[\"Cherries\"].values.reshape(-1, 1)\n",
    "\n",
    "X_scaler = MinMaxScaler().fit(training_set)\n",
    "training_set_scaled = X_scaler.transform(training_set)\n",
    "\n",
    "X_train = []\n",
    "y_train = []\n",
    "\n",
    "for i in range(5, 51):\n",
    "    X_train.append(training_set_scaled[i-5:i])\n",
    "    y_train.append(training_set_scaled[i])\n",
    "X_train, y_train = np.array(X_train), np.array(y_train)\n",
    "\n",
    "X_train = np.reshape(X_train, (X_train.shape[0], X_train.shape[1], 1))\n",
    "\n",
    "print(X_train.shape, y_train.shape)"
   ]
  },
  {
   "cell_type": "code",
   "execution_count": 425,
   "metadata": {},
   "outputs": [
    {
     "name": "stdout",
     "output_type": "stream",
     "text": [
      "(6, 5, 1)\n"
     ]
    }
   ],
   "source": [
    "X_test = []\n",
    "y_test = []\n",
    "\n",
    "for i in range(5, 11):\n",
    "    X_test.append(training_set_scaled[i-5:i])\n",
    "    y_test.append(training_set_scaled[i])\n",
    "X_test, y_test = np.array(X_test), np.array(y_test)\n",
    "\n",
    "X_test = np.reshape(X_test, (X_test.shape[0], X_test.shape[1], 1))\n",
    "print(X_test.shape)"
   ]
  },
  {
   "cell_type": "code",
   "execution_count": 426,
   "metadata": {},
   "outputs": [
    {
     "name": "stdout",
     "output_type": "stream",
     "text": [
      "Model: \"sequential_43\"\n",
      "_________________________________________________________________\n",
      "Layer (type)                 Output Shape              Param #   \n",
      "=================================================================\n",
      "lstm_116 (LSTM)              (None, 5, 10)             480       \n",
      "_________________________________________________________________\n",
      "lstm_117 (LSTM)              (None, 24)                3360      \n",
      "_________________________________________________________________\n",
      "dense_42 (Dense)             (None, 1)                 25        \n",
      "=================================================================\n",
      "Total params: 3,865\n",
      "Trainable params: 3,865\n",
      "Non-trainable params: 0\n",
      "_________________________________________________________________\n",
      "Train on 46 samples, validate on 6 samples\n",
      "Epoch 1/20\n",
      "46/46 [==============================] - 31s 676ms/sample - loss: 0.1096 - val_loss: 0.1168\n",
      "Epoch 2/20\n",
      "46/46 [==============================] - 0s 3ms/sample - loss: 0.0997 - val_loss: 0.1093\n",
      "Epoch 3/20\n",
      "46/46 [==============================] - 0s 5ms/sample - loss: 0.0938 - val_loss: 0.1025\n",
      "Epoch 4/20\n",
      "46/46 [==============================] - 0s 7ms/sample - loss: 0.0898 - val_loss: 0.0967\n",
      "Epoch 5/20\n",
      "46/46 [==============================] - 0s 8ms/sample - loss: 0.0874 - val_loss: 0.0942\n",
      "Epoch 6/20\n",
      "46/46 [==============================] - 0s 3ms/sample - loss: 0.0862 - val_loss: 0.0907\n",
      "Epoch 7/20\n",
      "46/46 [==============================] - 0s 3ms/sample - loss: 0.0848 - val_loss: 0.0876\n",
      "Epoch 8/20\n",
      "46/46 [==============================] - 0s 3ms/sample - loss: 0.0832 - val_loss: 0.0836\n",
      "Epoch 9/20\n",
      "46/46 [==============================] - 0s 8ms/sample - loss: 0.0819 - val_loss: 0.0801\n",
      "Epoch 10/20\n",
      "46/46 [==============================] - 0s 3ms/sample - loss: 0.0802 - val_loss: 0.0767\n",
      "Epoch 11/20\n",
      "46/46 [==============================] - 0s 4ms/sample - loss: 0.0800 - val_loss: 0.0758\n",
      "Epoch 12/20\n",
      "46/46 [==============================] - 0s 4ms/sample - loss: 0.0798 - val_loss: 0.0752\n",
      "Epoch 13/20\n",
      "46/46 [==============================] - 0s 4ms/sample - loss: 0.0783 - val_loss: 0.0742\n",
      "Epoch 14/20\n",
      "46/46 [==============================] - 0s 4ms/sample - loss: 0.0776 - val_loss: 0.0729\n",
      "Epoch 15/20\n",
      "46/46 [==============================] - 0s 7ms/sample - loss: 0.0775 - val_loss: 0.0712\n",
      "Epoch 16/20\n",
      "46/46 [==============================] - 0s 7ms/sample - loss: 0.0760 - val_loss: 0.0660\n",
      "Epoch 17/20\n",
      "46/46 [==============================] - 0s 4ms/sample - loss: 0.0757 - val_loss: 0.0635\n",
      "Epoch 18/20\n",
      "46/46 [==============================] - 0s 5ms/sample - loss: 0.0761 - val_loss: 0.0640\n",
      "Epoch 19/20\n",
      "46/46 [==============================] - 0s 3ms/sample - loss: 0.0748 - val_loss: 0.0616\n",
      "Epoch 20/20\n",
      "46/46 [==============================] - 0s 5ms/sample - loss: 0.0745 - val_loss: 0.0633\n"
     ]
    },
    {
     "data": {
      "text/plain": [
       "<tensorflow.python.keras.callbacks.History at 0x18dd7e97978>"
      ]
     },
     "execution_count": 426,
     "metadata": {},
     "output_type": "execute_result"
    }
   ],
   "source": [
    "model = Sequential()\n",
    "\n",
    "model.add(LSTM(10, return_sequences=True, input_shape=(X_train.shape[1], 1)))\n",
    "\n",
    "model.add(LSTM(24, return_sequences=False))\n",
    "\n",
    "model.add(Dense(1, activation='linear'))\n",
    "\n",
    "model.compile(loss='mse', optimizer='rmsprop')\n",
    "\n",
    "model.summary()\n",
    "\n",
    "model.fit(X_train, y_train, validation_data=(X_test, y_test), epochs = 20, batch_size = 10)"
   ]
  },
  {
   "cell_type": "code",
   "execution_count": 427,
   "metadata": {},
   "outputs": [
    {
     "name": "stdout",
     "output_type": "stream",
     "text": [
      "[[1.72970e+05]\n",
      " [1.30223e+05]\n",
      " [1.23300e+03]\n",
      " [3.10000e+01]\n",
      " [6.00000e+00]\n",
      " [2.10000e+02]]\n",
      "[[54059.85 ]\n",
      " [49124.38 ]\n",
      " [37287.203]\n",
      " [20722.566]\n",
      " [ 5416.864]\n",
      " [12000.239]]\n"
     ]
    }
   ],
   "source": [
    "predicted_apple_price = model.predict(X_test)\n",
    "apple_prediction = X_scaler.inverse_transform(predicted_apple_price)\n",
    "apple_price = X_scaler.inverse_transform(y_test)\n",
    "print(apple_price[:10])\n",
    "print(apple_prediction[:10])"
   ]
  },
  {
   "cell_type": "code",
   "execution_count": 428,
   "metadata": {},
   "outputs": [
    {
     "data": {
      "image/png": "[encoded data removed]",
      "text/plain": [
       "<Figure size 1440x720 with 1 Axes>"
      ]
     },
     "metadata": {},
     "output_type": "display_data"
    }
   ],
   "source": [
    "fig = plt.figure(facecolor='white', figsize=(20, 10))\n",
    "ax = fig.add_subplot(111)\n",
    "ax.plot(apple_price, label='True')\n",
    "ax.plot(apple_prediction, label='Prediction')\n",
    "ax.legend()\n",
    "plt.show()"
   ]
  },
  {
   "cell_type": "code",
   "execution_count": 104,
   "metadata": {},
   "outputs": [
    {
     "ename": "NameError",
     "evalue": "name 'broc' is not defined",
     "output_type": "error",
     "traceback": [
      "\u001b[1;31m---------------------------------------------------------------------------\u001b[0m",
      "\u001b[1;31mNameError\u001b[0m                                 Traceback (most recent call last)",
      "\u001b[1;32m<ipython-input-104-8feda47f5777>\u001b[0m in \u001b[0;36m<module>\u001b[1;34m\u001b[0m\n\u001b[0;32m      1\u001b[0m \u001b[0monn\u001b[0m \u001b[1;33m=\u001b[0m \u001b[0mren_onn_2015\u001b[0m\u001b[1;33m.\u001b[0m\u001b[0mjoin\u001b[0m\u001b[1;33m(\u001b[0m\u001b[1;33m[\u001b[0m\u001b[0mren_onn_2016\u001b[0m\u001b[1;33m,\u001b[0m \u001b[0mren_onn_2017\u001b[0m\u001b[1;33m,\u001b[0m \u001b[0mren_onn_2018\u001b[0m\u001b[1;33m]\u001b[0m\u001b[1;33m,\u001b[0m \u001b[0mhow\u001b[0m\u001b[1;33m=\u001b[0m\u001b[1;34m'outer'\u001b[0m\u001b[1;33m)\u001b[0m\u001b[1;33m\u001b[0m\u001b[1;33m\u001b[0m\u001b[0m\n\u001b[1;32m----> 2\u001b[1;33m \u001b[0mtrans_onn\u001b[0m \u001b[1;33m=\u001b[0m \u001b[0mbroc\u001b[0m\u001b[1;33m.\u001b[0m\u001b[0mT\u001b[0m\u001b[1;33m\u001b[0m\u001b[1;33m\u001b[0m\u001b[0m\n\u001b[0m\u001b[0;32m      3\u001b[0m \u001b[0monn_final\u001b[0m \u001b[1;33m=\u001b[0m \u001b[0mtrans_onn\u001b[0m\u001b[1;33m.\u001b[0m\u001b[0mreset_index\u001b[0m\u001b[1;33m(\u001b[0m\u001b[1;33m)\u001b[0m\u001b[1;33m\u001b[0m\u001b[1;33m\u001b[0m\u001b[0m\n\u001b[0;32m      4\u001b[0m \u001b[0monn_data\u001b[0m \u001b[1;33m=\u001b[0m \u001b[0monn_final\u001b[0m\u001b[1;33m.\u001b[0m\u001b[0mrename\u001b[0m\u001b[1;33m(\u001b[0m\u001b[0mcolumns\u001b[0m\u001b[1;33m=\u001b[0m\u001b[1;33m{\u001b[0m\u001b[1;34m\"index\"\u001b[0m\u001b[1;33m:\u001b[0m \u001b[1;34m\"month\"\u001b[0m\u001b[1;33m,\u001b[0m \u001b[1;36m0\u001b[0m\u001b[1;33m:\u001b[0m \u001b[1;34m\"value\"\u001b[0m\u001b[1;33m}\u001b[0m\u001b[1;33m)\u001b[0m\u001b[1;33m\u001b[0m\u001b[1;33m\u001b[0m\u001b[0m\n\u001b[0;32m      5\u001b[0m \u001b[0monn_data\u001b[0m\u001b[1;33m[\u001b[0m\u001b[1;34m'mo'\u001b[0m\u001b[1;33m]\u001b[0m \u001b[1;33m=\u001b[0m \u001b[0monn_data\u001b[0m\u001b[1;33m.\u001b[0m\u001b[0mindex\u001b[0m\u001b[1;33m\u001b[0m\u001b[1;33m\u001b[0m\u001b[0m\n",
      "\u001b[1;31mNameError\u001b[0m: name 'broc' is not defined"
     ]
    }
   ],
   "source": []
  },
  {
   "cell_type": "code",
   "execution_count": 51,
   "metadata": {},
   "outputs": [],
   "source": [
    "\n",
    "# #creating dataframe\n",
    "# onn_dt = onn_data.sort_index(ascending=True, axis=0)\n",
    "\n",
    "# new_onn_dt = pd.DataFrame(index=range(0,len(onn_dt)),columns=['mo', 'value'])\n",
    "# for i in range(0,len(onn_dt)):\n",
    "#     new_onn_dt['mo'][i] = new_onn_dt['mo'][i]\n",
    "#     new_onn_dt['value'][i] = new_onn_dt['value'][i]\n",
    "\n",
    "#     #setting index\n",
    "# new_onn_dt.index = new_onn_dt.mo\n",
    "# new_onn_dt.drop('mo', axis=1, inplace=True)\n",
    "# new_onn_dt\n",
    "onn_fin=onn_data[[\"mo\", \"value\"]]"
   ]
  },
  {
   "cell_type": "code",
   "execution_count": 52,
   "metadata": {},
   "outputs": [
    {
     "name": "stderr",
     "output_type": "stream",
     "text": [
      "/anaconda3/lib/python3.7/site-packages/pandas/core/frame.py:3940: SettingWithCopyWarning: \n",
      "A value is trying to be set on a copy of a slice from a DataFrame\n",
      "\n",
      "See the caveats in the documentation: http://pandas.pydata.org/pandas-docs/stable/indexing.html#indexing-view-versus-copy\n",
      "  errors=errors)\n"
     ]
    },
    {
     "data": {
      "text/html": [
       "<div>\n",
       "<style scoped>\n",
       "    .dataframe tbody tr th:only-of-type {\n",
       "        vertical-align: middle;\n",
       "    }\n",
       "\n",
       "    .dataframe tbody tr th {\n",
       "        vertical-align: top;\n",
       "    }\n",
       "\n",
       "    .dataframe thead th {\n",
       "        text-align: right;\n",
       "    }\n",
       "</style>\n",
       "<table border=\"1\" class=\"dataframe\">\n",
       "  <thead>\n",
       "    <tr style=\"text-align: right;\">\n",
       "      <th></th>\n",
       "      <th>value</th>\n",
       "    </tr>\n",
       "    <tr>\n",
       "      <th>mo</th>\n",
       "      <th></th>\n",
       "    </tr>\n",
       "  </thead>\n",
       "  <tbody>\n",
       "    <tr>\n",
       "      <th>0</th>\n",
       "      <td>10521</td>\n",
       "    </tr>\n",
       "    <tr>\n",
       "      <th>1</th>\n",
       "      <td>9769</td>\n",
       "    </tr>\n",
       "    <tr>\n",
       "      <th>2</th>\n",
       "      <td>10227</td>\n",
       "    </tr>\n",
       "    <tr>\n",
       "      <th>3</th>\n",
       "      <td>13467</td>\n",
       "    </tr>\n",
       "    <tr>\n",
       "      <th>4</th>\n",
       "      <td>13274</td>\n",
       "    </tr>\n",
       "  </tbody>\n",
       "</table>\n",
       "</div>"
      ],
      "text/plain": [
       "    value\n",
       "mo       \n",
       "0   10521\n",
       "1    9769\n",
       "2   10227\n",
       "3   13467\n",
       "4   13274"
      ]
     },
     "execution_count": 52,
     "metadata": {},
     "output_type": "execute_result"
    }
   ],
   "source": [
    "onn_fin.index = onn_fin.mo\n",
    "onn_fin.drop('mo', axis=1, inplace=True)\n",
    "onn_fin.head()\n"
   ]
  },
  {
   "cell_type": "code",
   "execution_count": 53,
   "metadata": {},
   "outputs": [],
   "source": [
    "value = onn_fin[\"value\"].values\n",
    "seq_len = 10\n",
    "sequence_length = seq_len + 1\n",
    "\n",
    "result = []\n",
    "for index in range(len(value) - sequence_length):\n",
    "    result.append(value[index: index + sequence_length])"
   ]
  },
  {
   "cell_type": "code",
   "execution_count": 54,
   "metadata": {},
   "outputs": [
    {
     "data": {
      "text/plain": [
       "((33, 10, 1), (4, 10, 1))"
      ]
     },
     "execution_count": 54,
     "metadata": {},
     "output_type": "execute_result"
    }
   ],
   "source": [
    "normalized_data = []\n",
    "for window in result:\n",
    "    normalized_window = [((float(p) / float(window[0])) - 1) for p in window]\n",
    "    normalized_data.append(normalized_window)\n",
    "\n",
    "result = np.array(normalized_data)\n",
    "\n",
    "# split train and test data\n",
    "row = int(round(result.shape[0] * 0.9))\n",
    "train = result[:row, :]\n",
    "np.random.shuffle(train)\n",
    "\n",
    "x_train = train[:, :-1]\n",
    "x_train = np.reshape(x_train, (x_train.shape[0], x_train.shape[1], 1))\n",
    "y_train = train[:, -1]\n",
    "\n",
    "x_test = result[row:, :-1]\n",
    "x_test = np.reshape(x_test, (x_test.shape[0], x_test.shape[1], 1))\n",
    "y_test = result[row:, -1]\n",
    "\n",
    "x_train.shape, x_test.shape"
   ]
  },
  {
   "cell_type": "code",
   "execution_count": 55,
   "metadata": {},
   "outputs": [
    {
     "name": "stdout",
     "output_type": "stream",
     "text": [
      "_________________________________________________________________\n",
      "Layer (type)                 Output Shape              Param #   \n",
      "=================================================================\n",
      "lstm_5 (LSTM)                (None, 10, 10)            480       \n",
      "_________________________________________________________________\n",
      "lstm_6 (LSTM)                (None, 24)                3360      \n",
      "_________________________________________________________________\n",
      "dense_3 (Dense)              (None, 1)                 25        \n",
      "=================================================================\n",
      "Total params: 3,865\n",
      "Trainable params: 3,865\n",
      "Non-trainable params: 0\n",
      "_________________________________________________________________\n"
     ]
    }
   ],
   "source": [
    "model = Sequential()\n",
    "\n",
    "model.add(LSTM(10, return_sequences=True, input_shape=(10, 1)))\n",
    "\n",
    "model.add(LSTM(24, return_sequences=False))\n",
    "\n",
    "model.add(Dense(1, activation='linear'))\n",
    "\n",
    "model.compile(loss='mse', optimizer='rmsprop')\n",
    "\n",
    "model.summary()"
   ]
  },
  {
   "cell_type": "code",
   "execution_count": 56,
   "metadata": {},
   "outputs": [
    {
     "name": "stdout",
     "output_type": "stream",
     "text": [
      "Train on 33 samples, validate on 4 samples\n",
      "Epoch 1/20\n",
      "33/33 [==============================] - 2s 64ms/step - loss: 0.0548 - val_loss: 0.0087\n",
      "Epoch 2/20\n",
      "33/33 [==============================] - 0s 3ms/step - loss: 0.0502 - val_loss: 0.0045\n",
      "Epoch 3/20\n",
      "33/33 [==============================] - 0s 3ms/step - loss: 0.0478 - val_loss: 0.0023\n",
      "Epoch 4/20\n",
      "33/33 [==============================] - 0s 3ms/step - loss: 0.0459 - val_loss: 0.0042\n",
      "Epoch 5/20\n",
      "33/33 [==============================] - 0s 3ms/step - loss: 0.0433 - val_loss: 0.0097\n",
      "Epoch 6/20\n",
      "33/33 [==============================] - 0s 3ms/step - loss: 0.0411 - val_loss: 0.0064\n",
      "Epoch 7/20\n",
      "33/33 [==============================] - 0s 3ms/step - loss: 0.0407 - val_loss: 0.0103\n",
      "Epoch 8/20\n",
      "33/33 [==============================] - 0s 3ms/step - loss: 0.0401 - val_loss: 0.0173\n",
      "Epoch 9/20\n",
      "33/33 [==============================] - 0s 3ms/step - loss: 0.0397 - val_loss: 0.0215\n",
      "Epoch 10/20\n",
      "33/33 [==============================] - 0s 3ms/step - loss: 0.0399 - val_loss: 0.0216\n",
      "Epoch 11/20\n",
      "33/33 [==============================] - 0s 2ms/step - loss: 0.0401 - val_loss: 0.0217\n",
      "Epoch 12/20\n",
      "33/33 [==============================] - 0s 3ms/step - loss: 0.0403 - val_loss: 0.0196\n",
      "Epoch 13/20\n",
      "33/33 [==============================] - 0s 3ms/step - loss: 0.0400 - val_loss: 0.0218\n",
      "Epoch 14/20\n",
      "33/33 [==============================] - 0s 3ms/step - loss: 0.0399 - val_loss: 0.0182\n",
      "Epoch 15/20\n",
      "33/33 [==============================] - 0s 3ms/step - loss: 0.0393 - val_loss: 0.0194\n",
      "Epoch 16/20\n",
      "33/33 [==============================] - 0s 3ms/step - loss: 0.0394 - val_loss: 0.0217\n",
      "Epoch 17/20\n",
      "33/33 [==============================] - 0s 3ms/step - loss: 0.0393 - val_loss: 0.0235\n",
      "Epoch 18/20\n",
      "33/33 [==============================] - 0s 3ms/step - loss: 0.0397 - val_loss: 0.0178\n",
      "Epoch 19/20\n",
      "33/33 [==============================] - 0s 2ms/step - loss: 0.0399 - val_loss: 0.0179\n",
      "Epoch 20/20\n",
      "33/33 [==============================] - 0s 3ms/step - loss: 0.0391 - val_loss: 0.0107\n"
     ]
    },
    {
     "data": {
      "text/plain": [
       "<keras.callbacks.History at 0x1a34a88630>"
      ]
     },
     "execution_count": 56,
     "metadata": {},
     "output_type": "execute_result"
    }
   ],
   "source": [
    "model.fit(x_train, y_train,\n",
    "    validation_data=(x_test, y_test),\n",
    "    batch_size=10,\n",
    "    epochs=20)"
   ]
  },
  {
   "cell_type": "code",
   "execution_count": 57,
   "metadata": {},
   "outputs": [
    {
     "data": {
      "image/png": "[encoded data removed]",
      "text/plain": [
       "<Figure size 1440x720 with 1 Axes>"
      ]
     },
     "metadata": {},
     "output_type": "display_data"
    }
   ],
   "source": [
    "pred = model.predict(x_test)\n",
    "\n",
    "fig = plt.figure(facecolor='white', figsize=(20, 10))\n",
    "ax = fig.add_subplot(111)\n",
    "ax.plot(y_test, label='True')\n",
    "ax.plot(pred, label='Prediction')\n",
    "ax.legend()\n",
    "plt.show()"
   ]
  },
  {
   "cell_type": "code",
   "execution_count": 58,
   "metadata": {},
   "outputs": [],
   "source": [
    "pepper_2015 = export_all[(export_all['mktyr'] == 2015.0) & (export_all['product']=='Pepper')]\n",
    "pepp_2015 = export_all[(export_all['mktyr'] == 2015.0) & (export_all['product']=='Pepper')].reset_index()\n",
    "pepp_2015_new = pepp_2015[['jan','feb', 'mar','apr','may','jun','jul','aug','sep','oct', 'nov', 'dec']]\n",
    "ren_pepp_2015 = pepp_2015_new.rename(columns={\"jan\":\"m1\", \"feb\":\"m2\", \"mar\":\"m3\", \"apr\":\"m4\", \"may\":\"m5\", \"jun\":\"m6\", \"jul\":\"m7\",\"aug\":\"m8\",\"sep\":\"m9\",\"oct\":\"m10\",\"nov\":\"m11\", \"dec\":\"m12\"})\n",
    "pepp_2016 = export_all[(export_all['mktyr'] == 2016.0) & (export_all['product']=='Onion')].reset_index()\n",
    "pepp_2016_new = pepp_2016[['jan','feb', 'mar','apr','may','jun','jul','aug','sep','oct', 'nov', 'dec']]\n",
    "ren_pepp_2016 = pepp_2016_new.rename(columns={\"jan\":\"m13\", \"feb\":\"m14\", \"mar\":\"m15\", \"apr\":\"m16\", \"may\":\"m17\", \"jun\":\"m18\", \"jul\":\"m19\",\"aug\":\"m20\",\"sep\":\"m21\",\"oct\":\"m22\",\"nov\":\"m23\", \"dec\":\"m24\"})\n",
    "pepp_2017 = export_all[(export_all['mktyr'] == 2017.0) & (export_all['product']=='Onion')].reset_index()\n",
    "pepp_2017_new = pepp_2017[['jan','feb', 'mar','apr','may','jun','jul','aug','sep','oct', 'nov', 'dec']]\n",
    "ren_pepp_2017 = pepp_2017_new.rename(columns={\"jan\":\"m25\", \"feb\":\"m26\", \"mar\":\"m27\", \"apr\":\"m28\", \"may\":\"m29\", \"jun\":\"m30\", \"jul\":\"m31\",\"aug\":\"m32\",\"sep\":\"m33\",\"oct\":\"m34\",\"nov\":\"m35\", \"dec\":\"m36\"})\n",
    "pepp_2018 = export_all[(export_all['mktyr'] == 2018.0) & (export_all['product']=='Onion')].reset_index()\n",
    "pepp_2018_new = pepp_2018[['jan','feb', 'mar','apr','may','jun','jul','aug','sep','oct', 'nov', 'dec']]\n",
    "ren_pepp_2018 = pepp_2018_new.rename(columns={\"jan\":\"m37\", \"feb\":\"m38\", \"mar\":\"m39\", \"apr\":\"m40\", \"may\":\"m41\", \"jun\":\"m42\", \"jul\":\"m43\",\"aug\":\"m44\",\"sep\":\"m45\",\"oct\":\"m46\",\"nov\":\"m47\", \"dec\":\"m48\"})\n",
    "pepp = ren_pepp_2015.join([ren_pepp_2016, ren_pepp_2017, ren_pepp_2018], how='outer')\n"
   ]
  },
  {
   "cell_type": "code",
   "execution_count": 59,
   "metadata": {},
   "outputs": [
    {
     "data": {
      "text/html": [
       "<div>\n",
       "<style scoped>\n",
       "    .dataframe tbody tr th:only-of-type {\n",
       "        vertical-align: middle;\n",
       "    }\n",
       "\n",
       "    .dataframe tbody tr th {\n",
       "        vertical-align: top;\n",
       "    }\n",
       "\n",
       "    .dataframe thead th {\n",
       "        text-align: right;\n",
       "    }\n",
       "</style>\n",
       "<table border=\"1\" class=\"dataframe\">\n",
       "  <thead>\n",
       "    <tr style=\"text-align: right;\">\n",
       "      <th></th>\n",
       "      <th>value</th>\n",
       "    </tr>\n",
       "    <tr>\n",
       "      <th>mo</th>\n",
       "      <th></th>\n",
       "    </tr>\n",
       "  </thead>\n",
       "  <tbody>\n",
       "    <tr>\n",
       "      <th>0</th>\n",
       "      <td>6651</td>\n",
       "    </tr>\n",
       "    <tr>\n",
       "      <th>1</th>\n",
       "      <td>5442</td>\n",
       "    </tr>\n",
       "    <tr>\n",
       "      <th>2</th>\n",
       "      <td>7174</td>\n",
       "    </tr>\n",
       "    <tr>\n",
       "      <th>3</th>\n",
       "      <td>8031</td>\n",
       "    </tr>\n",
       "    <tr>\n",
       "      <th>4</th>\n",
       "      <td>10079</td>\n",
       "    </tr>\n",
       "  </tbody>\n",
       "</table>\n",
       "</div>"
      ],
      "text/plain": [
       "    value\n",
       "mo       \n",
       "0    6651\n",
       "1    5442\n",
       "2    7174\n",
       "3    8031\n",
       "4   10079"
      ]
     },
     "execution_count": 59,
     "metadata": {},
     "output_type": "execute_result"
    }
   ],
   "source": [
    "\n",
    "trans_pepp = pepp.T \n",
    "pepp_final = trans_pepp.reset_index()\n",
    "pepp_data = pepp_final.rename(columns={\"index\": \"month\", 0: \"value\"})\n",
    "pepp_data['mo'] = pepp_data.index\n",
    "pepp_fin=pepp_data[[\"mo\", \"value\"]]\n",
    "pepp_fin.index = pepp_fin.mo\n",
    "pepp_fin.drop('mo', axis=1, inplace=True)\n",
    "pepp_fin.head()\n"
   ]
  },
  {
   "cell_type": "code",
   "execution_count": 60,
   "metadata": {},
   "outputs": [],
   "source": [
    "value = pepp_fin[\"value\"].values\n",
    "seq_len = 10\n",
    "sequence_length = seq_len + 1\n",
    "\n",
    "result = []\n",
    "for index in range(len(value) - sequence_length):\n",
    "    result.append(value[index: index + sequence_length])"
   ]
  },
  {
   "cell_type": "code",
   "execution_count": 61,
   "metadata": {},
   "outputs": [
    {
     "data": {
      "text/plain": [
       "((33, 10, 1), (4, 10, 1))"
      ]
     },
     "execution_count": 61,
     "metadata": {},
     "output_type": "execute_result"
    }
   ],
   "source": [
    "normalized_data = []\n",
    "for window in result:\n",
    "    normalized_window = [((float(p) / float(window[0])) - 1) for p in window]\n",
    "    normalized_data.append(normalized_window)\n",
    "\n",
    "result = np.array(normalized_data)\n",
    "\n",
    "# split train and test data\n",
    "row = int(round(result.shape[0] * 0.9))\n",
    "train = result[:row, :]\n",
    "np.random.shuffle(train)\n",
    "\n",
    "x_train = train[:, :-1]\n",
    "x_train = np.reshape(x_train, (x_train.shape[0], x_train.shape[1], 1))\n",
    "y_train = train[:, -1]\n",
    "\n",
    "x_test = result[row:, :-1]\n",
    "x_test = np.reshape(x_test, (x_test.shape[0], x_test.shape[1], 1))\n",
    "y_test = result[row:, -1]\n",
    "\n",
    "x_train.shape, x_test.shape"
   ]
  },
  {
   "cell_type": "code",
   "execution_count": 62,
   "metadata": {},
   "outputs": [
    {
     "name": "stdout",
     "output_type": "stream",
     "text": [
      "_________________________________________________________________\n",
      "Layer (type)                 Output Shape              Param #   \n",
      "=================================================================\n",
      "lstm_7 (LSTM)                (None, 10, 10)            480       \n",
      "_________________________________________________________________\n",
      "lstm_8 (LSTM)                (None, 24)                3360      \n",
      "_________________________________________________________________\n",
      "dense_4 (Dense)              (None, 1)                 25        \n",
      "=================================================================\n",
      "Total params: 3,865\n",
      "Trainable params: 3,865\n",
      "Non-trainable params: 0\n",
      "_________________________________________________________________\n"
     ]
    }
   ],
   "source": [
    "model = Sequential()\n",
    "\n",
    "model.add(LSTM(10, return_sequences=True, input_shape=(10, 1)))\n",
    "\n",
    "model.add(LSTM(24, return_sequences=False))\n",
    "\n",
    "model.add(Dense(1, activation='linear'))\n",
    "\n",
    "model.compile(loss='mse', optimizer='rmsprop')\n",
    "\n",
    "model.summary()"
   ]
  },
  {
   "cell_type": "code",
   "execution_count": 63,
   "metadata": {},
   "outputs": [
    {
     "name": "stdout",
     "output_type": "stream",
     "text": [
      "Train on 33 samples, validate on 4 samples\n",
      "Epoch 1/20\n",
      "33/33 [==============================] - 2s 72ms/step - loss: 2.7168 - val_loss: 0.1284\n",
      "Epoch 2/20\n",
      "33/33 [==============================] - 0s 3ms/step - loss: 2.5443 - val_loss: 0.1080\n",
      "Epoch 3/20\n",
      "33/33 [==============================] - 0s 4ms/step - loss: 2.4076 - val_loss: 0.0951\n",
      "Epoch 4/20\n",
      "33/33 [==============================] - 0s 3ms/step - loss: 2.2681 - val_loss: 0.0805\n",
      "Epoch 5/20\n",
      "33/33 [==============================] - 0s 4ms/step - loss: 2.1349 - val_loss: 0.0632\n",
      "Epoch 6/20\n",
      "33/33 [==============================] - 0s 3ms/step - loss: 1.9449 - val_loss: 0.0577\n",
      "Epoch 7/20\n",
      "33/33 [==============================] - 0s 4ms/step - loss: 1.8852 - val_loss: 0.0532\n",
      "Epoch 8/20\n",
      "33/33 [==============================] - 0s 3ms/step - loss: 1.7748 - val_loss: 0.0491\n",
      "Epoch 9/20\n",
      "33/33 [==============================] - 0s 3ms/step - loss: 1.7079 - val_loss: 0.0466\n",
      "Epoch 10/20\n",
      "33/33 [==============================] - 0s 3ms/step - loss: 1.6037 - val_loss: 0.0369\n",
      "Epoch 11/20\n",
      "33/33 [==============================] - 0s 4ms/step - loss: 1.4601 - val_loss: 0.0313\n",
      "Epoch 12/20\n",
      "33/33 [==============================] - 0s 3ms/step - loss: 1.3468 - val_loss: 0.0344\n",
      "Epoch 13/20\n",
      "33/33 [==============================] - 0s 3ms/step - loss: 1.3253 - val_loss: 0.0379\n",
      "Epoch 14/20\n",
      "33/33 [==============================] - 0s 3ms/step - loss: 1.2779 - val_loss: 0.0379\n",
      "Epoch 15/20\n",
      "33/33 [==============================] - 0s 3ms/step - loss: 1.1996 - val_loss: 0.0460\n",
      "Epoch 16/20\n",
      "33/33 [==============================] - 0s 3ms/step - loss: 1.1406 - val_loss: 0.0510\n",
      "Epoch 17/20\n",
      "33/33 [==============================] - 0s 3ms/step - loss: 1.0783 - val_loss: 0.0637\n",
      "Epoch 18/20\n",
      "33/33 [==============================] - 0s 3ms/step - loss: 1.0687 - val_loss: 0.0686\n",
      "Epoch 19/20\n",
      "33/33 [==============================] - 0s 3ms/step - loss: 0.9645 - val_loss: 0.0775\n",
      "Epoch 20/20\n",
      "33/33 [==============================] - 0s 3ms/step - loss: 0.8956 - val_loss: 0.0897\n"
     ]
    },
    {
     "data": {
      "text/plain": [
       "<keras.callbacks.History at 0x10f009908>"
      ]
     },
     "execution_count": 63,
     "metadata": {},
     "output_type": "execute_result"
    }
   ],
   "source": [
    "model.fit(x_train, y_train,\n",
    "    validation_data=(x_test, y_test),\n",
    "    batch_size=10,\n",
    "    epochs=20)"
   ]
  },
  {
   "cell_type": "code",
   "execution_count": 64,
   "metadata": {},
   "outputs": [
    {
     "data": {
      "image/png": "[encoded data removed]",
      "text/plain": [
       "<Figure size 1440x720 with 1 Axes>"
      ]
     },
     "metadata": {},
     "output_type": "display_data"
    }
   ],
   "source": [
    "pred = model.predict(x_test)\n",
    "\n",
    "fig = plt.figure(facecolor='white', figsize=(20, 10))\n",
    "ax = fig.add_subplot(111)\n",
    "ax.plot(y_test, label='True')\n",
    "ax.plot(pred, label='Prediction')\n",
    "ax.legend()\n",
    "plt.show()"
   ]
  },
  {
   "cell_type": "code",
   "execution_count": 65,
   "metadata": {},
   "outputs": [],
   "source": [
    "potato_2015 = export_all[(export_all['mktyr'] == 2015.0) & (export_all['product']=='Potato')]\n",
    "pot_2015 = export_all[(export_all['mktyr'] == 2015.0) & (export_all['product']=='Potato')].reset_index()\n",
    "pot_2015_new = pot_2015[['jan','feb', 'mar','apr','may','jun','jul','aug','sep','oct', 'nov', 'dec']]\n",
    "ren_pot_2015 = pot_2015_new.rename(columns={\"jan\":\"m1\", \"feb\":\"m2\", \"mar\":\"m3\", \"apr\":\"m4\", \"may\":\"m5\", \"jun\":\"m6\", \"jul\":\"m7\",\"aug\":\"m8\",\"sep\":\"m9\",\"oct\":\"m10\",\"nov\":\"m11\", \"dec\":\"m12\"})\n",
    "pot_2016 = export_all[(export_all['mktyr'] == 2016.0) & (export_all['product']=='Onion')].reset_index()\n",
    "pot_2016_new = pot_2016[['jan','feb', 'mar','apr','may','jun','jul','aug','sep','oct', 'nov', 'dec']]\n",
    "ren_pot_2016 = pot_2016_new.rename(columns={\"jan\":\"m13\", \"feb\":\"m14\", \"mar\":\"m15\", \"apr\":\"m16\", \"may\":\"m17\", \"jun\":\"m18\", \"jul\":\"m19\",\"aug\":\"m20\",\"sep\":\"m21\",\"oct\":\"m22\",\"nov\":\"m23\", \"dec\":\"m24\"})\n",
    "pot_2017 = export_all[(export_all['mktyr'] == 2017.0) & (export_all['product']=='Onion')].reset_index()\n",
    "pot_2017_new = pot_2017[['jan','feb', 'mar','apr','may','jun','jul','aug','sep','oct', 'nov', 'dec']]\n",
    "ren_pot_2017 = pot_2017_new.rename(columns={\"jan\":\"m25\", \"feb\":\"m26\", \"mar\":\"m27\", \"apr\":\"m28\", \"may\":\"m29\", \"jun\":\"m30\", \"jul\":\"m31\",\"aug\":\"m32\",\"sep\":\"m33\",\"oct\":\"m34\",\"nov\":\"m35\", \"dec\":\"m36\"})\n",
    "pot_2018 = export_all[(export_all['mktyr'] == 2018.0) & (export_all['product']=='Onion')].reset_index()\n",
    "pot_2018_new = pot_2018[['jan','feb', 'mar','apr','may','jun','jul','aug','sep','oct', 'nov', 'dec']]\n",
    "ren_pot_2018 = pot_2018_new.rename(columns={\"jan\":\"m37\", \"feb\":\"m38\", \"mar\":\"m39\", \"apr\":\"m40\", \"may\":\"m41\", \"jun\":\"m42\", \"jul\":\"m43\",\"aug\":\"m44\",\"sep\":\"m45\",\"oct\":\"m46\",\"nov\":\"m47\", \"dec\":\"m48\"})\n",
    "pot = ren_pot_2015.join([ren_pot_2016, ren_pot_2017, ren_pot_2018], how='outer')\n"
   ]
  },
  {
   "cell_type": "code",
   "execution_count": 66,
   "metadata": {},
   "outputs": [
    {
     "data": {
      "text/html": [
       "<div>\n",
       "<style scoped>\n",
       "    .dataframe tbody tr th:only-of-type {\n",
       "        vertical-align: middle;\n",
       "    }\n",
       "\n",
       "    .dataframe tbody tr th {\n",
       "        vertical-align: top;\n",
       "    }\n",
       "\n",
       "    .dataframe thead th {\n",
       "        text-align: right;\n",
       "    }\n",
       "</style>\n",
       "<table border=\"1\" class=\"dataframe\">\n",
       "  <thead>\n",
       "    <tr style=\"text-align: right;\">\n",
       "      <th></th>\n",
       "      <th>value</th>\n",
       "    </tr>\n",
       "    <tr>\n",
       "      <th>mo</th>\n",
       "      <th></th>\n",
       "    </tr>\n",
       "  </thead>\n",
       "  <tbody>\n",
       "    <tr>\n",
       "      <th>0</th>\n",
       "      <td>12142</td>\n",
       "    </tr>\n",
       "    <tr>\n",
       "      <th>1</th>\n",
       "      <td>11559</td>\n",
       "    </tr>\n",
       "    <tr>\n",
       "      <th>2</th>\n",
       "      <td>12442</td>\n",
       "    </tr>\n",
       "    <tr>\n",
       "      <th>3</th>\n",
       "      <td>11764</td>\n",
       "    </tr>\n",
       "    <tr>\n",
       "      <th>4</th>\n",
       "      <td>16648</td>\n",
       "    </tr>\n",
       "  </tbody>\n",
       "</table>\n",
       "</div>"
      ],
      "text/plain": [
       "    value\n",
       "mo       \n",
       "0   12142\n",
       "1   11559\n",
       "2   12442\n",
       "3   11764\n",
       "4   16648"
      ]
     },
     "execution_count": 66,
     "metadata": {},
     "output_type": "execute_result"
    }
   ],
   "source": [
    "trans_pot = pot.T \n",
    "pot_final = trans_pot.reset_index()\n",
    "pot_data = pot_final.rename(columns={\"index\": \"month\", 0: \"value\"})\n",
    "pot_data['mo'] = pot_data.index\n",
    "pot_fin=pot_data[[\"mo\", \"value\"]]\n",
    "pot_fin.index = pot_fin.mo\n",
    "pot_fin.drop('mo', axis=1, inplace=True)\n",
    "pot_fin.head()\n"
   ]
  },
  {
   "cell_type": "code",
   "execution_count": 67,
   "metadata": {},
   "outputs": [],
   "source": [
    "value = pot_fin[\"value\"].values\n",
    "seq_len = 10\n",
    "sequence_length = seq_len + 1\n",
    "\n",
    "result = []\n",
    "for index in range(len(value) - sequence_length):\n",
    "    result.append(value[index: index + sequence_length])"
   ]
  },
  {
   "cell_type": "code",
   "execution_count": 68,
   "metadata": {},
   "outputs": [
    {
     "data": {
      "text/plain": [
       "((33, 10, 1), (4, 10, 1))"
      ]
     },
     "execution_count": 68,
     "metadata": {},
     "output_type": "execute_result"
    }
   ],
   "source": [
    "normalized_data = []\n",
    "for window in result:\n",
    "    normalized_window = [((float(p) / float(window[0])) - 1) for p in window]\n",
    "    normalized_data.append(normalized_window)\n",
    "\n",
    "result = np.array(normalized_data)\n",
    "\n",
    "# split train and test data\n",
    "row = int(round(result.shape[0] * 0.9))\n",
    "train = result[:row, :]\n",
    "np.random.shuffle(train)\n",
    "\n",
    "x_train = train[:, :-1]\n",
    "x_train = np.reshape(x_train, (x_train.shape[0], x_train.shape[1], 1))\n",
    "y_train = train[:, -1]\n",
    "\n",
    "x_test = result[row:, :-1]\n",
    "x_test = np.reshape(x_test, (x_test.shape[0], x_test.shape[1], 1))\n",
    "y_test = result[row:, -1]\n",
    "\n",
    "x_train.shape, x_test.shape"
   ]
  },
  {
   "cell_type": "code",
   "execution_count": 69,
   "metadata": {},
   "outputs": [
    {
     "name": "stdout",
     "output_type": "stream",
     "text": [
      "_________________________________________________________________\n",
      "Layer (type)                 Output Shape              Param #   \n",
      "=================================================================\n",
      "lstm_9 (LSTM)                (None, 10, 10)            480       \n",
      "_________________________________________________________________\n",
      "lstm_10 (LSTM)               (None, 24)                3360      \n",
      "_________________________________________________________________\n",
      "dense_5 (Dense)              (None, 1)                 25        \n",
      "=================================================================\n",
      "Total params: 3,865\n",
      "Trainable params: 3,865\n",
      "Non-trainable params: 0\n",
      "_________________________________________________________________\n"
     ]
    }
   ],
   "source": [
    "model = Sequential()\n",
    "\n",
    "model.add(LSTM(10, return_sequences=True, input_shape=(10, 1)))\n",
    "\n",
    "model.add(LSTM(24, return_sequences=False))\n",
    "\n",
    "model.add(Dense(1, activation='linear'))\n",
    "\n",
    "model.compile(loss='mse', optimizer='rmsprop')\n",
    "\n",
    "model.summary()"
   ]
  },
  {
   "cell_type": "code",
   "execution_count": 70,
   "metadata": {},
   "outputs": [
    {
     "name": "stdout",
     "output_type": "stream",
     "text": [
      "Train on 33 samples, validate on 4 samples\n",
      "Epoch 1/20\n",
      "33/33 [==============================] - 3s 76ms/step - loss: 0.1019 - val_loss: 0.1384\n",
      "Epoch 2/20\n",
      "33/33 [==============================] - 0s 3ms/step - loss: 0.0970 - val_loss: 0.1297\n",
      "Epoch 3/20\n",
      "33/33 [==============================] - 0s 3ms/step - loss: 0.0967 - val_loss: 0.1340\n",
      "Epoch 4/20\n",
      "33/33 [==============================] - 0s 3ms/step - loss: 0.0926 - val_loss: 0.1304\n",
      "Epoch 5/20\n",
      "33/33 [==============================] - 0s 3ms/step - loss: 0.0918 - val_loss: 0.1229\n",
      "Epoch 6/20\n",
      "33/33 [==============================] - 0s 3ms/step - loss: 0.0893 - val_loss: 0.1196\n",
      "Epoch 7/20\n",
      "33/33 [==============================] - 0s 3ms/step - loss: 0.0891 - val_loss: 0.1168\n",
      "Epoch 8/20\n",
      "33/33 [==============================] - 0s 2ms/step - loss: 0.0866 - val_loss: 0.1182\n",
      "Epoch 9/20\n",
      "33/33 [==============================] - 0s 3ms/step - loss: 0.0849 - val_loss: 0.1181\n",
      "Epoch 10/20\n",
      "33/33 [==============================] - 0s 3ms/step - loss: 0.0834 - val_loss: 0.1089\n",
      "Epoch 11/20\n",
      "33/33 [==============================] - 0s 3ms/step - loss: 0.0818 - val_loss: 0.1022\n",
      "Epoch 12/20\n",
      "33/33 [==============================] - 0s 3ms/step - loss: 0.0800 - val_loss: 0.1001\n",
      "Epoch 13/20\n",
      "33/33 [==============================] - 0s 2ms/step - loss: 0.0791 - val_loss: 0.1043\n",
      "Epoch 14/20\n",
      "33/33 [==============================] - 0s 3ms/step - loss: 0.0774 - val_loss: 0.1041\n",
      "Epoch 15/20\n",
      "33/33 [==============================] - 0s 3ms/step - loss: 0.0756 - val_loss: 0.0991\n",
      "Epoch 16/20\n",
      "33/33 [==============================] - 0s 3ms/step - loss: 0.0742 - val_loss: 0.0976\n",
      "Epoch 17/20\n",
      "33/33 [==============================] - 0s 2ms/step - loss: 0.0719 - val_loss: 0.0899\n",
      "Epoch 18/20\n",
      "33/33 [==============================] - 0s 3ms/step - loss: 0.0704 - val_loss: 0.0903\n",
      "Epoch 19/20\n",
      "33/33 [==============================] - 0s 3ms/step - loss: 0.0686 - val_loss: 0.0780\n",
      "Epoch 20/20\n",
      "33/33 [==============================] - 0s 3ms/step - loss: 0.0656 - val_loss: 0.0728\n"
     ]
    },
    {
     "data": {
      "text/plain": [
       "<keras.callbacks.History at 0x1a36cb1e48>"
      ]
     },
     "execution_count": 70,
     "metadata": {},
     "output_type": "execute_result"
    }
   ],
   "source": [
    "model.fit(x_train, y_train,\n",
    "    validation_data=(x_test, y_test),\n",
    "    batch_size=10,\n",
    "    epochs=20)"
   ]
  },
  {
   "cell_type": "code",
   "execution_count": 71,
   "metadata": {},
   "outputs": [
    {
     "data": {
      "image/png": "[encoded data removed]",
      "text/plain": [
       "<Figure size 1440x720 with 1 Axes>"
      ]
     },
     "metadata": {},
     "output_type": "display_data"
    }
   ],
   "source": [
    "pred = model.predict(x_test)\n",
    "\n",
    "fig = plt.figure(facecolor='white', figsize=(20, 10))\n",
    "ax = fig.add_subplot(111)\n",
    "ax.plot(y_test, label='True')\n",
    "ax.plot(pred, label='Prediction')\n",
    "ax.legend()\n",
    "plt.show()"
   ]
  },
  {
   "cell_type": "code",
   "execution_count": 72,
   "metadata": {},
   "outputs": [],
   "source": [
    "apple_2015 = export_all[(export_all['mktyr'] == 2015.0) & (export_all['product']=='Apple')]\n",
    "app_2015 = export_all[(export_all['mktyr'] == 2015.0) & (export_all['product']=='Potato')].reset_index()\n",
    "app_2015_new = app_2015[['jan','feb', 'mar','apr','may','jun','jul','aug','sep','oct', 'nov', 'dec']]\n",
    "ren_app_2015 = app_2015_new.rename(columns={\"jan\":\"m1\", \"feb\":\"m2\", \"mar\":\"m3\", \"apr\":\"m4\", \"may\":\"m5\", \"jun\":\"m6\", \"jul\":\"m7\",\"aug\":\"m8\",\"sep\":\"m9\",\"oct\":\"m10\",\"nov\":\"m11\", \"dec\":\"m12\"})\n",
    "app_2016 = export_all[(export_all['mktyr'] == 2016.0) & (export_all['product']=='Onion')].reset_index()\n",
    "app_2016_new = app_2016[['jan','feb', 'mar','apr','may','jun','jul','aug','sep','oct', 'nov', 'dec']]\n",
    "ren_app_2016 = app_2016_new.rename(columns={\"jan\":\"m13\", \"feb\":\"m14\", \"mar\":\"m15\", \"apr\":\"m16\", \"may\":\"m17\", \"jun\":\"m18\", \"jul\":\"m19\",\"aug\":\"m20\",\"sep\":\"m21\",\"oct\":\"m22\",\"nov\":\"m23\", \"dec\":\"m24\"})\n",
    "app_2017 = export_all[(export_all['mktyr'] == 2017.0) & (export_all['product']=='Onion')].reset_index()\n",
    "app_2017_new = app_2017[['jan','feb', 'mar','apr','may','jun','jul','aug','sep','oct', 'nov', 'dec']]\n",
    "ren_app_2017 = app_2017_new.rename(columns={\"jan\":\"m25\", \"feb\":\"m26\", \"mar\":\"m27\", \"apr\":\"m28\", \"may\":\"m29\", \"jun\":\"m30\", \"jul\":\"m31\",\"aug\":\"m32\",\"sep\":\"m33\",\"oct\":\"m34\",\"nov\":\"m35\", \"dec\":\"m36\"})\n",
    "app_2018 = export_all[(export_all['mktyr'] == 2018.0) & (export_all['product']=='Onion')].reset_index()\n",
    "app_2018_new = app_2018[['jan','feb', 'mar','apr','may','jun','jul','aug','sep','oct', 'nov', 'dec']]\n",
    "ren_app_2018 = app_2018_new.rename(columns={\"jan\":\"m37\", \"feb\":\"m38\", \"mar\":\"m39\", \"apr\":\"m40\", \"may\":\"m41\", \"jun\":\"m42\", \"jul\":\"m43\",\"aug\":\"m44\",\"sep\":\"m45\",\"oct\":\"m46\",\"nov\":\"m47\", \"dec\":\"m48\"})\n",
    "app = ren_app_2015.join([ren_app_2016, ren_app_2017, ren_app_2018], how='outer')\n"
   ]
  },
  {
   "cell_type": "code",
   "execution_count": 73,
   "metadata": {},
   "outputs": [
    {
     "data": {
      "text/html": [
       "<div>\n",
       "<style scoped>\n",
       "    .dataframe tbody tr th:only-of-type {\n",
       "        vertical-align: middle;\n",
       "    }\n",
       "\n",
       "    .dataframe tbody tr th {\n",
       "        vertical-align: top;\n",
       "    }\n",
       "\n",
       "    .dataframe thead th {\n",
       "        text-align: right;\n",
       "    }\n",
       "</style>\n",
       "<table border=\"1\" class=\"dataframe\">\n",
       "  <thead>\n",
       "    <tr style=\"text-align: right;\">\n",
       "      <th></th>\n",
       "      <th>value</th>\n",
       "    </tr>\n",
       "    <tr>\n",
       "      <th>mo</th>\n",
       "      <th></th>\n",
       "    </tr>\n",
       "  </thead>\n",
       "  <tbody>\n",
       "    <tr>\n",
       "      <th>0</th>\n",
       "      <td>12142</td>\n",
       "    </tr>\n",
       "    <tr>\n",
       "      <th>1</th>\n",
       "      <td>11559</td>\n",
       "    </tr>\n",
       "    <tr>\n",
       "      <th>2</th>\n",
       "      <td>12442</td>\n",
       "    </tr>\n",
       "    <tr>\n",
       "      <th>3</th>\n",
       "      <td>11764</td>\n",
       "    </tr>\n",
       "    <tr>\n",
       "      <th>4</th>\n",
       "      <td>16648</td>\n",
       "    </tr>\n",
       "  </tbody>\n",
       "</table>\n",
       "</div>"
      ],
      "text/plain": [
       "    value\n",
       "mo       \n",
       "0   12142\n",
       "1   11559\n",
       "2   12442\n",
       "3   11764\n",
       "4   16648"
      ]
     },
     "execution_count": 73,
     "metadata": {},
     "output_type": "execute_result"
    }
   ],
   "source": [
    "trans_app = app.T \n",
    "app_final = trans_app.reset_index()\n",
    "app_data = app_final.rename(columns={\"index\": \"month\", 0: \"value\"})\n",
    "app_data['mo'] = app_data.index\n",
    "app_fin=app_data[[\"mo\", \"value\"]]\n",
    "app_fin.index = app_fin.mo\n",
    "app_fin.drop('mo', axis=1, inplace=True)\n",
    "app_fin.head()"
   ]
  },
  {
   "cell_type": "code",
   "execution_count": 74,
   "metadata": {},
   "outputs": [],
   "source": [
    "value = app_fin[\"value\"].values\n",
    "seq_len = 10\n",
    "sequence_length = seq_len + 1\n",
    "\n",
    "result = []\n",
    "for index in range(len(value) - sequence_length):\n",
    "    result.append(value[index: index + sequence_length])"
   ]
  },
  {
   "cell_type": "code",
   "execution_count": 75,
   "metadata": {},
   "outputs": [
    {
     "data": {
      "text/plain": [
       "((33, 10, 1), (4, 10, 1))"
      ]
     },
     "execution_count": 75,
     "metadata": {},
     "output_type": "execute_result"
    }
   ],
   "source": [
    "normalized_data = []\n",
    "for window in result:\n",
    "    normalized_window = [((float(p) / float(window[0])) - 1) for p in window]\n",
    "    normalized_data.append(normalized_window)\n",
    "\n",
    "result = np.array(normalized_data)\n",
    "\n",
    "# split train and test data\n",
    "row = int(round(result.shape[0] * 0.9))\n",
    "train = result[:row, :]\n",
    "np.random.shuffle(train)\n",
    "\n",
    "x_train = train[:, :-1]\n",
    "x_train = np.reshape(x_train, (x_train.shape[0], x_train.shape[1], 1))\n",
    "y_train = train[:, -1]\n",
    "\n",
    "x_test = result[row:, :-1]\n",
    "x_test = np.reshape(x_test, (x_test.shape[0], x_test.shape[1], 1))\n",
    "y_test = result[row:, -1]\n",
    "\n",
    "x_train.shape, x_test.shape"
   ]
  },
  {
   "cell_type": "code",
   "execution_count": 76,
   "metadata": {},
   "outputs": [
    {
     "name": "stdout",
     "output_type": "stream",
     "text": [
      "_________________________________________________________________\n",
      "Layer (type)                 Output Shape              Param #   \n",
      "=================================================================\n",
      "lstm_11 (LSTM)               (None, 10, 10)            480       \n",
      "_________________________________________________________________\n",
      "lstm_12 (LSTM)               (None, 24)                3360      \n",
      "_________________________________________________________________\n",
      "dense_6 (Dense)              (None, 1)                 25        \n",
      "=================================================================\n",
      "Total params: 3,865\n",
      "Trainable params: 3,865\n",
      "Non-trainable params: 0\n",
      "_________________________________________________________________\n"
     ]
    }
   ],
   "source": [
    "model = Sequential()\n",
    "\n",
    "model.add(LSTM(10, return_sequences=True, input_shape=(10, 1)))\n",
    "\n",
    "model.add(LSTM(24, return_sequences=False))\n",
    "\n",
    "model.add(Dense(1, activation='linear'))\n",
    "\n",
    "model.compile(loss='mse', optimizer='rmsprop')\n",
    "\n",
    "model.summary()"
   ]
  },
  {
   "cell_type": "code",
   "execution_count": 77,
   "metadata": {},
   "outputs": [
    {
     "name": "stdout",
     "output_type": "stream",
     "text": [
      "Train on 33 samples, validate on 4 samples\n",
      "Epoch 1/20\n",
      "33/33 [==============================] - 3s 90ms/step - loss: 0.1094 - val_loss: 0.1509\n",
      "Epoch 2/20\n",
      "33/33 [==============================] - 0s 3ms/step - loss: 0.1055 - val_loss: 0.1498\n",
      "Epoch 3/20\n",
      "33/33 [==============================] - 0s 4ms/step - loss: 0.1026 - val_loss: 0.1418\n",
      "Epoch 4/20\n",
      "33/33 [==============================] - 0s 3ms/step - loss: 0.0990 - val_loss: 0.1427\n",
      "Epoch 5/20\n",
      "33/33 [==============================] - 0s 3ms/step - loss: 0.0966 - val_loss: 0.1386\n",
      "Epoch 6/20\n",
      "33/33 [==============================] - 0s 3ms/step - loss: 0.0946 - val_loss: 0.1347\n",
      "Epoch 7/20\n",
      "33/33 [==============================] - 0s 3ms/step - loss: 0.0938 - val_loss: 0.1360\n",
      "Epoch 8/20\n",
      "33/33 [==============================] - 0s 3ms/step - loss: 0.0918 - val_loss: 0.1301\n",
      "Epoch 9/20\n",
      "33/33 [==============================] - 0s 3ms/step - loss: 0.0904 - val_loss: 0.1322\n",
      "Epoch 10/20\n",
      "33/33 [==============================] - 0s 3ms/step - loss: 0.0889 - val_loss: 0.1244\n",
      "Epoch 11/20\n",
      "33/33 [==============================] - 0s 3ms/step - loss: 0.0868 - val_loss: 0.1265\n",
      "Epoch 12/20\n",
      "33/33 [==============================] - 0s 3ms/step - loss: 0.0853 - val_loss: 0.1258\n",
      "Epoch 13/20\n",
      "33/33 [==============================] - 0s 3ms/step - loss: 0.0841 - val_loss: 0.1194\n",
      "Epoch 14/20\n",
      "33/33 [==============================] - 0s 3ms/step - loss: 0.0824 - val_loss: 0.1163\n",
      "Epoch 15/20\n",
      "33/33 [==============================] - 0s 3ms/step - loss: 0.0809 - val_loss: 0.1099\n",
      "Epoch 16/20\n",
      "33/33 [==============================] - 0s 3ms/step - loss: 0.0790 - val_loss: 0.1077\n",
      "Epoch 17/20\n",
      "33/33 [==============================] - 0s 3ms/step - loss: 0.0781 - val_loss: 0.1013\n",
      "Epoch 18/20\n",
      "33/33 [==============================] - 0s 3ms/step - loss: 0.0758 - val_loss: 0.0998\n",
      "Epoch 19/20\n",
      "33/33 [==============================] - 0s 3ms/step - loss: 0.0750 - val_loss: 0.0991\n",
      "Epoch 20/20\n",
      "33/33 [==============================] - 0s 3ms/step - loss: 0.0725 - val_loss: 0.0893\n"
     ]
    },
    {
     "data": {
      "text/plain": [
       "<keras.callbacks.History at 0x1a3b36e198>"
      ]
     },
     "execution_count": 77,
     "metadata": {},
     "output_type": "execute_result"
    }
   ],
   "source": [
    "model.fit(x_train, y_train,\n",
    "    validation_data=(x_test, y_test),\n",
    "    batch_size=10,\n",
    "    epochs=20)"
   ]
  },
  {
   "cell_type": "code",
   "execution_count": 78,
   "metadata": {},
   "outputs": [
    {
     "data": {
      "image/png": "[encoded data removed]",
      "text/plain": [
       "<Figure size 1440x720 with 1 Axes>"
      ]
     },
     "metadata": {},
     "output_type": "display_data"
    }
   ],
   "source": [
    "pred = model.predict(x_test)\n",
    "\n",
    "fig = plt.figure(facecolor='white', figsize=(20, 10))\n",
    "ax = fig.add_subplot(111)\n",
    "ax.plot(y_test, label='True')\n",
    "ax.plot(pred, label='Prediction')\n",
    "ax.legend()\n",
    "plt.show()"
   ]
  },
  {
   "cell_type": "code",
   "execution_count": 79,
   "metadata": {},
   "outputs": [],
   "source": [
    "grapes_2015 = export_all[(export_all['mktyr'] == 2015.0) & (export_all['product']=='Grapes')]\n",
    "grp_2015 = export_all[(export_all['mktyr'] == 2015.0) & (export_all['product']=='Potato')].reset_index()\n",
    "grp_2015_new = grp_2015[['jan','feb', 'mar','apr','may','jun','jul','aug','sep','oct', 'nov', 'dec']]\n",
    "ren_grp_2015 = grp_2015_new.rename(columns={\"jan\":\"m1\", \"feb\":\"m2\", \"mar\":\"m3\", \"apr\":\"m4\", \"may\":\"m5\", \"jun\":\"m6\", \"jul\":\"m7\",\"aug\":\"m8\",\"sep\":\"m9\",\"oct\":\"m10\",\"nov\":\"m11\", \"dec\":\"m12\"})\n",
    "grp_2016 = export_all[(export_all['mktyr'] == 2016.0) & (export_all['product']=='Onion')].reset_index()\n",
    "grp_2016_new = grp_2016[['jan','feb', 'mar','apr','may','jun','jul','aug','sep','oct', 'nov', 'dec']]\n",
    "ren_grp_2016 = grp_2016_new.rename(columns={\"jan\":\"m13\", \"feb\":\"m14\", \"mar\":\"m15\", \"apr\":\"m16\", \"may\":\"m17\", \"jun\":\"m18\", \"jul\":\"m19\",\"aug\":\"m20\",\"sep\":\"m21\",\"oct\":\"m22\",\"nov\":\"m23\", \"dec\":\"m24\"})\n",
    "grp_2017 = export_all[(export_all['mktyr'] == 2017.0) & (export_all['product']=='Onion')].reset_index()\n",
    "grp_2017_new = grp_2017[['jan','feb', 'mar','apr','may','jun','jul','aug','sep','oct', 'nov', 'dec']]\n",
    "ren_grp_2017 = grp_2017_new.rename(columns={\"jan\":\"m25\", \"feb\":\"m26\", \"mar\":\"m27\", \"apr\":\"m28\", \"may\":\"m29\", \"jun\":\"m30\", \"jul\":\"m31\",\"aug\":\"m32\",\"sep\":\"m33\",\"oct\":\"m34\",\"nov\":\"m35\", \"dec\":\"m36\"})\n",
    "grp_2018 = export_all[(export_all['mktyr'] == 2018.0) & (export_all['product']=='Onion')].reset_index()\n",
    "grp_2018_new = grp_2018[['jan','feb', 'mar','apr','may','jun','jul','aug','sep','oct', 'nov', 'dec']]\n",
    "ren_grp_2018 = grp_2018_new.rename(columns={\"jan\":\"m37\", \"feb\":\"m38\", \"mar\":\"m39\", \"apr\":\"m40\", \"may\":\"m41\", \"jun\":\"m42\", \"jul\":\"m43\",\"aug\":\"m44\",\"sep\":\"m45\",\"oct\":\"m46\",\"nov\":\"m47\", \"dec\":\"m48\"})\n",
    "grp = ren_grp_2015.join([ren_grp_2016, ren_grp_2017, ren_grp_2018], how='outer')\n"
   ]
  },
  {
   "cell_type": "code",
   "execution_count": 80,
   "metadata": {},
   "outputs": [
    {
     "data": {
      "text/html": [
       "<div>\n",
       "<style scoped>\n",
       "    .dataframe tbody tr th:only-of-type {\n",
       "        vertical-align: middle;\n",
       "    }\n",
       "\n",
       "    .dataframe tbody tr th {\n",
       "        vertical-align: top;\n",
       "    }\n",
       "\n",
       "    .dataframe thead th {\n",
       "        text-align: right;\n",
       "    }\n",
       "</style>\n",
       "<table border=\"1\" class=\"dataframe\">\n",
       "  <thead>\n",
       "    <tr style=\"text-align: right;\">\n",
       "      <th></th>\n",
       "      <th>value</th>\n",
       "    </tr>\n",
       "    <tr>\n",
       "      <th>mo</th>\n",
       "      <th></th>\n",
       "    </tr>\n",
       "  </thead>\n",
       "  <tbody>\n",
       "    <tr>\n",
       "      <th>0</th>\n",
       "      <td>12142</td>\n",
       "    </tr>\n",
       "    <tr>\n",
       "      <th>1</th>\n",
       "      <td>11559</td>\n",
       "    </tr>\n",
       "    <tr>\n",
       "      <th>2</th>\n",
       "      <td>12442</td>\n",
       "    </tr>\n",
       "    <tr>\n",
       "      <th>3</th>\n",
       "      <td>11764</td>\n",
       "    </tr>\n",
       "    <tr>\n",
       "      <th>4</th>\n",
       "      <td>16648</td>\n",
       "    </tr>\n",
       "  </tbody>\n",
       "</table>\n",
       "</div>"
      ],
      "text/plain": [
       "    value\n",
       "mo       \n",
       "0   12142\n",
       "1   11559\n",
       "2   12442\n",
       "3   11764\n",
       "4   16648"
      ]
     },
     "execution_count": 80,
     "metadata": {},
     "output_type": "execute_result"
    }
   ],
   "source": [
    "trans_grp = grp.T \n",
    "grp_final = trans_grp.reset_index()\n",
    "grp_data = grp_final.rename(columns={\"index\": \"month\", 0: \"value\"})\n",
    "grp_data['mo'] = grp_data.index\n",
    "grp_fin=grp_data[[\"mo\", \"value\"]]\n",
    "grp_fin.index = grp_fin.mo\n",
    "grp_fin.drop('mo', axis=1, inplace=True)\n",
    "grp_fin.head()"
   ]
  },
  {
   "cell_type": "code",
   "execution_count": 81,
   "metadata": {},
   "outputs": [],
   "source": [
    "value = grp_fin[\"value\"].values\n",
    "seq_len = 10\n",
    "sequence_length = seq_len + 1\n",
    "\n",
    "result = []\n",
    "for index in range(len(value) - sequence_length):\n",
    "    result.append(value[index: index + sequence_length])"
   ]
  },
  {
   "cell_type": "code",
   "execution_count": 82,
   "metadata": {},
   "outputs": [
    {
     "data": {
      "text/plain": [
       "((33, 10, 1), (4, 10, 1))"
      ]
     },
     "execution_count": 82,
     "metadata": {},
     "output_type": "execute_result"
    }
   ],
   "source": [
    "normalized_data = []\n",
    "for window in result:\n",
    "    normalized_window = [((float(p) / float(window[0])) - 1) for p in window]\n",
    "    normalized_data.append(normalized_window)\n",
    "\n",
    "result = np.array(normalized_data)\n",
    "\n",
    "# split train and test data\n",
    "row = int(round(result.shape[0] * 0.9))\n",
    "train = result[:row, :]\n",
    "np.random.shuffle(train)\n",
    "\n",
    "x_train = train[:, :-1]\n",
    "x_train = np.reshape(x_train, (x_train.shape[0], x_train.shape[1], 1))\n",
    "y_train = train[:, -1]\n",
    "\n",
    "x_test = result[row:, :-1]\n",
    "x_test = np.reshape(x_test, (x_test.shape[0], x_test.shape[1], 1))\n",
    "y_test = result[row:, -1]\n",
    "\n",
    "x_train.shape, x_test.shape"
   ]
  },
  {
   "cell_type": "code",
   "execution_count": 83,
   "metadata": {},
   "outputs": [
    {
     "name": "stdout",
     "output_type": "stream",
     "text": [
      "_________________________________________________________________\n",
      "Layer (type)                 Output Shape              Param #   \n",
      "=================================================================\n",
      "lstm_13 (LSTM)               (None, 10, 10)            480       \n",
      "_________________________________________________________________\n",
      "lstm_14 (LSTM)               (None, 24)                3360      \n",
      "_________________________________________________________________\n",
      "dense_7 (Dense)              (None, 1)                 25        \n",
      "=================================================================\n",
      "Total params: 3,865\n",
      "Trainable params: 3,865\n",
      "Non-trainable params: 0\n",
      "_________________________________________________________________\n"
     ]
    }
   ],
   "source": [
    "model = Sequential()\n",
    "\n",
    "model.add(LSTM(10, return_sequences=True, input_shape=(10, 1)))\n",
    "\n",
    "model.add(LSTM(24, return_sequences=False))\n",
    "\n",
    "model.add(Dense(1, activation='linear'))\n",
    "\n",
    "model.compile(loss='mse', optimizer='rmsprop')\n",
    "\n",
    "model.summary()"
   ]
  },
  {
   "cell_type": "code",
   "execution_count": 84,
   "metadata": {},
   "outputs": [
    {
     "name": "stdout",
     "output_type": "stream",
     "text": [
      "Train on 33 samples, validate on 4 samples\n",
      "Epoch 1/20\n",
      "33/33 [==============================] - 3s 99ms/step - loss: 0.1046 - val_loss: 0.1422\n",
      "Epoch 2/20\n",
      "33/33 [==============================] - 0s 3ms/step - loss: 0.0998 - val_loss: 0.1412\n",
      "Epoch 3/20\n",
      "33/33 [==============================] - 0s 3ms/step - loss: 0.0979 - val_loss: 0.1392\n",
      "Epoch 4/20\n",
      "33/33 [==============================] - 0s 3ms/step - loss: 0.0966 - val_loss: 0.1363\n",
      "Epoch 5/20\n",
      "33/33 [==============================] - 0s 3ms/step - loss: 0.0941 - val_loss: 0.1329\n",
      "Epoch 6/20\n",
      "33/33 [==============================] - 0s 3ms/step - loss: 0.0948 - val_loss: 0.1265\n",
      "Epoch 7/20\n",
      "33/33 [==============================] - 0s 3ms/step - loss: 0.0919 - val_loss: 0.1247\n",
      "Epoch 8/20\n",
      "33/33 [==============================] - 0s 4ms/step - loss: 0.0911 - val_loss: 0.1244\n",
      "Epoch 9/20\n",
      "33/33 [==============================] - 0s 3ms/step - loss: 0.0896 - val_loss: 0.1182\n",
      "Epoch 10/20\n",
      "33/33 [==============================] - 0s 3ms/step - loss: 0.0898 - val_loss: 0.1205\n",
      "Epoch 11/20\n",
      "33/33 [==============================] - 0s 3ms/step - loss: 0.0873 - val_loss: 0.1209\n",
      "Epoch 12/20\n",
      "33/33 [==============================] - 0s 3ms/step - loss: 0.0861 - val_loss: 0.1251\n",
      "Epoch 13/20\n",
      "33/33 [==============================] - 0s 3ms/step - loss: 0.0854 - val_loss: 0.1275\n",
      "Epoch 14/20\n",
      "33/33 [==============================] - 0s 3ms/step - loss: 0.0846 - val_loss: 0.1236\n",
      "Epoch 15/20\n",
      "33/33 [==============================] - 0s 3ms/step - loss: 0.0851 - val_loss: 0.1162\n",
      "Epoch 16/20\n",
      "33/33 [==============================] - 0s 3ms/step - loss: 0.0825 - val_loss: 0.1127\n",
      "Epoch 17/20\n",
      "33/33 [==============================] - 0s 3ms/step - loss: 0.0819 - val_loss: 0.1161\n",
      "Epoch 18/20\n",
      "33/33 [==============================] - 0s 3ms/step - loss: 0.0811 - val_loss: 0.1160\n",
      "Epoch 19/20\n",
      "33/33 [==============================] - 0s 3ms/step - loss: 0.0796 - val_loss: 0.1072\n",
      "Epoch 20/20\n",
      "33/33 [==============================] - 0s 3ms/step - loss: 0.0787 - val_loss: 0.1026\n"
     ]
    },
    {
     "data": {
      "text/plain": [
       "<keras.callbacks.History at 0x1a39a74ef0>"
      ]
     },
     "execution_count": 84,
     "metadata": {},
     "output_type": "execute_result"
    }
   ],
   "source": [
    "model.fit(x_train, y_train,\n",
    "    validation_data=(x_test, y_test),\n",
    "    batch_size=10,\n",
    "    epochs=20)"
   ]
  },
  {
   "cell_type": "code",
   "execution_count": 85,
   "metadata": {},
   "outputs": [
    {
     "data": {
      "image/png": "[encoded data removed]",
      "text/plain": [
       "<Figure size 1440x720 with 1 Axes>"
      ]
     },
     "metadata": {},
     "output_type": "display_data"
    }
   ],
   "source": [
    "pred = model.predict(x_test)\n",
    "\n",
    "fig = plt.figure(facecolor='white', figsize=(20, 10))\n",
    "ax = fig.add_subplot(111)\n",
    "ax.plot(y_test, label='True')\n",
    "ax.plot(pred, label='Prediction')\n",
    "ax.legend()\n",
    "plt.show()"
   ]
  },
  {
   "cell_type": "code",
   "execution_count": 86,
   "metadata": {},
   "outputs": [],
   "source": [
    "orange_2015 = export_all[(export_all['mktyr'] == 2015.0) & (export_all['product']=='Orange')]\n",
    "orn_2015 = export_all[(export_all['mktyr'] == 2015.0) & (export_all['product']=='Potato')].reset_index()\n",
    "orn_2015_new = orn_2015[['jan','feb', 'mar','apr','may','jun','jul','aug','sep','oct', 'nov', 'dec']]\n",
    "ren_orn_2015 = orn_2015_new.rename(columns={\"jan\":\"m1\", \"feb\":\"m2\", \"mar\":\"m3\", \"apr\":\"m4\", \"may\":\"m5\", \"jun\":\"m6\", \"jul\":\"m7\",\"aug\":\"m8\",\"sep\":\"m9\",\"oct\":\"m10\",\"nov\":\"m11\", \"dec\":\"m12\"})\n",
    "orn_2016 = export_all[(export_all['mktyr'] == 2016.0) & (export_all['product']=='Onion')].reset_index()\n",
    "orn_2016_new = orn_2016[['jan','feb', 'mar','apr','may','jun','jul','aug','sep','oct', 'nov', 'dec']]\n",
    "ren_orn_2016 = orn_2016_new.rename(columns={\"jan\":\"m13\", \"feb\":\"m14\", \"mar\":\"m15\", \"apr\":\"m16\", \"may\":\"m17\", \"jun\":\"m18\", \"jul\":\"m19\",\"aug\":\"m20\",\"sep\":\"m21\",\"oct\":\"m22\",\"nov\":\"m23\", \"dec\":\"m24\"})\n",
    "orn_2017 = export_all[(export_all['mktyr'] == 2017.0) & (export_all['product']=='Onion')].reset_index()\n",
    "orn_2017_new = orn_2017[['jan','feb', 'mar','apr','may','jun','jul','aug','sep','oct', 'nov', 'dec']]\n",
    "ren_orn_2017 = orn_2017_new.rename(columns={\"jan\":\"m25\", \"feb\":\"m26\", \"mar\":\"m27\", \"apr\":\"m28\", \"may\":\"m29\", \"jun\":\"m30\", \"jul\":\"m31\",\"aug\":\"m32\",\"sep\":\"m33\",\"oct\":\"m34\",\"nov\":\"m35\", \"dec\":\"m36\"})\n",
    "orn_2018 = export_all[(export_all['mktyr'] == 2018.0) & (export_all['product']=='Onion')].reset_index()\n",
    "orn_2018_new = orn_2018[['jan','feb', 'mar','apr','may','jun','jul','aug','sep','oct', 'nov', 'dec']]\n",
    "ren_orn_2018 = orn_2018_new.rename(columns={\"jan\":\"m37\", \"feb\":\"m38\", \"mar\":\"m39\", \"apr\":\"m40\", \"may\":\"m41\", \"jun\":\"m42\", \"jul\":\"m43\",\"aug\":\"m44\",\"sep\":\"m45\",\"oct\":\"m46\",\"nov\":\"m47\", \"dec\":\"m48\"})\n",
    "orn = ren_orn_2015.join([ren_orn_2016, ren_orn_2017, ren_orn_2018], how='outer')\n"
   ]
  },
  {
   "cell_type": "code",
   "execution_count": 87,
   "metadata": {},
   "outputs": [
    {
     "data": {
      "text/html": [
       "<div>\n",
       "<style scoped>\n",
       "    .dataframe tbody tr th:only-of-type {\n",
       "        vertical-align: middle;\n",
       "    }\n",
       "\n",
       "    .dataframe tbody tr th {\n",
       "        vertical-align: top;\n",
       "    }\n",
       "\n",
       "    .dataframe thead th {\n",
       "        text-align: right;\n",
       "    }\n",
       "</style>\n",
       "<table border=\"1\" class=\"dataframe\">\n",
       "  <thead>\n",
       "    <tr style=\"text-align: right;\">\n",
       "      <th></th>\n",
       "      <th>value</th>\n",
       "    </tr>\n",
       "    <tr>\n",
       "      <th>mo</th>\n",
       "      <th></th>\n",
       "    </tr>\n",
       "  </thead>\n",
       "  <tbody>\n",
       "    <tr>\n",
       "      <th>0</th>\n",
       "      <td>12142</td>\n",
       "    </tr>\n",
       "    <tr>\n",
       "      <th>1</th>\n",
       "      <td>11559</td>\n",
       "    </tr>\n",
       "    <tr>\n",
       "      <th>2</th>\n",
       "      <td>12442</td>\n",
       "    </tr>\n",
       "    <tr>\n",
       "      <th>3</th>\n",
       "      <td>11764</td>\n",
       "    </tr>\n",
       "    <tr>\n",
       "      <th>4</th>\n",
       "      <td>16648</td>\n",
       "    </tr>\n",
       "  </tbody>\n",
       "</table>\n",
       "</div>"
      ],
      "text/plain": [
       "    value\n",
       "mo       \n",
       "0   12142\n",
       "1   11559\n",
       "2   12442\n",
       "3   11764\n",
       "4   16648"
      ]
     },
     "execution_count": 87,
     "metadata": {},
     "output_type": "execute_result"
    }
   ],
   "source": [
    "trans_orn = orn.T \n",
    "orn_final = trans_orn.reset_index()\n",
    "orn_data = orn_final.rename(columns={\"index\": \"month\", 0: \"value\"})\n",
    "orn_data['mo'] = orn_data.index\n",
    "orn_fin=orn_data[[\"mo\", \"value\"]]\n",
    "orn_fin.index = orn_fin.mo\n",
    "orn_fin.drop('mo', axis=1, inplace=True)\n",
    "orn_fin.head()"
   ]
  },
  {
   "cell_type": "code",
   "execution_count": 88,
   "metadata": {},
   "outputs": [],
   "source": [
    "value = orn_fin[\"value\"].values\n",
    "seq_len = 10\n",
    "sequence_length = seq_len + 1\n",
    "\n",
    "result = []\n",
    "for index in range(len(value) - sequence_length):\n",
    "    result.append(value[index: index + sequence_length])"
   ]
  },
  {
   "cell_type": "code",
   "execution_count": 89,
   "metadata": {},
   "outputs": [
    {
     "data": {
      "text/plain": [
       "((33, 10, 1), (4, 10, 1))"
      ]
     },
     "execution_count": 89,
     "metadata": {},
     "output_type": "execute_result"
    }
   ],
   "source": [
    "normalized_data = []\n",
    "for window in result:\n",
    "    normalized_window = [((float(p) / float(window[0])) - 1) for p in window]\n",
    "    normalized_data.append(normalized_window)\n",
    "\n",
    "result = np.array(normalized_data)\n",
    "\n",
    "# split train and test data\n",
    "row = int(round(result.shape[0] * 0.9))\n",
    "train = result[:row, :]\n",
    "np.random.shuffle(train)\n",
    "\n",
    "x_train = train[:, :-1]\n",
    "x_train = np.reshape(x_train, (x_train.shape[0], x_train.shape[1], 1))\n",
    "y_train = train[:, -1]\n",
    "\n",
    "x_test = result[row:, :-1]\n",
    "x_test = np.reshape(x_test, (x_test.shape[0], x_test.shape[1], 1))\n",
    "y_test = result[row:, -1]\n",
    "\n",
    "x_train.shape, x_test.shape"
   ]
  },
  {
   "cell_type": "code",
   "execution_count": 90,
   "metadata": {},
   "outputs": [
    {
     "name": "stdout",
     "output_type": "stream",
     "text": [
      "_________________________________________________________________\n",
      "Layer (type)                 Output Shape              Param #   \n",
      "=================================================================\n",
      "lstm_15 (LSTM)               (None, 10, 10)            480       \n",
      "_________________________________________________________________\n",
      "lstm_16 (LSTM)               (None, 24)                3360      \n",
      "_________________________________________________________________\n",
      "dense_8 (Dense)              (None, 1)                 25        \n",
      "=================================================================\n",
      "Total params: 3,865\n",
      "Trainable params: 3,865\n",
      "Non-trainable params: 0\n",
      "_________________________________________________________________\n"
     ]
    }
   ],
   "source": [
    "model = Sequential()\n",
    "\n",
    "model.add(LSTM(10, return_sequences=True, input_shape=(10, 1)))\n",
    "\n",
    "model.add(LSTM(24, return_sequences=False))\n",
    "\n",
    "model.add(Dense(1, activation='linear'))\n",
    "\n",
    "model.compile(loss='mse', optimizer='rmsprop')\n",
    "\n",
    "model.summary()"
   ]
  },
  {
   "cell_type": "code",
   "execution_count": 91,
   "metadata": {},
   "outputs": [
    {
     "name": "stdout",
     "output_type": "stream",
     "text": [
      "Train on 33 samples, validate on 4 samples\n",
      "Epoch 1/20\n",
      "33/33 [==============================] - 3s 99ms/step - loss: 0.1067 - val_loss: 0.1443\n",
      "Epoch 2/20\n",
      "33/33 [==============================] - 0s 3ms/step - loss: 0.0998 - val_loss: 0.1380\n",
      "Epoch 3/20\n",
      "33/33 [==============================] - 0s 3ms/step - loss: 0.0963 - val_loss: 0.1301\n",
      "Epoch 4/20\n",
      "33/33 [==============================] - 0s 4ms/step - loss: 0.0937 - val_loss: 0.1268\n",
      "Epoch 5/20\n",
      "33/33 [==============================] - 0s 3ms/step - loss: 0.0913 - val_loss: 0.1242\n",
      "Epoch 6/20\n",
      "33/33 [==============================] - 0s 3ms/step - loss: 0.0899 - val_loss: 0.1221\n",
      "Epoch 7/20\n",
      "33/33 [==============================] - 0s 3ms/step - loss: 0.0875 - val_loss: 0.1236\n",
      "Epoch 8/20\n",
      "33/33 [==============================] - 0s 3ms/step - loss: 0.0859 - val_loss: 0.1212\n",
      "Epoch 9/20\n",
      "33/33 [==============================] - 0s 3ms/step - loss: 0.0846 - val_loss: 0.1210\n",
      "Epoch 10/20\n",
      "33/33 [==============================] - 0s 3ms/step - loss: 0.0828 - val_loss: 0.1144\n",
      "Epoch 11/20\n",
      "33/33 [==============================] - 0s 3ms/step - loss: 0.0813 - val_loss: 0.1116\n",
      "Epoch 12/20\n",
      "33/33 [==============================] - 0s 3ms/step - loss: 0.0796 - val_loss: 0.1113\n",
      "Epoch 13/20\n",
      "33/33 [==============================] - 0s 3ms/step - loss: 0.0779 - val_loss: 0.1010\n",
      "Epoch 14/20\n",
      "33/33 [==============================] - 0s 3ms/step - loss: 0.0748 - val_loss: 0.1020\n",
      "Epoch 15/20\n",
      "33/33 [==============================] - 0s 3ms/step - loss: 0.0737 - val_loss: 0.0975\n",
      "Epoch 16/20\n",
      "33/33 [==============================] - 0s 3ms/step - loss: 0.0714 - val_loss: 0.0978\n",
      "Epoch 17/20\n",
      "33/33 [==============================] - 0s 3ms/step - loss: 0.0701 - val_loss: 0.0949\n",
      "Epoch 18/20\n",
      "33/33 [==============================] - 0s 3ms/step - loss: 0.0679 - val_loss: 0.0875\n",
      "Epoch 19/20\n",
      "33/33 [==============================] - 0s 3ms/step - loss: 0.0652 - val_loss: 0.0836\n",
      "Epoch 20/20\n",
      "33/33 [==============================] - 0s 3ms/step - loss: 0.0636 - val_loss: 0.0708\n"
     ]
    },
    {
     "data": {
      "text/plain": [
       "<keras.callbacks.History at 0x1a36c96470>"
      ]
     },
     "execution_count": 91,
     "metadata": {},
     "output_type": "execute_result"
    }
   ],
   "source": [
    "model.fit(x_train, y_train,\n",
    "    validation_data=(x_test, y_test),\n",
    "    batch_size=10,\n",
    "    epochs=20)"
   ]
  },
  {
   "cell_type": "code",
   "execution_count": 92,
   "metadata": {},
   "outputs": [
    {
     "data": {
      "image/png": "[encoded data removed]",
      "text/plain": [
       "<Figure size 1440x720 with 1 Axes>"
      ]
     },
     "metadata": {},
     "output_type": "display_data"
    }
   ],
   "source": [
    "pred = model.predict(x_test)\n",
    "\n",
    "fig = plt.figure(facecolor='white', figsize=(20, 10))\n",
    "ax = fig.add_subplot(111)\n",
    "ax.plot(y_test, label='True')\n",
    "ax.plot(pred, label='Prediction')\n",
    "ax.legend()\n",
    "plt.show()"
   ]
  },
  {
   "cell_type": "code",
   "execution_count": 93,
   "metadata": {},
   "outputs": [],
   "source": [
    "pears_2015 = export_all[(export_all['mktyr'] == 2015.0) & (export_all['product']=='Pears')]\n",
    "pr_2015 = export_all[(export_all['mktyr'] == 2015.0) & (export_all['product']=='Potato')].reset_index()\n",
    "pr_2015_new = pr_2015[['jan','feb', 'mar','apr','may','jun','jul','aug','sep','oct', 'nov', 'dec']]\n",
    "ren_pr_2015 = pr_2015_new.rename(columns={\"jan\":\"m1\", \"feb\":\"m2\", \"mar\":\"m3\", \"apr\":\"m4\", \"may\":\"m5\", \"jun\":\"m6\", \"jul\":\"m7\",\"aug\":\"m8\",\"sep\":\"m9\",\"oct\":\"m10\",\"nov\":\"m11\", \"dec\":\"m12\"})\n",
    "pr_2016 = export_all[(export_all['mktyr'] == 2016.0) & (export_all['product']=='Onion')].reset_index()\n",
    "pr_2016_new = pr_2016[['jan','feb', 'mar','apr','may','jun','jul','aug','sep','oct', 'nov', 'dec']]\n",
    "ren_pr_2016 = pr_2016_new.rename(columns={\"jan\":\"m13\", \"feb\":\"m14\", \"mar\":\"m15\", \"apr\":\"m16\", \"may\":\"m17\", \"jun\":\"m18\", \"jul\":\"m19\",\"aug\":\"m20\",\"sep\":\"m21\",\"oct\":\"m22\",\"nov\":\"m23\", \"dec\":\"m24\"})\n",
    "pr_2017 = export_all[(export_all['mktyr'] == 2017.0) & (export_all['product']=='Onion')].reset_index()\n",
    "pr_2017_new = pr_2017[['jan','feb', 'mar','apr','may','jun','jul','aug','sep','oct', 'nov', 'dec']]\n",
    "ren_pr_2017 = pr_2017_new.rename(columns={\"jan\":\"m25\", \"feb\":\"m26\", \"mar\":\"m27\", \"apr\":\"m28\", \"may\":\"m29\", \"jun\":\"m30\", \"jul\":\"m31\",\"aug\":\"m32\",\"sep\":\"m33\",\"oct\":\"m34\",\"nov\":\"m35\", \"dec\":\"m36\"})\n",
    "pr_2018 = export_all[(export_all['mktyr'] == 2018.0) & (export_all['product']=='Onion')].reset_index()\n",
    "pr_2018_new = pr_2018[['jan','feb', 'mar','apr','may','jun','jul','aug','sep','oct', 'nov', 'dec']]\n",
    "ren_pr_2018 = pr_2018_new.rename(columns={\"jan\":\"m37\", \"feb\":\"m38\", \"mar\":\"m39\", \"apr\":\"m40\", \"may\":\"m41\", \"jun\":\"m42\", \"jul\":\"m43\",\"aug\":\"m44\",\"sep\":\"m45\",\"oct\":\"m46\",\"nov\":\"m47\", \"dec\":\"m48\"})\n",
    "pr = ren_pr_2015.join([ren_pr_2016, ren_pr_2017, ren_pr_2018], how='outer')\n"
   ]
  },
  {
   "cell_type": "code",
   "execution_count": 94,
   "metadata": {},
   "outputs": [
    {
     "data": {
      "text/html": [
       "<div>\n",
       "<style scoped>\n",
       "    .dataframe tbody tr th:only-of-type {\n",
       "        vertical-align: middle;\n",
       "    }\n",
       "\n",
       "    .dataframe tbody tr th {\n",
       "        vertical-align: top;\n",
       "    }\n",
       "\n",
       "    .dataframe thead th {\n",
       "        text-align: right;\n",
       "    }\n",
       "</style>\n",
       "<table border=\"1\" class=\"dataframe\">\n",
       "  <thead>\n",
       "    <tr style=\"text-align: right;\">\n",
       "      <th></th>\n",
       "      <th>value</th>\n",
       "    </tr>\n",
       "    <tr>\n",
       "      <th>mo</th>\n",
       "      <th></th>\n",
       "    </tr>\n",
       "  </thead>\n",
       "  <tbody>\n",
       "    <tr>\n",
       "      <th>0</th>\n",
       "      <td>12142</td>\n",
       "    </tr>\n",
       "    <tr>\n",
       "      <th>1</th>\n",
       "      <td>11559</td>\n",
       "    </tr>\n",
       "    <tr>\n",
       "      <th>2</th>\n",
       "      <td>12442</td>\n",
       "    </tr>\n",
       "    <tr>\n",
       "      <th>3</th>\n",
       "      <td>11764</td>\n",
       "    </tr>\n",
       "    <tr>\n",
       "      <th>4</th>\n",
       "      <td>16648</td>\n",
       "    </tr>\n",
       "  </tbody>\n",
       "</table>\n",
       "</div>"
      ],
      "text/plain": [
       "    value\n",
       "mo       \n",
       "0   12142\n",
       "1   11559\n",
       "2   12442\n",
       "3   11764\n",
       "4   16648"
      ]
     },
     "execution_count": 94,
     "metadata": {},
     "output_type": "execute_result"
    }
   ],
   "source": [
    "trans_pr = pr.T \n",
    "pr_final = trans_pr.reset_index()\n",
    "pr_data = pr_final.rename(columns={\"index\": \"month\", 0: \"value\"})\n",
    "pr_data['mo'] = pr_data.index\n",
    "pr_fin=pr_data[[\"mo\", \"value\"]]\n",
    "pr_fin.index = pr_fin.mo\n",
    "pr_fin.drop('mo', axis=1, inplace=True)\n",
    "pr_fin.head()"
   ]
  },
  {
   "cell_type": "code",
   "execution_count": 95,
   "metadata": {},
   "outputs": [],
   "source": [
    "value = pr_fin[\"value\"].values\n",
    "seq_len = 10\n",
    "sequence_length = seq_len + 1\n",
    "\n",
    "result = []\n",
    "for index in range(len(value) - sequence_length):\n",
    "    result.append(value[index: index + sequence_length])"
   ]
  },
  {
   "cell_type": "code",
   "execution_count": 96,
   "metadata": {},
   "outputs": [
    {
     "data": {
      "text/plain": [
       "((33, 10, 1), (4, 10, 1))"
      ]
     },
     "execution_count": 96,
     "metadata": {},
     "output_type": "execute_result"
    }
   ],
   "source": [
    "normalized_data = []\n",
    "for window in result:\n",
    "    normalized_window = [((float(p) / float(window[0])) - 1) for p in window]\n",
    "    normalized_data.append(normalized_window)\n",
    "\n",
    "result = np.array(normalized_data)\n",
    "\n",
    "# split train and test data\n",
    "row = int(round(result.shape[0] * 0.9))\n",
    "train = result[:row, :]\n",
    "np.random.shuffle(train)\n",
    "\n",
    "x_train = train[:, :-1]\n",
    "x_train = np.reshape(x_train, (x_train.shape[0], x_train.shape[1], 1))\n",
    "y_train = train[:, -1]\n",
    "\n",
    "x_test = result[row:, :-1]\n",
    "x_test = np.reshape(x_test, (x_test.shape[0], x_test.shape[1], 1))\n",
    "y_test = result[row:, -1]\n",
    "\n",
    "x_train.shape, x_test.shape"
   ]
  },
  {
   "cell_type": "code",
   "execution_count": 97,
   "metadata": {},
   "outputs": [
    {
     "name": "stdout",
     "output_type": "stream",
     "text": [
      "_________________________________________________________________\n",
      "Layer (type)                 Output Shape              Param #   \n",
      "=================================================================\n",
      "lstm_17 (LSTM)               (None, 10, 10)            480       \n",
      "_________________________________________________________________\n",
      "lstm_18 (LSTM)               (None, 24)                3360      \n",
      "_________________________________________________________________\n",
      "dense_9 (Dense)              (None, 1)                 25        \n",
      "=================================================================\n",
      "Total params: 3,865\n",
      "Trainable params: 3,865\n",
      "Non-trainable params: 0\n",
      "_________________________________________________________________\n"
     ]
    }
   ],
   "source": [
    "model = Sequential()\n",
    "\n",
    "model.add(LSTM(10, return_sequences=True, input_shape=(10, 1)))\n",
    "\n",
    "model.add(LSTM(24, return_sequences=False))\n",
    "\n",
    "model.add(Dense(1, activation='linear'))\n",
    "\n",
    "model.compile(loss='mse', optimizer='rmsprop')\n",
    "\n",
    "model.summary()"
   ]
  },
  {
   "cell_type": "code",
   "execution_count": 98,
   "metadata": {},
   "outputs": [
    {
     "name": "stdout",
     "output_type": "stream",
     "text": [
      "Train on 33 samples, validate on 4 samples\n",
      "Epoch 1/20\n",
      "33/33 [==============================] - 4s 112ms/step - loss: 0.1124 - val_loss: 0.1498\n",
      "Epoch 2/20\n",
      "33/33 [==============================] - 0s 3ms/step - loss: 0.1021 - val_loss: 0.1471\n",
      "Epoch 3/20\n",
      "33/33 [==============================] - 0s 3ms/step - loss: 0.0981 - val_loss: 0.1394\n",
      "Epoch 4/20\n",
      "33/33 [==============================] - 0s 3ms/step - loss: 0.0969 - val_loss: 0.1330\n",
      "Epoch 5/20\n",
      "33/33 [==============================] - 0s 3ms/step - loss: 0.0934 - val_loss: 0.1290\n",
      "Epoch 6/20\n",
      "33/33 [==============================] - 0s 3ms/step - loss: 0.0924 - val_loss: 0.1302\n",
      "Epoch 7/20\n",
      "33/33 [==============================] - 0s 3ms/step - loss: 0.0908 - val_loss: 0.1312\n",
      "Epoch 8/20\n",
      "33/33 [==============================] - 0s 3ms/step - loss: 0.0884 - val_loss: 0.1238\n",
      "Epoch 9/20\n",
      "33/33 [==============================] - 0s 3ms/step - loss: 0.0864 - val_loss: 0.1206\n",
      "Epoch 10/20\n",
      "33/33 [==============================] - 0s 3ms/step - loss: 0.0865 - val_loss: 0.1212\n",
      "Epoch 11/20\n",
      "33/33 [==============================] - 0s 3ms/step - loss: 0.0840 - val_loss: 0.1169\n",
      "Epoch 12/20\n",
      "33/33 [==============================] - 0s 3ms/step - loss: 0.0820 - val_loss: 0.1129\n",
      "Epoch 13/20\n",
      "33/33 [==============================] - 0s 3ms/step - loss: 0.0809 - val_loss: 0.1047\n",
      "Epoch 14/20\n",
      "33/33 [==============================] - 0s 3ms/step - loss: 0.0790 - val_loss: 0.1077\n",
      "Epoch 15/20\n",
      "33/33 [==============================] - 0s 3ms/step - loss: 0.0776 - val_loss: 0.1096\n",
      "Epoch 16/20\n",
      "33/33 [==============================] - 0s 3ms/step - loss: 0.0753 - val_loss: 0.1013\n",
      "Epoch 17/20\n",
      "33/33 [==============================] - 0s 3ms/step - loss: 0.0735 - val_loss: 0.1025\n",
      "Epoch 18/20\n",
      "33/33 [==============================] - 0s 3ms/step - loss: 0.0721 - val_loss: 0.0933\n",
      "Epoch 19/20\n",
      "33/33 [==============================] - 0s 3ms/step - loss: 0.0703 - val_loss: 0.0833\n",
      "Epoch 20/20\n",
      "33/33 [==============================] - 0s 3ms/step - loss: 0.0675 - val_loss: 0.0842\n"
     ]
    },
    {
     "data": {
      "text/plain": [
       "<keras.callbacks.History at 0x1a3b377978>"
      ]
     },
     "execution_count": 98,
     "metadata": {},
     "output_type": "execute_result"
    }
   ],
   "source": [
    "model.fit(x_train, y_train,\n",
    "    validation_data=(x_test, y_test),\n",
    "    batch_size=10,\n",
    "    epochs=20)"
   ]
  },
  {
   "cell_type": "code",
   "execution_count": 99,
   "metadata": {},
   "outputs": [
    {
     "data": {
      "image/png": "[encoded data removed]",
      "text/plain": [
       "<Figure size 1440x720 with 1 Axes>"
      ]
     },
     "metadata": {},
     "output_type": "display_data"
    }
   ],
   "source": [
    "pred = model.predict(x_test)\n",
    "\n",
    "fig = plt.figure(facecolor='white', figsize=(20, 10))\n",
    "ax = fig.add_subplot(111)\n",
    "ax.plot(y_test, label='True')\n",
    "ax.plot(pred, label='Prediction')\n",
    "ax.legend()\n",
    "plt.show()"
   ]
  },
  {
   "cell_type": "code",
   "execution_count": 100,
   "metadata": {},
   "outputs": [],
   "source": [
    "strawberries_2015 = export_all[(export_all['mktyr'] == 2015.0) & (export_all['product']=='Strawberries')]\n",
    "str_2015 = export_all[(export_all['mktyr'] == 2015.0) & (export_all['product']=='Potato')].reset_index()\n",
    "str_2015_new = str_2015[['jan','feb', 'mar','apr','may','jun','jul','aug','sep','oct', 'nov', 'dec']]\n",
    "ren_str_2015 = str_2015_new.rename(columns={\"jan\":\"m1\", \"feb\":\"m2\", \"mar\":\"m3\", \"apr\":\"m4\", \"may\":\"m5\", \"jun\":\"m6\", \"jul\":\"m7\",\"aug\":\"m8\",\"sep\":\"m9\",\"oct\":\"m10\",\"nov\":\"m11\", \"dec\":\"m12\"})\n",
    "str_2016 = export_all[(export_all['mktyr'] == 2016.0) & (export_all['product']=='Onion')].reset_index()\n",
    "str_2016_new = str_2016[['jan','feb', 'mar','apr','may','jun','jul','aug','sep','oct', 'nov', 'dec']]\n",
    "ren_str_2016 = str_2016_new.rename(columns={\"jan\":\"m13\", \"feb\":\"m14\", \"mar\":\"m15\", \"apr\":\"m16\", \"may\":\"m17\", \"jun\":\"m18\", \"jul\":\"m19\",\"aug\":\"m20\",\"sep\":\"m21\",\"oct\":\"m22\",\"nov\":\"m23\", \"dec\":\"m24\"})\n",
    "str_2017 = export_all[(export_all['mktyr'] == 2017.0) & (export_all['product']=='Onion')].reset_index()\n",
    "str_2017_new = str_2017[['jan','feb', 'mar','apr','may','jun','jul','aug','sep','oct', 'nov', 'dec']]\n",
    "ren_str_2017 = str_2017_new.rename(columns={\"jan\":\"m25\", \"feb\":\"m26\", \"mar\":\"m27\", \"apr\":\"m28\", \"may\":\"m29\", \"jun\":\"m30\", \"jul\":\"m31\",\"aug\":\"m32\",\"sep\":\"m33\",\"oct\":\"m34\",\"nov\":\"m35\", \"dec\":\"m36\"})\n",
    "str_2018 = export_all[(export_all['mktyr'] == 2018.0) & (export_all['product']=='Onion')].reset_index()\n",
    "str_2018_new = str_2018[['jan','feb', 'mar','apr','may','jun','jul','aug','sep','oct', 'nov', 'dec']]\n",
    "ren_str_2018 = str_2018_new.rename(columns={\"jan\":\"m37\", \"feb\":\"m38\", \"mar\":\"m39\", \"apr\":\"m40\", \"may\":\"m41\", \"jun\":\"m42\", \"jul\":\"m43\",\"aug\":\"m44\",\"sep\":\"m45\",\"oct\":\"m46\",\"nov\":\"m47\", \"dec\":\"m48\"})\n",
    "strw = ren_str_2015.join([ren_str_2016, ren_str_2017, ren_str_2018], how='outer')"
   ]
  },
  {
   "cell_type": "code",
   "execution_count": 101,
   "metadata": {},
   "outputs": [
    {
     "data": {
      "text/html": [
       "<div>\n",
       "<style scoped>\n",
       "    .dataframe tbody tr th:only-of-type {\n",
       "        vertical-align: middle;\n",
       "    }\n",
       "\n",
       "    .dataframe tbody tr th {\n",
       "        vertical-align: top;\n",
       "    }\n",
       "\n",
       "    .dataframe thead th {\n",
       "        text-align: right;\n",
       "    }\n",
       "</style>\n",
       "<table border=\"1\" class=\"dataframe\">\n",
       "  <thead>\n",
       "    <tr style=\"text-align: right;\">\n",
       "      <th></th>\n",
       "      <th>value</th>\n",
       "    </tr>\n",
       "    <tr>\n",
       "      <th>mo</th>\n",
       "      <th></th>\n",
       "    </tr>\n",
       "  </thead>\n",
       "  <tbody>\n",
       "    <tr>\n",
       "      <th>0</th>\n",
       "      <td>12142</td>\n",
       "    </tr>\n",
       "    <tr>\n",
       "      <th>1</th>\n",
       "      <td>11559</td>\n",
       "    </tr>\n",
       "    <tr>\n",
       "      <th>2</th>\n",
       "      <td>12442</td>\n",
       "    </tr>\n",
       "    <tr>\n",
       "      <th>3</th>\n",
       "      <td>11764</td>\n",
       "    </tr>\n",
       "    <tr>\n",
       "      <th>4</th>\n",
       "      <td>16648</td>\n",
       "    </tr>\n",
       "  </tbody>\n",
       "</table>\n",
       "</div>"
      ],
      "text/plain": [
       "    value\n",
       "mo       \n",
       "0   12142\n",
       "1   11559\n",
       "2   12442\n",
       "3   11764\n",
       "4   16648"
      ]
     },
     "execution_count": 101,
     "metadata": {},
     "output_type": "execute_result"
    }
   ],
   "source": [
    "trans_str = strw.T \n",
    "str_final = trans_str.reset_index()\n",
    "str_data = str_final.rename(columns={\"index\": \"month\", 0: \"value\"})\n",
    "str_data['mo'] = str_data.index\n",
    "str_fin=str_data[[\"mo\", \"value\"]]\n",
    "str_fin.index = str_fin.mo\n",
    "str_fin.drop('mo', axis=1, inplace=True)\n",
    "str_fin.head()"
   ]
  },
  {
   "cell_type": "code",
   "execution_count": 102,
   "metadata": {},
   "outputs": [],
   "source": [
    "value = str_fin[\"value\"].values\n",
    "seq_len = 10\n",
    "sequence_length = seq_len + 1\n",
    "\n",
    "result = []\n",
    "for index in range(len(value) - sequence_length):\n",
    "    result.append(value[index: index + sequence_length])"
   ]
  },
  {
   "cell_type": "code",
   "execution_count": 103,
   "metadata": {},
   "outputs": [
    {
     "data": {
      "text/plain": [
       "((33, 10, 1), (4, 10, 1))"
      ]
     },
     "execution_count": 103,
     "metadata": {},
     "output_type": "execute_result"
    }
   ],
   "source": [
    "normalized_data = []\n",
    "for window in result:\n",
    "    normalized_window = [((float(p) / float(window[0])) - 1) for p in window]\n",
    "    normalized_data.append(normalized_window)\n",
    "\n",
    "result = np.array(normalized_data)\n",
    "\n",
    "# split train and test data\n",
    "row = int(round(result.shape[0] * 0.9))\n",
    "train = result[:row, :]\n",
    "np.random.shuffle(train)\n",
    "\n",
    "x_train = train[:, :-1]\n",
    "x_train = np.reshape(x_train, (x_train.shape[0], x_train.shape[1], 1))\n",
    "y_train = train[:, -1]\n",
    "\n",
    "x_test = result[row:, :-1]\n",
    "x_test = np.reshape(x_test, (x_test.shape[0], x_test.shape[1], 1))\n",
    "y_test = result[row:, -1]\n",
    "\n",
    "x_train.shape, x_test.shape"
   ]
  },
  {
   "cell_type": "code",
   "execution_count": 104,
   "metadata": {},
   "outputs": [
    {
     "name": "stdout",
     "output_type": "stream",
     "text": [
      "_________________________________________________________________\n",
      "Layer (type)                 Output Shape              Param #   \n",
      "=================================================================\n",
      "lstm_19 (LSTM)               (None, 10, 10)            480       \n",
      "_________________________________________________________________\n",
      "lstm_20 (LSTM)               (None, 24)                3360      \n",
      "_________________________________________________________________\n",
      "dense_10 (Dense)             (None, 1)                 25        \n",
      "=================================================================\n",
      "Total params: 3,865\n",
      "Trainable params: 3,865\n",
      "Non-trainable params: 0\n",
      "_________________________________________________________________\n"
     ]
    }
   ],
   "source": [
    "model = Sequential()\n",
    "\n",
    "model.add(LSTM(10, return_sequences=True, input_shape=(10, 1)))\n",
    "\n",
    "model.add(LSTM(24, return_sequences=False))\n",
    "\n",
    "model.add(Dense(1, activation='linear'))\n",
    "\n",
    "model.compile(loss='mse', optimizer='rmsprop')\n",
    "\n",
    "model.summary()"
   ]
  },
  {
   "cell_type": "code",
   "execution_count": 105,
   "metadata": {},
   "outputs": [
    {
     "name": "stdout",
     "output_type": "stream",
     "text": [
      "Train on 33 samples, validate on 4 samples\n",
      "Epoch 1/20\n",
      "33/33 [==============================] - 4s 117ms/step - loss: 0.1008 - val_loss: 0.1289\n",
      "Epoch 2/20\n",
      "33/33 [==============================] - 0s 3ms/step - loss: 0.0964 - val_loss: 0.1313\n",
      "Epoch 3/20\n",
      "33/33 [==============================] - 0s 3ms/step - loss: 0.0932 - val_loss: 0.1308\n",
      "Epoch 4/20\n",
      "33/33 [==============================] - 0s 3ms/step - loss: 0.0927 - val_loss: 0.1295\n",
      "Epoch 5/20\n",
      "33/33 [==============================] - 0s 3ms/step - loss: 0.0908 - val_loss: 0.1281\n",
      "Epoch 6/20\n",
      "33/33 [==============================] - 0s 3ms/step - loss: 0.0890 - val_loss: 0.1251\n",
      "Epoch 7/20\n",
      "33/33 [==============================] - 0s 3ms/step - loss: 0.0885 - val_loss: 0.1203\n",
      "Epoch 8/20\n",
      "33/33 [==============================] - 0s 3ms/step - loss: 0.0865 - val_loss: 0.1255\n",
      "Epoch 9/20\n",
      "33/33 [==============================] - 0s 3ms/step - loss: 0.0858 - val_loss: 0.1231\n",
      "Epoch 10/20\n",
      "33/33 [==============================] - 0s 3ms/step - loss: 0.0843 - val_loss: 0.1189\n",
      "Epoch 11/20\n",
      "33/33 [==============================] - 0s 3ms/step - loss: 0.0831 - val_loss: 0.1228\n",
      "Epoch 12/20\n",
      "33/33 [==============================] - 0s 3ms/step - loss: 0.0834 - val_loss: 0.1173\n",
      "Epoch 13/20\n",
      "33/33 [==============================] - 0s 3ms/step - loss: 0.0819 - val_loss: 0.1077\n",
      "Epoch 14/20\n",
      "33/33 [==============================] - 0s 3ms/step - loss: 0.0802 - val_loss: 0.1002\n",
      "Epoch 15/20\n",
      "33/33 [==============================] - 0s 3ms/step - loss: 0.0779 - val_loss: 0.0942\n",
      "Epoch 16/20\n",
      "33/33 [==============================] - 0s 3ms/step - loss: 0.0761 - val_loss: 0.0956\n",
      "Epoch 17/20\n",
      "33/33 [==============================] - 0s 3ms/step - loss: 0.0741 - val_loss: 0.0977\n",
      "Epoch 18/20\n",
      "33/33 [==============================] - 0s 3ms/step - loss: 0.0725 - val_loss: 0.0882\n",
      "Epoch 19/20\n",
      "33/33 [==============================] - 0s 3ms/step - loss: 0.0704 - val_loss: 0.0878\n",
      "Epoch 20/20\n",
      "33/33 [==============================] - 0s 3ms/step - loss: 0.0687 - val_loss: 0.0868\n"
     ]
    },
    {
     "data": {
      "text/plain": [
       "<keras.callbacks.History at 0x1a3ca4e898>"
      ]
     },
     "execution_count": 105,
     "metadata": {},
     "output_type": "execute_result"
    }
   ],
   "source": [
    "model.fit(x_train, y_train,\n",
    "    validation_data=(x_test, y_test),\n",
    "    batch_size=10,\n",
    "    epochs=20)"
   ]
  },
  {
   "cell_type": "code",
   "execution_count": 106,
   "metadata": {},
   "outputs": [
    {
     "data": {
      "image/png": "[encoded data removed]",
      "text/plain": [
       "<Figure size 1440x720 with 1 Axes>"
      ]
     },
     "metadata": {},
     "output_type": "display_data"
    }
   ],
   "source": [
    "pred = model.predict(x_test)\n",
    "\n",
    "fig = plt.figure(facecolor='white', figsize=(20, 10))\n",
    "ax = fig.add_subplot(111)\n",
    "ax.plot(y_test, label='True')\n",
    "ax.plot(pred, label='Prediction')\n",
    "ax.legend()\n",
    "plt.show()"
   ]
  },
  {
   "cell_type": "code",
   "execution_count": null,
   "metadata": {},
   "outputs": [],
   "source": []
  }
 ],
 "metadata": {
  "kernel_info": {
   "name": "python3"
  },
  "kernelspec": {
   "display_name": "Python 3",
   "language": "python",
   "name": "python3"
  },
  "language_info": {
   "codemirror_mode": {
    "name": "ipython",
    "version": 3
   },
   "file_extension": ".py",
   "mimetype": "text/x-python",
   "name": "python",
   "nbconvert_exporter": "python",
   "pygments_lexer": "ipython3",
   "version": "3.7.3"
  },
  "nteract": {
   "version": "0.12.3"
  },
  "varInspector": {
   "cols": {
    "lenName": 16,
    "lenType": 16,
    "lenVar": 40
   },
   "kernels_config": {
    "python": {
     "delete_cmd_postfix": "",
     "delete_cmd_prefix": "del ",
     "library": "var_list.py",
     "varRefreshCmd": "print(var_dic_list())"
    },
    "r": {
     "delete_cmd_postfix": ") ",
     "delete_cmd_prefix": "rm(",
     "library": "var_list.r",
     "varRefreshCmd": "cat(var_dic_list()) "
    }
   },
   "types_to_exclude": [
    "module",
    "function",
    "builtin_function_or_method",
    "instance",
    "_Feature"
   ],
   "window_display": false
  }
 },
 "nbformat": 4,
 "nbformat_minor": 2
}
